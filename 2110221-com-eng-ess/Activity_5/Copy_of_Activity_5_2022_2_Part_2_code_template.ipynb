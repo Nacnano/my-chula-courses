{
  "nbformat": 4,
  "nbformat_minor": 0,
  "metadata": {
    "colab": {
      "provenance": []
    },
    "kernelspec": {
      "name": "python3",
      "display_name": "Python 3"
    },
    "language_info": {
      "name": "python"
    }
  },
  "cells": [
    {
      "cell_type": "markdown",
      "source": [
        "# Task 1"
      ],
      "metadata": {
        "id": "G_kTN-3Qpoy1"
      }
    },
    {
      "cell_type": "code",
      "source": [
        "## TODO: Copy the related data from the sensor and paste it here  \n",
        "data = [-9,0.46,0.02,-0.25,-0.46,0.76,-1.51,1.69,2.16,0.78,-2.17,2.15,1.95,0.33,-2.78,3.89,1.98,-0.66,-6.11,1,-0.78,-1.62,1.62,2.28,-3.8,4.47,2.27,-1.63,-2.87,0.95,-0.05,-1.95,1.42,2.22,-4.05,3.55,2.65,-2.96,-1.71,2.38,-2.12,-3.62,2.35,2.32,-0.91,1.39,3,-2.57,0,1.14,1.01,-1.24,3.82,1.21,-0.02,-4.88,0.57,1.9,-1.31,2.59,3.05,-2.34,-1.65,2.67,1.29,-5.66,2.49,2.61,-4.17,3.54,2.31,-2.67,3.01,2.25,-2.66,2.43,3.28,-5.06,1.24,3.83,-4.35,3.08,4.51,-5.49,3.73,4.13,-6,3.08,4.6,-5.74,3.62,4.07,-4.64,3.19,4.66,-4.73,2.82,5.38,-3.16,-3.55,3.65,-0.46,-5.4,1.29,1.22,0.4,-0.1,0.13,0.34,0.16,0.08,-0.2,0.07,0.62,0.15,0.52,-0.03]"
      ],
      "metadata": {
        "id": "xWOcYjktpuLc"
      },
      "execution_count": null,
      "outputs": []
    },
    {
      "cell_type": "code",
      "execution_count": null,
      "metadata": {
        "id": "oQBNurzPpDek",
        "colab": {
          "base_uri": "https://localhost:8080/"
        },
        "outputId": "d5b90386-a2f0-44c9-dbf7-5a0519670481"
      },
      "outputs": [
        {
          "output_type": "stream",
          "name": "stdout",
          "text": [
            "117\n",
            "Step count : 33\n"
          ]
        }
      ],
      "source": [
        "print(len(data))\n",
        "def count_number_of_steps(data):\n",
        "  number_of_steps = 0\n",
        "  isUp = False\n",
        "  for value in data:\n",
        "    if not isUp and value > 0:\n",
        "      number_of_steps += 1\n",
        "    isUp = value > 0\n",
        "\n",
        "  ## TODO:  Create an algorithm to count the number of steps\n",
        "  ##        using numeric data from the sensor.\n",
        "\n",
        "  return number_of_steps\n",
        "print(f'Step count : {count_number_of_steps(data[4:])}')"
      ]
    },
    {
      "cell_type": "code",
      "source": [
        "count_number_of_steps(data[4:])"
      ],
      "metadata": {
        "id": "ADhOZ213pqdR",
        "colab": {
          "base_uri": "https://localhost:8080/"
        },
        "outputId": "521a80af-71df-4336-b850-a82e92222324"
      },
      "execution_count": null,
      "outputs": [
        {
          "output_type": "execute_result",
          "data": {
            "text/plain": [
              "33"
            ]
          },
          "metadata": {},
          "execution_count": 17
        }
      ]
    },
    {
      "cell_type": "markdown",
      "source": [
        "# Task 2"
      ],
      "metadata": {
        "id": "65TG7_XXpqwO"
      }
    },
    {
      "cell_type": "code",
      "source": [
        "## TODO: Copy the related data from the sensor and paste it here  \n",
        "data = [0,100,100,99,72,61,51,37,52,75,105,128,106,75,54,47,41,55,77,108,131,110,97,69,56,44,59,81,108,130,109,74,56,48,35,49,72,96,122,108,80,58,46,37,44,66,92,118,119,96,70,55,43,39,59,84,115,134,109,81,66,56,46,54,73,98,119,110,83,66,54,39,45,69,96,119,119,95,71,58,44,36,52,73,100,123,119,96,74,59,45,37,49,72,97,116,125]\n"
      ],
      "metadata": {
        "id": "SxnJDuUopsOv"
      },
      "execution_count": null,
      "outputs": []
    },
    {
      "cell_type": "code",
      "source": [
        "def count_number_of_situp(data):\n",
        "  number_of_situp = 0\n",
        "  ## TODO:  Create an algorithm to count the number of times that\n",
        "  ##        person doing sit-ups using numeric data from the sensor.\n",
        "  isUp = False\n",
        "  for value in data:\n",
        "    if not isUp and value < 60:\n",
        "      number_of_situp += 1\n",
        "    isUp = (value < 60)\n",
        "\n",
        "  return number_of_situp\n",
        "print(f'Situp count : {count_number_of_situp(data[4:])}')"
      ],
      "metadata": {
        "id": "2uGrlKNmpsa7",
        "colab": {
          "base_uri": "https://localhost:8080/"
        },
        "outputId": "56059be5-4af3-451e-bd7d-991daeb184eb"
      },
      "execution_count": null,
      "outputs": [
        {
          "output_type": "stream",
          "name": "stdout",
          "text": [
            "Situp count : 10\n"
          ]
        }
      ]
    },
    {
      "cell_type": "code",
      "source": [
        "count_number_of_situp(data[4:])"
      ],
      "metadata": {
        "id": "VozTKjoLqX0V",
        "colab": {
          "base_uri": "https://localhost:8080/"
        },
        "outputId": "982e159f-80f1-4caf-c595-f07c5b6d6e0b"
      },
      "execution_count": null,
      "outputs": [
        {
          "output_type": "execute_result",
          "data": {
            "text/plain": [
              "10"
            ]
          },
          "metadata": {},
          "execution_count": 20
        }
      ]
    },
    {
      "cell_type": "code",
      "source": [],
      "metadata": {
        "id": "FoKK5Fy-N_pi"
      },
      "execution_count": null,
      "outputs": []
    }
  ]
}