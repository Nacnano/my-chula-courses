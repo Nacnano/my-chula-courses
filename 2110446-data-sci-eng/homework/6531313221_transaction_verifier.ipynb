{
  "cells": [
    {
      "cell_type": "code",
      "source": [
        "!pip install avro kafka-python"
      ],
      "metadata": {
        "colab": {
          "base_uri": "https://localhost:8080/"
        },
        "id": "U60cWO9Tb2aW",
        "outputId": "ff0bd247-2809-4573-c11d-1088c91cab7b"
      },
      "id": "U60cWO9Tb2aW",
      "execution_count": 2,
      "outputs": [
        {
          "output_type": "stream",
          "name": "stdout",
          "text": [
            "Collecting avro\n",
            "  Downloading avro-1.12.0-py2.py3-none-any.whl.metadata (1.7 kB)\n",
            "Collecting kafka-python\n",
            "  Downloading kafka_python-2.1.5-py2.py3-none-any.whl.metadata (9.2 kB)\n",
            "Downloading avro-1.12.0-py2.py3-none-any.whl (124 kB)\n",
            "\u001b[2K   \u001b[90m━━━━━━━━━━━━━━━━━━━━━━━━━━━━━━━━━━━━━━━━\u001b[0m \u001b[32m124.2/124.2 kB\u001b[0m \u001b[31m7.8 MB/s\u001b[0m eta \u001b[36m0:00:00\u001b[0m\n",
            "\u001b[?25hDownloading kafka_python-2.1.5-py2.py3-none-any.whl (285 kB)\n",
            "\u001b[2K   \u001b[90m━━━━━━━━━━━━━━━━━━━━━━━━━━━━━━━━━━━━━━━━\u001b[0m \u001b[32m285.4/285.4 kB\u001b[0m \u001b[31m22.1 MB/s\u001b[0m eta \u001b[36m0:00:00\u001b[0m\n",
            "\u001b[?25hInstalling collected packages: kafka-python, avro\n",
            "Successfully installed avro-1.12.0 kafka-python-2.1.5\n"
          ]
        }
      ]
    },
    {
      "cell_type": "code",
      "execution_count": 3,
      "id": "3d144bf2",
      "metadata": {
        "id": "3d144bf2"
      },
      "outputs": [],
      "source": [
        "# import required libraries\n",
        "from kafka import KafkaConsumer, KafkaProducer\n",
        "import avro.schema\n",
        "import avro.io\n",
        "import io\n",
        "import hashlib, json"
      ]
    },
    {
      "cell_type": "code",
      "execution_count": 4,
      "id": "6234ffde",
      "metadata": {
        "id": "6234ffde"
      },
      "outputs": [],
      "source": [
        "def serialize(schema, obj):\n",
        "    bytes_writer = io.BytesIO()\n",
        "    encoder = avro.io.BinaryEncoder(bytes_writer)\n",
        "    writer = avro.io.DatumWriter(schema)\n",
        "    writer.write(obj, encoder)\n",
        "    return bytes_writer.getvalue()"
      ]
    },
    {
      "cell_type": "code",
      "execution_count": 5,
      "id": "5e1434bb",
      "metadata": {
        "id": "5e1434bb"
      },
      "outputs": [],
      "source": [
        "def deserialize(schema, raw_bytes):\n",
        "    bytes_reader = io.BytesIO(raw_bytes)\n",
        "    decoder = avro.io.BinaryDecoder(bytes_reader)\n",
        "    reader = avro.io.DatumReader(schema)\n",
        "    return reader.read(decoder)"
      ]
    },
    {
      "cell_type": "code",
      "execution_count": 6,
      "id": "0e92e3e9",
      "metadata": {
        "id": "0e92e3e9"
      },
      "outputs": [],
      "source": [
        "schema_file = 'transaction.avsc'\n",
        "txschema = avro.schema.parse(open(schema_file).read())\n",
        "schema_file = 'submit.avsc'\n",
        "submitschema = avro.schema.parse(open(schema_file).read())\n",
        "schema_file = 'result.avsc'\n",
        "resultschema = avro.schema.parse(open(schema_file).read())"
      ]
    },
    {
      "cell_type": "code",
      "execution_count": 7,
      "id": "bcb5dc21",
      "metadata": {
        "id": "bcb5dc21"
      },
      "outputs": [],
      "source": [
        "# Connect to kafka broker running in your local host (docker). Change this to your kafka broker if needed\n",
        "kafka_broker = 'lab.aimet.tech:9092'"
      ]
    },
    {
      "cell_type": "code",
      "execution_count": 8,
      "id": "0e05b4b0",
      "metadata": {
        "id": "0e05b4b0"
      },
      "outputs": [],
      "source": [
        "producer = KafkaProducer(bootstrap_servers=[kafka_broker])"
      ]
    },
    {
      "cell_type": "code",
      "execution_count": 9,
      "id": "4a2555a3",
      "metadata": {
        "colab": {
          "base_uri": "https://localhost:8080/"
        },
        "id": "4a2555a3",
        "outputId": "a0e74a95-2d75-4ba3-cb7c-4a32929f2295"
      },
      "outputs": [
        {
          "output_type": "stream",
          "name": "stderr",
          "text": [
            "WARNING:kafka.coordinator.consumer:group_id is None: disabling auto-commit.\n",
            "WARNING:kafka.coordinator.consumer:group_id is None: disabling auto-commit.\n"
          ]
        }
      ],
      "source": [
        "txconsumer = KafkaConsumer(\n",
        "    'transaction',\n",
        "     bootstrap_servers=[kafka_broker],\n",
        "     enable_auto_commit=True,\n",
        "     value_deserializer=lambda x: deserialize(txschema, x))\n",
        "resultconsumer = KafkaConsumer(\n",
        "    'result',\n",
        "     bootstrap_servers=[kafka_broker],\n",
        "     enable_auto_commit=True,\n",
        "     value_deserializer=lambda x: deserialize(resultschema, x))"
      ]
    },
    {
      "cell_type": "code",
      "execution_count": 10,
      "id": "fe697a88",
      "metadata": {
        "id": "fe697a88"
      },
      "outputs": [],
      "source": [
        "def gen_signature(txid, payer, payee, amount, token):\n",
        "    o = {'txid': txid, 'payer': payer, 'payee': payee, 'amount': amount, 'token': token}\n",
        "    return hashlib.md5(json.dumps(o, sort_keys=True).encode('utf-8')).hexdigest()"
      ]
    },
    {
      "cell_type": "code",
      "execution_count": 11,
      "id": "b9915bcc",
      "metadata": {
        "id": "b9915bcc"
      },
      "outputs": [],
      "source": [
        "# Student credentials\n",
        "VID = \"V632456\"\n",
        "TOKEN = \"0cf778b3f1ad9c822ac66ff8c7409dc7\""
      ]
    },
    {
      "cell_type": "code",
      "execution_count": 12,
      "id": "e1ba2600",
      "metadata": {
        "id": "e1ba2600"
      },
      "outputs": [],
      "source": [
        "def verify_transactions():\n",
        "    print(\"Starting transaction verification process...\")\n",
        "\n",
        "    # 1. Read from transaction topic\n",
        "    for transaction_msg in txconsumer:\n",
        "        transaction = transaction_msg.value\n",
        "        txid = transaction['txid']\n",
        "        payer = transaction['payer']\n",
        "        payee = transaction['payee']\n",
        "        amount = transaction['amount']\n",
        "\n",
        "        print(f\"Received transaction: {txid}\")\n",
        "\n",
        "        # 2. Generate signature and submit verification\n",
        "        signature = gen_signature(txid, payer, payee, amount, TOKEN)\n",
        "\n",
        "        submit_msg = {\n",
        "            \"vid\": VID,\n",
        "            \"txid\": txid,\n",
        "            \"signature\": signature\n",
        "        }\n",
        "\n",
        "        # Serialize and send to submit topic\n",
        "        serialized_submit = serialize(submitschema, submit_msg)\n",
        "        producer.send('submit', value=serialized_submit)\n",
        "        print(f\"Submitted verification for txid: {txid}\")\n",
        "\n",
        "        # 3. Wait for result\n",
        "        for result_msg in resultconsumer:\n",
        "            result = result_msg.value\n",
        "            if result['vid'] == VID and result['txid'] == txid:\n",
        "                if result['code'] == 200:\n",
        "                    print(\"Verification successful!\")\n",
        "                    print(f\"Result details:\")\n",
        "                    print(f\"Timestamp: {result['timestamp']}\")\n",
        "                    print(f\"VID: {result['vid']}\")\n",
        "                    print(f\"TXID: {result['txid']}\")\n",
        "                    print(f\"Checksum: {result['checksum']}\")\n",
        "\n",
        "                    # This is what you'll submit to Courseville\n",
        "                    submission = {\n",
        "                        \"timestamp\": result['timestamp'],\n",
        "                        \"vid\": result['vid'],\n",
        "                        \"txid\": result['txid'],\n",
        "                        \"checksum\": result['checksum']\n",
        "                    }\n",
        "                    return submission\n",
        "                else:\n",
        "                    print(f\"Verification failed with code: {result['code']}\")\n",
        "                    print(f\"Message: {result['message']}\")\n",
        "                break\n"
      ]
    },
    {
      "cell_type": "code",
      "execution_count": 13,
      "id": "0e2d9e43",
      "metadata": {
        "colab": {
          "base_uri": "https://localhost:8080/"
        },
        "id": "0e2d9e43",
        "outputId": "924a00d1-6d87-48c4-ced2-a11dba02bf75"
      },
      "outputs": [
        {
          "output_type": "stream",
          "name": "stdout",
          "text": [
            "Starting transaction verification process...\n",
            "Received transaction: TX03118\n",
            "Submitted verification for txid: TX03118\n",
            "Verification successful!\n",
            "Result details:\n",
            "Timestamp: 1744099614\n",
            "VID: V632456\n",
            "TXID: TX03118\n",
            "Checksum: 82264f703e61c1dc7852a11ed2ed46da\n",
            "\n",
            "Submission for Courseville:\n",
            "{\n",
            "  \"timestamp\": 1744099614,\n",
            "  \"vid\": \"V632456\",\n",
            "  \"txid\": \"TX03118\",\n",
            "  \"checksum\": \"82264f703e61c1dc7852a11ed2ed46da\"\n",
            "}\n"
          ]
        }
      ],
      "source": [
        "result = verify_transactions()\n",
        "print(\"\\nSubmission for Courseville:\")\n",
        "print(json.dumps(result, indent=2))"
      ]
    }
  ],
  "metadata": {
    "kernelspec": {
      "display_name": "Python 3",
      "language": "python",
      "name": "python3"
    },
    "language_info": {
      "codemirror_mode": {
        "name": "ipython",
        "version": 3
      },
      "file_extension": ".py",
      "mimetype": "text/x-python",
      "name": "python",
      "nbconvert_exporter": "python",
      "pygments_lexer": "ipython3",
      "version": "3.11.9"
    },
    "colab": {
      "provenance": []
    }
  },
  "nbformat": 4,
  "nbformat_minor": 5
}