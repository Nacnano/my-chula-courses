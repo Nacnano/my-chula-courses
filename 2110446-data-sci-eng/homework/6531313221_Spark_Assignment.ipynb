{
  "cells": [
    {
      "cell_type": "markdown",
      "metadata": {
        "id": "EY_YZwHqF3cX"
      },
      "source": [
        "# Spark Preparation\n",
        "We check if we are in Google Colab.  If this is the case, install all necessary packages.\n",
        "\n",
        "To run spark in Colab, we need to first install all the dependencies in Colab environment i.e. Apache Spark 3.3.2 with hadoop 3.3, Java 8 and Findspark to locate the spark in the system. The tools installation can be carried out inside the Jupyter Notebook of the Colab.\n",
        "Learn more from [A Must-Read Guide on How to Work with PySpark on Google Colab for Data Scientists!](https://www.analyticsvidhya.com/blog/2020/11/a-must-read-guide-on-how-to-work-with-pyspark-on-google-colab-for-data-scientists/)"
      ]
    },
    {
      "cell_type": "code",
      "execution_count": 1,
      "metadata": {
        "id": "zoFy-OrwF3cb"
      },
      "outputs": [],
      "source": [
        "try:\n",
        "  import google.colab\n",
        "  IN_COLAB = True\n",
        "except:\n",
        "  IN_COLAB = False"
      ]
    },
    {
      "cell_type": "code",
      "execution_count": 7,
      "metadata": {
        "id": "nwTIglh1F3cc"
      },
      "outputs": [],
      "source": [
        "if IN_COLAB:\n",
        "    !apt-get install openjdk-8-jdk-headless -qq > /dev/null\n",
        "    !wget -q https://dlcdn.apache.org/spark/spark-3.5.5/spark-3.5.5-bin-hadoop3.tgz\n",
        "    !tar xf spark-3.5.5-bin-hadoop3.tgz\n",
        "    !mv spark-3.5.5-bin-hadoop3 spark\n",
        "    !pip install -q findspark\n",
        "    import os\n",
        "    os.environ[\"JAVA_HOME\"] = \"/usr/lib/jvm/java-8-openjdk-amd64\"\n",
        "    os.environ[\"SPARK_HOME\"] = \"/content/spark\""
      ]
    },
    {
      "cell_type": "markdown",
      "metadata": {
        "id": "TVheV0wUF3cd"
      },
      "source": [
        "# Start a Local Cluster"
      ]
    },
    {
      "cell_type": "code",
      "execution_count": 8,
      "metadata": {
        "id": "i8NjfoBZF3ce"
      },
      "outputs": [],
      "source": [
        "import findspark\n",
        "findspark.init()\n",
        "\n",
        "from pyspark.sql import SparkSession\n",
        "\n",
        "spark = SparkSession.builder \\\n",
        "    .master(\"local[*]\") \\\n",
        "    .appName(\"Movie Analysis\") \\\n",
        "    .getOrCreate()"
      ]
    },
    {
      "cell_type": "markdown",
      "metadata": {
        "id": "_C73BuqYF3ce"
      },
      "source": [
        "# Spark Assignment\n",
        "\n",
        "Based on the movie review dataset in 'netflix-rotten-tomatoes-metacritic-imdb.csv', answer the below questions.\n",
        "\n",
        "**Note:** do not clean or remove missing data"
      ]
    },
    {
      "cell_type": "code",
      "execution_count": 14,
      "metadata": {
        "id": "XKn_GLDnF3cf"
      },
      "outputs": [],
      "source": [
        "df = spark.read.option(\"header\", \"true\").csv(\"netflix-rotten-tomatoes-metacritic-imdb.csv\")"
      ]
    },
    {
      "cell_type": "markdown",
      "metadata": {
        "id": "DC78LSC9F3cf"
      },
      "source": [
        "## What is the maximum and average of the overall hidden gem score?"
      ]
    },
    {
      "cell_type": "code",
      "execution_count": 15,
      "metadata": {
        "colab": {
          "base_uri": "https://localhost:8080/"
        },
        "id": "OWgbSiT-F3cf",
        "outputId": "df13d8ab-ec55-4858-da29-23786bbbe6ed"
      },
      "outputs": [
        {
          "output_type": "stream",
          "name": "stdout",
          "text": [
            "Maximum and Average Hidden Gem Score:\n",
            "+--------------+-----------------+\n",
            "|max_hidden_gem|   avg_hidden_gem|\n",
            "+--------------+-----------------+\n",
            "|           9.8|5.937551386501232|\n",
            "+--------------+-----------------+\n",
            "\n"
          ]
        }
      ],
      "source": [
        "from pyspark.sql.functions import max, avg, col\n",
        "\n",
        "hidden_gem_stats = df.select(\n",
        "    max(col(\"Hidden Gem Score\")).alias(\"max_hidden_gem\"),\n",
        "    avg(col(\"Hidden Gem Score\")).alias(\"avg_hidden_gem\")\n",
        ")\n",
        "\n",
        "print(\"Maximum and Average Hidden Gem Score:\")\n",
        "hidden_gem_stats.show()"
      ]
    },
    {
      "cell_type": "markdown",
      "metadata": {
        "id": "0Wh3EkQMF3cf"
      },
      "source": [
        "## How many movies that are available in Korea?"
      ]
    },
    {
      "cell_type": "code",
      "execution_count": 16,
      "metadata": {
        "colab": {
          "base_uri": "https://localhost:8080/"
        },
        "id": "grrrD3iTF3cg",
        "outputId": "bb300d1c-d711-4872-f3a9-cc52e5e2bbef"
      },
      "outputs": [
        {
          "output_type": "stream",
          "name": "stdout",
          "text": [
            "Number of movies available in Korea: 4845\n"
          ]
        }
      ],
      "source": [
        "from pyspark.sql.functions import col\n",
        "\n",
        "korea_count = df.filter(col(\"Country Availability\").contains(\"Korea\")).count()\n",
        "\n",
        "print(f\"Number of movies available in Korea: {korea_count}\")"
      ]
    },
    {
      "cell_type": "markdown",
      "metadata": {
        "id": "zJVvj2f4F3cg"
      },
      "source": [
        "## Which director has the highest average hidden gem score?"
      ]
    },
    {
      "cell_type": "code",
      "execution_count": 17,
      "metadata": {
        "colab": {
          "base_uri": "https://localhost:8080/"
        },
        "id": "1z_dKY_IF3cg",
        "outputId": "afdcefd4-6308-489f-b551-276e848dfd8d"
      },
      "outputs": [
        {
          "output_type": "stream",
          "name": "stdout",
          "text": [
            "Director with highest average hidden gem score:\n",
            "+-----------+--------------------+\n",
            "|   Director|avg_hidden_gem_score|\n",
            "+-----------+--------------------+\n",
            "|Dorin Marcu|                 9.8|\n",
            "+-----------+--------------------+\n",
            "\n"
          ]
        }
      ],
      "source": [
        "from pyspark.sql.functions import mean\n",
        "\n",
        "director_scores = df.groupBy(\"Director\") \\\n",
        "    .agg(mean(\"Hidden Gem Score\").alias(\"avg_hidden_gem_score\")) \\\n",
        "    .orderBy(col(\"avg_hidden_gem_score\").desc()) \\\n",
        "    .limit(1)\n",
        "\n",
        "print(\"Director with highest average hidden gem score:\")\n",
        "director_scores.show()"
      ]
    },
    {
      "cell_type": "markdown",
      "metadata": {
        "id": "_Gld5qoJF3cg"
      },
      "source": [
        "## How many genres are there in the dataset?"
      ]
    },
    {
      "cell_type": "code",
      "execution_count": 18,
      "metadata": {
        "colab": {
          "base_uri": "https://localhost:8080/"
        },
        "id": "g1iAADI9F3ch",
        "outputId": "a4096c8b-1a4a-4239-9318-78964a9d702f"
      },
      "outputs": [
        {
          "output_type": "stream",
          "name": "stdout",
          "text": [
            "Number of unique genres: 28\n"
          ]
        }
      ],
      "source": [
        "from pyspark.sql.functions import split, explode\n",
        "\n",
        "genre_count = df.select(\n",
        "    explode(split(col(\"Genre\"), \", \")).alias(\"genre\")\n",
        ").distinct().count()\n",
        "\n",
        "print(f\"Number of unique genres: {genre_count}\")"
      ]
    },
    {
      "cell_type": "code",
      "source": [
        "spark.stop()"
      ],
      "metadata": {
        "id": "iPkCj_ntHNrH"
      },
      "execution_count": 19,
      "outputs": []
    }
  ],
  "metadata": {
    "kernelspec": {
      "display_name": "Python 3 (ipykernel)",
      "language": "python",
      "name": "python3"
    },
    "language_info": {
      "codemirror_mode": {
        "name": "ipython",
        "version": 3
      },
      "file_extension": ".py",
      "mimetype": "text/x-python",
      "name": "python",
      "nbconvert_exporter": "python",
      "pygments_lexer": "ipython3",
      "version": "3.9.13"
    },
    "toc": {
      "base_numbering": 1,
      "nav_menu": {},
      "number_sections": true,
      "sideBar": true,
      "skip_h1_title": false,
      "title_cell": "Table of Contents",
      "title_sidebar": "Contents",
      "toc_cell": false,
      "toc_position": {},
      "toc_section_display": true,
      "toc_window_display": false
    },
    "varInspector": {
      "cols": {
        "lenName": 16,
        "lenType": 16,
        "lenVar": 40
      },
      "kernels_config": {
        "python": {
          "delete_cmd_postfix": "",
          "delete_cmd_prefix": "del ",
          "library": "var_list.py",
          "varRefreshCmd": "print(var_dic_list())"
        },
        "r": {
          "delete_cmd_postfix": ") ",
          "delete_cmd_prefix": "rm(",
          "library": "var_list.r",
          "varRefreshCmd": "cat(var_dic_list()) "
        }
      },
      "types_to_exclude": [
        "module",
        "function",
        "builtin_function_or_method",
        "instance",
        "_Feature"
      ],
      "window_display": false
    },
    "colab": {
      "provenance": []
    }
  },
  "nbformat": 4,
  "nbformat_minor": 0
}