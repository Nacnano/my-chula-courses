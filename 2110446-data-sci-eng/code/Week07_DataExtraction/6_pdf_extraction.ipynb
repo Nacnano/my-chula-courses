{
 "cells": [
  {
   "cell_type": "markdown",
   "id": "e8561266",
   "metadata": {},
   "source": [
    "# PDF Extraction\n",
    "\n",
    "PyPDF2 is an excellent PDF manipulating package in python.  It provides several capabilities include:\n",
    "- Read a PDF file\n",
    "- Extract text and other information\n",
    "- Manipulate PDF file e.g. rotate, merge, split, etc."
   ]
  },
  {
   "cell_type": "markdown",
   "id": "06e90c46",
   "metadata": {},
   "source": [
    "We must first install the package:\n",
    "```\n",
    "pip install PyPDF2\n",
    "```\n",
    "Once installed, we can import PyPDF2 into our program."
   ]
  },
  {
   "cell_type": "code",
   "execution_count": 2,
   "id": "53c52638",
   "metadata": {},
   "outputs": [],
   "source": [
    "from PyPDF2 import PdfReader"
   ]
  },
  {
   "cell_type": "markdown",
   "id": "e6699de8",
   "metadata": {},
   "source": [
    "Read a sample file, 'ee_status.pdf', then count number of pages, and print out metadata"
   ]
  },
  {
   "cell_type": "code",
   "execution_count": 4,
   "id": "e7b36c62",
   "metadata": {},
   "outputs": [],
   "source": [
    "reader = PdfReader('ee_status.pdf')"
   ]
  },
  {
   "cell_type": "code",
   "execution_count": 5,
   "id": "2b5b8bc9",
   "metadata": {
    "scrolled": true
   },
   "outputs": [
    {
     "data": {
      "text/plain": [
       "20"
      ]
     },
     "execution_count": 5,
     "metadata": {},
     "output_type": "execute_result"
    }
   ],
   "source": [
    "len(reader.pages)"
   ]
  },
  {
   "cell_type": "code",
   "execution_count": 6,
   "id": "3df70309",
   "metadata": {},
   "outputs": [
    {
     "name": "stdout",
     "output_type": "stream",
     "text": [
      "ABC\n",
      "Microsoft® Word 2019\n",
      "3-Heights(TM) PDF Security Shell 4.8.25.2 (http://www.pdf-tools.com) / pdcat (www.pdf-tools.com)\n",
      "None\n",
      "คำนำ\n"
     ]
    }
   ],
   "source": [
    "meta = reader.metadata\n",
    "print(meta.author)\n",
    "print(meta.creator)\n",
    "print(meta.producer)\n",
    "print(meta.subject)\n",
    "print(meta.title)"
   ]
  },
  {
   "cell_type": "markdown",
   "id": "ff3bd5f6",
   "metadata": {},
   "source": [
    "Extract text from pages 2"
   ]
  },
  {
   "cell_type": "code",
   "execution_count": 11,
   "id": "c8594956",
   "metadata": {},
   "outputs": [],
   "source": [
    "page = reader.pages[9]"
   ]
  },
  {
   "cell_type": "code",
   "execution_count": 12,
   "id": "dfb762d8",
   "metadata": {},
   "outputs": [
    {
     "name": "stdout",
     "output_type": "stream",
     "text": [
      "7 \n",
      " อัตราการเติบโต และสัดส่วนหน่วยขายของสาขาธุรกิจ และอุตสาหกรรม ที่มีสัดส่วนสูง 10 อันดับแรก  \n",
      "  \n",
      "กลุ่มธุรกิจ  สัดส่วนต่อ  อัตรา\n",
      "เพิ่ม/ลด  \n",
      "ม.ค. กลุ่มอุตสาหกรรม  สัดส่วนต่อ  อัตรา   \n",
      "เพิ่ม/ลด  \n",
      "ม.ค. ธุรกิจ อุตสาหกรรม  \n",
      "ม.ค. ม.ค. \n",
      "ร้อยละ  ร้อยละ  ร้อยละ  ร้อยละ  \n",
      "1 อพาร์ทเมนท์/เกสต์เฮ้าส์ 11.60 17.71  อาหารแปรรูป  11.83  -3.64 \n",
      "2 ห้างสรรพสินค้า  10.87 1.87 ผลิตเหล็กและโลหะพื้นฐาน  8.98 -5.32 \n",
      "3 ร้านขายปลีก  8.42 7.59 อุปกรณ์อิเล็กทรอนิกส์ 8.82 -3.26 \n",
      "4 โรงแรม  8.38 5.76 ผลิตแก้วและอโลหะ  7.91 4.85 \n",
      "5 สถานศึกษา  6.45 5.63 เกษตรและเหมืองแร่  7.54 3.28 \n",
      "6 ร้านขายส่ง  6.28 3.19 ยานยนต์  6.70 -8.93 \n",
      "7 อาคารสำนักงานให้เช่า  6.16 2.43 พลาสติก  6.58 -1.80 \n",
      "8 โรงพยาบาลทั่วไป  5.82 10.46  อุตสาหกรรมโลหะ\n",
      "เครื่องจักร  6.42 -3.18 \n",
      "9 ราชการ  5.75 8.92 สิ่งทอ 5.44 -9.30 \n",
      "10 โกดังเก็บสินค้า  3.67 2.80 ผลิตภัณฑ์ยาง  4.80 -4.69 \n",
      " \n",
      "2. การใช้ไฟฟ้าของการไฟฟ้านครหลวง  \n",
      "2.1 การ ื้อไฟฟ้า และความต้องการพลังไฟฟ้าสูงสุด  \n",
      " หน่วยซื้อไฟฟ้าของ กฟน. ประจำเดือน ม.ค. 63 เท่ากับ 4,515.80 ล้านหน่วย เพิ่มขึ้นร้อยละ 7.29 \n",
      "เมื่อเปรียบเทียบกับเดือนเดียวกันของปีที่แล้ว  จำแนกเป็นหน่วยซื้อไฟฟ้าจาก กฟผ. และหน่วยที่รับซื้อจาก VSPP\n",
      "เท่ากับ 4,508.91 และ 6.89 ล้านหน่วย ตามลำดับ  \n",
      "การซื้อไฟฟ้าจาก กฟผ. ประจำเดือน ม.ค. 63 มีสัดส่วนการซื้อไฟฟ้าในช่วง On Peak เท่ากับร้อยละ\n",
      "45.23 ลดลงเมื่อเปรียบเทียบกับเดือนเดียวกันของปีที่แล้ว  ซึ่งสัดส่วนดังกล่าวอยู่ที่ระดับร้อยละ 45.86 สำหรับ  \n",
      "สำหรับสัดส่วนการซื้อไฟฟ้า  กฟผ. ณ ระดับแรงดัน 230 เควี ในเดือน ม.ค. 63 เท่ากับร้อยละ 13.89\n",
      "ลดลงเมื่อเปรียบเทียบกับเดือน เดียวกันของปีที่แล้ว  ซึ่งสัดส่วนดังกล่าวอยู่ที่ระดับร้อยละ 14.39  \n"
     ]
    }
   ],
   "source": [
    "text = page.extract_text()\n",
    "print(text)"
   ]
  },
  {
   "cell_type": "code",
   "execution_count": null,
   "id": "9c15cecc",
   "metadata": {},
   "outputs": [],
   "source": []
  }
 ],
 "metadata": {
  "kernelspec": {
   "display_name": "Python 3 (ipykernel)",
   "language": "python",
   "name": "python3"
  },
  "language_info": {
   "codemirror_mode": {
    "name": "ipython",
    "version": 3
   },
   "file_extension": ".py",
   "mimetype": "text/x-python",
   "name": "python",
   "nbconvert_exporter": "python",
   "pygments_lexer": "ipython3",
   "version": "3.11.5"
  }
 },
 "nbformat": 4,
 "nbformat_minor": 5
}
