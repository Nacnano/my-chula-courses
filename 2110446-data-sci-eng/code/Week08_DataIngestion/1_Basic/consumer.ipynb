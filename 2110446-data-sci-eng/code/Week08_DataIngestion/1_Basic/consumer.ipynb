{
 "cells": [
  {
   "cell_type": "code",
   "execution_count": 1,
   "metadata": {},
   "outputs": [],
   "source": [
    "# import required libraries\n",
    "from kafka import KafkaConsumer"
   ]
  },
  {
   "cell_type": "code",
   "execution_count": 2,
   "metadata": {},
   "outputs": [],
   "source": [
    "# Connect to kafka broker running in your local host (docker). Change this to your kafka broker if needed\n",
    "kafka_broker = 'localhost:9092'"
   ]
  },
  {
   "cell_type": "code",
   "execution_count": 3,
   "metadata": {},
   "outputs": [],
   "source": [
    "consumer = KafkaConsumer(\n",
    "    'sample',\n",
    "    bootstrap_servers=[kafka_broker],\n",
    "    enable_auto_commit=True,\n",
    "    value_deserializer=lambda x: x.decode('utf-8'))"
   ]
  },
  {
   "cell_type": "code",
   "execution_count": null,
   "metadata": {},
   "outputs": [
    {
     "name": "stdout",
     "output_type": "stream",
     "text": [
      "Running Consumer\n",
      "[1741677090447:26] message #26 from producer-0\n",
      "[1741677092452:27] message #27 from producer-0\n",
      "[1741677094458:28] message #28 from producer-0\n",
      "[1741677096466:29] message #29 from producer-0\n",
      "[1741677098470:30] message #30 from producer-0\n",
      "[1741677100471:31] message #31 from producer-0\n",
      "[1741677102472:32] message #32 from producer-0\n",
      "[1741677104474:33] message #33 from producer-0\n",
      "[1741677106479:34] message #34 from producer-0\n",
      "[1741677108487:35] message #35 from producer-0\n",
      "[1741677110489:36] message #36 from producer-0\n",
      "[1741677112494:37] message #37 from producer-0\n",
      "[1741677114497:38] message #38 from producer-0\n",
      "[1741677116510:39] message #39 from producer-0\n",
      "[1741677118516:40] message #40 from producer-0\n",
      "[1741677120520:41] message #41 from producer-0\n",
      "[1741677122526:42] message #42 from producer-0\n",
      "[1741677124532:43] message #43 from producer-0\n",
      "[1741677126537:44] message #44 from producer-0\n",
      "[1741677128543:45] message #45 from producer-0\n",
      "[1741677130549:46] message #46 from producer-0\n",
      "[1741677132554:47] message #47 from producer-0\n",
      "[1741677134556:48] message #48 from producer-0\n",
      "[1741677136562:49] message #49 from producer-0\n",
      "[1741677138565:50] message #50 from producer-0\n",
      "[1741677140571:51] message #51 from producer-0\n",
      "[1741677142576:52] message #52 from producer-0\n",
      "[1741677144578:53] message #53 from producer-0\n",
      "[1741677146583:54] message #54 from producer-0\n",
      "[1741677148586:55] message #55 from producer-0\n",
      "[1741677150591:56] message #56 from producer-0\n",
      "[1741677152596:57] message #57 from producer-0\n",
      "[1741677154602:58] message #58 from producer-0\n",
      "[1741677156606:59] message #59 from producer-0\n",
      "[1741677158614:60] message #60 from producer-0\n",
      "[1741677160619:61] message #61 from producer-0\n",
      "[1741677162624:62] message #62 from producer-0\n",
      "[1741677164632:63] message #63 from producer-0\n",
      "[1741677166635:64] message #64 from producer-0\n",
      "[1741677168640:65] message #65 from producer-0\n",
      "[1741677170646:66] message #66 from producer-0\n",
      "[1741677172651:67] message #67 from producer-0\n",
      "[1741677174663:68] message #68 from producer-0\n",
      "[1741677176669:69] message #69 from producer-0\n",
      "[1741677178673:70] message #70 from producer-0\n",
      "[1741677180676:71] message #71 from producer-0\n",
      "[1741677182683:72] message #72 from producer-0\n",
      "[1741677184696:73] message #73 from producer-0\n",
      "[1741677186704:74] message #74 from producer-0\n",
      "[1741677188713:75] message #75 from producer-0\n",
      "[1741677190718:76] message #76 from producer-0\n",
      "[1741677192722:77] message #77 from producer-0\n",
      "[1741677194727:78] message #78 from producer-0\n",
      "[1741677196734:79] message #79 from producer-0\n",
      "[1741677198739:80] message #80 from producer-0\n",
      "[1741677200743:81] message #81 from producer-0\n",
      "[1741677202746:82] message #82 from producer-0\n",
      "[1741677204751:83] message #83 from producer-0\n",
      "[1741677206758:84] message #84 from producer-0\n",
      "[1741677208760:85] message #85 from producer-0\n",
      "[1741677210765:86] message #86 from producer-0\n",
      "[1741677212771:87] message #87 from producer-0\n",
      "[1741677214774:88] message #88 from producer-0\n",
      "[1741677216781:89] message #89 from producer-0\n",
      "[1741677218783:90] message #90 from producer-0\n",
      "[1741677219014:91] message #0 from another producer\n",
      "[1741677220790:92] message #91 from producer-0\n",
      "[1741677222021:93] message #1 from another producer\n",
      "[1741677222794:94] message #92 from producer-0\n",
      "[1741677224798:95] message #93 from producer-0\n",
      "[1741677225029:96] message #2 from another producer\n",
      "[1741677226799:97] message #94 from producer-0\n",
      "[1741677228033:98] message #3 from another producer\n",
      "[1741677228802:99] message #95 from producer-0\n",
      "[1741677230805:100] message #96 from producer-0\n",
      "[1741677231039:101] message #4 from another producer\n",
      "[1741677232811:102] message #97 from producer-0\n",
      "[1741677234045:103] message #5 from another producer\n",
      "[1741677234813:104] message #98 from producer-0\n",
      "[1741677236817:105] message #99 from producer-0\n",
      "[1741677237050:106] message #6 from another producer\n",
      "[1741677240056:107] message #7 from another producer\n",
      "[1741677243057:108] message #8 from another producer\n",
      "[1741677246061:109] message #9 from another producer\n",
      "[1741677249064:110] message #10 from another producer\n",
      "[1741677252069:111] message #11 from another producer\n",
      "[1741677255072:112] message #12 from another producer\n",
      "[1741677258078:113] message #13 from another producer\n",
      "[1741677261084:114] message #14 from another producer\n",
      "[1741677264090:115] message #15 from another producer\n",
      "[1741677267095:116] message #16 from another producer\n",
      "[1741677270099:117] message #17 from another producer\n",
      "[1741677273105:118] message #18 from another producer\n",
      "[1741677276109:119] message #19 from another producer\n",
      "[1741677279114:120] message #20 from another producer\n",
      "[1741677282120:121] message #21 from another producer\n",
      "[1741677285126:122] message #22 from another producer\n",
      "[1741677288132:123] message #23 from another producer\n",
      "[1741677291139:124] message #24 from another producer\n",
      "[1741677294144:125] message #25 from another producer\n"
     ]
    }
   ],
   "source": [
    "print('Running Consumer')\n",
    "for message in consumer:\n",
    "    print('[{}:{}] {}'.format(message.timestamp, message.offset, message.value))"
   ]
  },
  {
   "cell_type": "code",
   "execution_count": null,
   "metadata": {},
   "outputs": [],
   "source": []
  },
  {
   "cell_type": "code",
   "execution_count": null,
   "metadata": {},
   "outputs": [],
   "source": []
  }
 ],
 "metadata": {
  "kernelspec": {
   "display_name": "Python 3 (ipykernel)",
   "language": "python",
   "name": "python3"
  },
  "language_info": {
   "codemirror_mode": {
    "name": "ipython",
    "version": 3
   },
   "file_extension": ".py",
   "mimetype": "text/x-python",
   "name": "python",
   "nbconvert_exporter": "python",
   "pygments_lexer": "ipython3",
   "version": "3.11.5"
  },
  "toc": {
   "base_numbering": 1,
   "nav_menu": {},
   "number_sections": true,
   "sideBar": true,
   "skip_h1_title": false,
   "title_cell": "Table of Contents",
   "title_sidebar": "Contents",
   "toc_cell": false,
   "toc_position": {},
   "toc_section_display": true,
   "toc_window_display": false
  },
  "varInspector": {
   "cols": {
    "lenName": 16,
    "lenType": 16,
    "lenVar": 40
   },
   "kernels_config": {
    "python": {
     "delete_cmd_postfix": "",
     "delete_cmd_prefix": "del ",
     "library": "var_list.py",
     "varRefreshCmd": "print(var_dic_list())"
    },
    "r": {
     "delete_cmd_postfix": ") ",
     "delete_cmd_prefix": "rm(",
     "library": "var_list.r",
     "varRefreshCmd": "cat(var_dic_list()) "
    }
   },
   "types_to_exclude": [
    "module",
    "function",
    "builtin_function_or_method",
    "instance",
    "_Feature"
   ],
   "window_display": false
  }
 },
 "nbformat": 4,
 "nbformat_minor": 4
}
