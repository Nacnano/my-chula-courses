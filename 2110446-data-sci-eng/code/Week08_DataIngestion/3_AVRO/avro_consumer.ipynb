{
 "cells": [
  {
   "cell_type": "code",
   "execution_count": 1,
   "metadata": {},
   "outputs": [],
   "source": [
    "# import required libraries\n",
    "from kafka import KafkaConsumer"
   ]
  },
  {
   "cell_type": "code",
   "execution_count": 2,
   "metadata": {},
   "outputs": [],
   "source": [
    "import avro.schema\n",
    "import avro.io\n",
    "import io"
   ]
  },
  {
   "cell_type": "code",
   "execution_count": 3,
   "metadata": {},
   "outputs": [],
   "source": [
    "schema_file = 'sample.avsc'\n",
    "schema = avro.schema.parse(open(schema_file).read())"
   ]
  },
  {
   "cell_type": "code",
   "execution_count": 4,
   "metadata": {},
   "outputs": [],
   "source": [
    "def deserialize(schema, raw_bytes):\n",
    "    bytes_reader = io.BytesIO(raw_bytes)\n",
    "    decoder = avro.io.BinaryDecoder(bytes_reader)\n",
    "    reader = avro.io.DatumReader(schema)\n",
    "    return reader.read(decoder)"
   ]
  },
  {
   "cell_type": "code",
   "execution_count": 5,
   "metadata": {},
   "outputs": [],
   "source": [
    "# Connect to kafka broker running in your local host (docker). Change this to your kafka broker if needed\n",
    "kafka_broker = 'localhost:9092'"
   ]
  },
  {
   "cell_type": "code",
   "execution_count": 6,
   "metadata": {},
   "outputs": [],
   "source": [
    "consumer = KafkaConsumer(\n",
    "    'avro',\n",
    "     bootstrap_servers=[kafka_broker],\n",
    "     enable_auto_commit=True,\n",
    "     value_deserializer=lambda x: deserialize(schema, x))"
   ]
  },
  {
   "cell_type": "code",
   "execution_count": null,
   "metadata": {},
   "outputs": [
    {
     "name": "stdout",
     "output_type": "stream",
     "text": [
      "Running Consumer with AVRO\n",
      "{'key': 'key0', 'value': 'message #0', 'timestamp': 1729321899924}\n",
      "{'key': 'key1', 'value': 'message #1', 'timestamp': 1729321901930}\n",
      "{'key': 'key2', 'value': 'message #2', 'timestamp': 1729321903932}\n",
      "{'key': 'key3', 'value': 'message #3', 'timestamp': 1729321905939}\n",
      "{'key': 'key4', 'value': 'message #4', 'timestamp': 1729321907943}\n",
      "{'key': 'key5', 'value': 'message #5', 'timestamp': 1729321909947}\n",
      "{'key': 'key6', 'value': 'message #6', 'timestamp': 1729321911950}\n",
      "{'key': 'key7', 'value': 'message #7', 'timestamp': 1729321913957}\n",
      "{'key': 'key8', 'value': 'message #8', 'timestamp': 1729321915969}\n",
      "{'key': 'key9', 'value': 'message #9', 'timestamp': 1729321917974}\n",
      "{'key': 'key10', 'value': 'message #10', 'timestamp': 1729321919981}\n",
      "{'key': 'key11', 'value': 'message #11', 'timestamp': 1729321921985}\n",
      "{'key': 'key12', 'value': 'message #12', 'timestamp': 1729321923992}\n",
      "{'key': 'key13', 'value': 'message #13', 'timestamp': 1729321925997}\n",
      "{'key': 'key14', 'value': 'message #14', 'timestamp': 1729321928004}\n",
      "{'key': 'key15', 'value': 'message #15', 'timestamp': 1729321930012}\n",
      "{'key': 'key16', 'value': 'message #16', 'timestamp': 1729321932019}\n",
      "{'key': 'key17', 'value': 'message #17', 'timestamp': 1729321934024}\n",
      "{'key': 'key18', 'value': 'message #18', 'timestamp': 1729321936031}\n",
      "{'key': 'key19', 'value': 'message #19', 'timestamp': 1729321938036}\n",
      "{'key': 'key20', 'value': 'message #20', 'timestamp': 1729321940041}\n",
      "{'key': 'key21', 'value': 'message #21', 'timestamp': 1729321942043}\n",
      "{'key': 'key22', 'value': 'message #22', 'timestamp': 1729321944052}\n",
      "{'key': 'key23', 'value': 'message #23', 'timestamp': 1729321946056}\n",
      "{'key': 'key24', 'value': 'message #24', 'timestamp': 1729321948063}\n",
      "{'key': 'key25', 'value': 'message #25', 'timestamp': 1729321950069}\n",
      "{'key': 'key26', 'value': 'message #26', 'timestamp': 1729321952075}\n",
      "{'key': 'key27', 'value': 'message #27', 'timestamp': 1729321954083}\n",
      "{'key': 'key28', 'value': 'message #28', 'timestamp': 1729321956089}\n",
      "{'key': 'key29', 'value': 'message #29', 'timestamp': 1729321958094}\n",
      "{'key': 'key30', 'value': 'message #30', 'timestamp': 1729321960100}\n",
      "{'key': 'key31', 'value': 'message #31', 'timestamp': 1729321962105}\n",
      "{'key': 'key32', 'value': 'message #32', 'timestamp': 1729321964112}\n",
      "{'key': 'key33', 'value': 'message #33', 'timestamp': 1729321966117}\n",
      "{'key': 'key34', 'value': 'message #34', 'timestamp': 1729321968122}\n",
      "{'key': 'key35', 'value': 'message #35', 'timestamp': 1729321970126}\n",
      "{'key': 'key36', 'value': 'message #36', 'timestamp': 1729321972133}\n",
      "{'key': 'key37', 'value': 'message #37', 'timestamp': 1729321974137}\n",
      "{'key': 'key38', 'value': 'message #38', 'timestamp': 1729321976142}\n",
      "{'key': 'key39', 'value': 'message #39', 'timestamp': 1729321978147}\n",
      "{'key': 'key40', 'value': 'message #40', 'timestamp': 1729321980151}\n",
      "{'key': 'key41', 'value': 'message #41', 'timestamp': 1729321982154}\n",
      "{'key': 'key42', 'value': 'message #42', 'timestamp': 1729321984163}\n",
      "{'key': 'key43', 'value': 'message #43', 'timestamp': 1729321986170}\n",
      "{'key': 'key44', 'value': 'message #44', 'timestamp': 1729321988176}\n",
      "{'key': 'key45', 'value': 'message #45', 'timestamp': 1729321990186}\n",
      "{'key': 'key46', 'value': 'message #46', 'timestamp': 1729321992192}\n",
      "{'key': 'key47', 'value': 'message #47', 'timestamp': 1729321994196}\n",
      "{'key': 'key48', 'value': 'message #48', 'timestamp': 1729321996204}\n",
      "{'key': 'key49', 'value': 'message #49', 'timestamp': 1729321998209}\n",
      "{'key': 'key50', 'value': 'message #50', 'timestamp': 1729322000212}\n",
      "{'key': 'key51', 'value': 'message #51', 'timestamp': 1729322002218}\n",
      "{'key': 'key52', 'value': 'message #52', 'timestamp': 1729322004224}\n",
      "{'key': 'key53', 'value': 'message #53', 'timestamp': 1729322006230}\n",
      "{'key': 'key54', 'value': 'message #54', 'timestamp': 1729322008236}\n"
     ]
    }
   ],
   "source": [
    "print('Running Consumer with AVRO')\n",
    "for message in consumer:\n",
    "    print(message.value)"
   ]
  },
  {
   "cell_type": "code",
   "execution_count": null,
   "metadata": {},
   "outputs": [],
   "source": []
  }
 ],
 "metadata": {
  "kernelspec": {
   "display_name": "Python 3 (ipykernel)",
   "language": "python",
   "name": "python3"
  },
  "language_info": {
   "codemirror_mode": {
    "name": "ipython",
    "version": 3
   },
   "file_extension": ".py",
   "mimetype": "text/x-python",
   "name": "python",
   "nbconvert_exporter": "python",
   "pygments_lexer": "ipython3",
   "version": "3.11.5"
  },
  "toc": {
   "base_numbering": 1,
   "nav_menu": {},
   "number_sections": true,
   "sideBar": true,
   "skip_h1_title": false,
   "title_cell": "Table of Contents",
   "title_sidebar": "Contents",
   "toc_cell": false,
   "toc_position": {},
   "toc_section_display": true,
   "toc_window_display": false
  },
  "varInspector": {
   "cols": {
    "lenName": 16,
    "lenType": 16,
    "lenVar": 40
   },
   "kernels_config": {
    "python": {
     "delete_cmd_postfix": "",
     "delete_cmd_prefix": "del ",
     "library": "var_list.py",
     "varRefreshCmd": "print(var_dic_list())"
    },
    "r": {
     "delete_cmd_postfix": ") ",
     "delete_cmd_prefix": "rm(",
     "library": "var_list.r",
     "varRefreshCmd": "cat(var_dic_list()) "
    }
   },
   "types_to_exclude": [
    "module",
    "function",
    "builtin_function_or_method",
    "instance",
    "_Feature"
   ],
   "window_display": false
  }
 },
 "nbformat": 4,
 "nbformat_minor": 2
}
