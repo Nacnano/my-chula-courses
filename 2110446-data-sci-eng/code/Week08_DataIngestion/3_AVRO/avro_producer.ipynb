{
 "cells": [
  {
   "cell_type": "code",
   "execution_count": 1,
   "metadata": {
    "scrolled": true
   },
   "outputs": [],
   "source": [
    "# import required libraries\n",
    "from kafka import KafkaProducer, KafkaConsumer\n",
    "import time"
   ]
  },
  {
   "cell_type": "code",
   "execution_count": 2,
   "metadata": {},
   "outputs": [],
   "source": [
    "import avro.schema\n",
    "import avro.io\n",
    "import io"
   ]
  },
  {
   "cell_type": "code",
   "execution_count": 3,
   "metadata": {},
   "outputs": [],
   "source": [
    "schema_file = 'sample.avsc'\n",
    "schema = avro.schema.parse(open(schema_file).read())"
   ]
  },
  {
   "cell_type": "code",
   "execution_count": 4,
   "metadata": {},
   "outputs": [],
   "source": [
    "def serialize(schema, obj):\n",
    "    bytes_writer = io.BytesIO()\n",
    "    encoder = avro.io.BinaryEncoder(bytes_writer)\n",
    "    writer = avro.io.DatumWriter(schema)\n",
    "    writer.write(obj, encoder)\n",
    "    return bytes_writer.getvalue()"
   ]
  },
  {
   "cell_type": "code",
   "execution_count": 5,
   "metadata": {},
   "outputs": [],
   "source": [
    "# Connect to kafka broker running in your local host (docker). Change this to your kafka broker if needed\n",
    "kafka_broker = 'localhost:9092'"
   ]
  },
  {
   "cell_type": "code",
   "execution_count": 6,
   "metadata": {},
   "outputs": [],
   "source": [
    "producer = KafkaProducer(bootstrap_servers=[kafka_broker])"
   ]
  },
  {
   "cell_type": "code",
   "execution_count": null,
   "metadata": {},
   "outputs": [
    {
     "name": "stdout",
     "output_type": "stream",
     "text": [
      "{'key': 'key0', 'value': 'message #0', 'timestamp': 1729321899924}\n",
      "b'\\x08key0\\x14message #0\\xa8\\xde\\xf0\\xb9\\xd4d'\n",
      "{'key': 'key1', 'value': 'message #1', 'timestamp': 1729321901930}\n",
      "b'\\x08key1\\x14message #1\\xd4\\xfd\\xf0\\xb9\\xd4d'\n",
      "{'key': 'key2', 'value': 'message #2', 'timestamp': 1729321903932}\n",
      "b'\\x08key2\\x14message #2\\xf8\\x9c\\xf1\\xb9\\xd4d'\n",
      "{'key': 'key3', 'value': 'message #3', 'timestamp': 1729321905939}\n",
      "b'\\x08key3\\x14message #3\\xa6\\xbc\\xf1\\xb9\\xd4d'\n",
      "{'key': 'key4', 'value': 'message #4', 'timestamp': 1729321907943}\n",
      "b'\\x08key4\\x14message #4\\xce\\xdb\\xf1\\xb9\\xd4d'\n",
      "{'key': 'key5', 'value': 'message #5', 'timestamp': 1729321909947}\n",
      "b'\\x08key5\\x14message #5\\xf6\\xfa\\xf1\\xb9\\xd4d'\n",
      "{'key': 'key6', 'value': 'message #6', 'timestamp': 1729321911950}\n",
      "b'\\x08key6\\x14message #6\\x9c\\x9a\\xf2\\xb9\\xd4d'\n",
      "{'key': 'key7', 'value': 'message #7', 'timestamp': 1729321913957}\n",
      "b'\\x08key7\\x14message #7\\xca\\xb9\\xf2\\xb9\\xd4d'\n",
      "{'key': 'key8', 'value': 'message #8', 'timestamp': 1729321915969}\n",
      "b'\\x08key8\\x14message #8\\x82\\xd9\\xf2\\xb9\\xd4d'\n",
      "{'key': 'key9', 'value': 'message #9', 'timestamp': 1729321917974}\n",
      "b'\\x08key9\\x14message #9\\xac\\xf8\\xf2\\xb9\\xd4d'\n",
      "{'key': 'key10', 'value': 'message #10', 'timestamp': 1729321919981}\n",
      "b'\\nkey10\\x16message #10\\xda\\x97\\xf3\\xb9\\xd4d'\n",
      "{'key': 'key11', 'value': 'message #11', 'timestamp': 1729321921985}\n",
      "b'\\nkey11\\x16message #11\\x82\\xb7\\xf3\\xb9\\xd4d'\n",
      "{'key': 'key12', 'value': 'message #12', 'timestamp': 1729321923992}\n",
      "b'\\nkey12\\x16message #12\\xb0\\xd6\\xf3\\xb9\\xd4d'\n",
      "{'key': 'key13', 'value': 'message #13', 'timestamp': 1729321925997}\n",
      "b'\\nkey13\\x16message #13\\xda\\xf5\\xf3\\xb9\\xd4d'\n",
      "{'key': 'key14', 'value': 'message #14', 'timestamp': 1729321928004}\n",
      "b'\\nkey14\\x16message #14\\x88\\x95\\xf4\\xb9\\xd4d'\n",
      "{'key': 'key15', 'value': 'message #15', 'timestamp': 1729321930012}\n",
      "b'\\nkey15\\x16message #15\\xb8\\xb4\\xf4\\xb9\\xd4d'\n",
      "{'key': 'key16', 'value': 'message #16', 'timestamp': 1729321932019}\n",
      "b'\\nkey16\\x16message #16\\xe6\\xd3\\xf4\\xb9\\xd4d'\n",
      "{'key': 'key17', 'value': 'message #17', 'timestamp': 1729321934024}\n",
      "b'\\nkey17\\x16message #17\\x90\\xf3\\xf4\\xb9\\xd4d'\n",
      "{'key': 'key18', 'value': 'message #18', 'timestamp': 1729321936031}\n",
      "b'\\nkey18\\x16message #18\\xbe\\x92\\xf5\\xb9\\xd4d'\n",
      "{'key': 'key19', 'value': 'message #19', 'timestamp': 1729321938036}\n",
      "b'\\nkey19\\x16message #19\\xe8\\xb1\\xf5\\xb9\\xd4d'\n",
      "{'key': 'key20', 'value': 'message #20', 'timestamp': 1729321940041}\n",
      "b'\\nkey20\\x16message #20\\x92\\xd1\\xf5\\xb9\\xd4d'\n",
      "{'key': 'key21', 'value': 'message #21', 'timestamp': 1729321942043}\n",
      "b'\\nkey21\\x16message #21\\xb6\\xf0\\xf5\\xb9\\xd4d'\n",
      "{'key': 'key22', 'value': 'message #22', 'timestamp': 1729321944052}\n",
      "b'\\nkey22\\x16message #22\\xe8\\x8f\\xf6\\xb9\\xd4d'\n",
      "{'key': 'key23', 'value': 'message #23', 'timestamp': 1729321946056}\n",
      "b'\\nkey23\\x16message #23\\x90\\xaf\\xf6\\xb9\\xd4d'\n",
      "{'key': 'key24', 'value': 'message #24', 'timestamp': 1729321948063}\n",
      "b'\\nkey24\\x16message #24\\xbe\\xce\\xf6\\xb9\\xd4d'\n",
      "{'key': 'key25', 'value': 'message #25', 'timestamp': 1729321950069}\n",
      "b'\\nkey25\\x16message #25\\xea\\xed\\xf6\\xb9\\xd4d'\n",
      "{'key': 'key26', 'value': 'message #26', 'timestamp': 1729321952075}\n",
      "b'\\nkey26\\x16message #26\\x96\\x8d\\xf7\\xb9\\xd4d'\n",
      "{'key': 'key27', 'value': 'message #27', 'timestamp': 1729321954083}\n",
      "b'\\nkey27\\x16message #27\\xc6\\xac\\xf7\\xb9\\xd4d'\n",
      "{'key': 'key28', 'value': 'message #28', 'timestamp': 1729321956089}\n",
      "b'\\nkey28\\x16message #28\\xf2\\xcb\\xf7\\xb9\\xd4d'\n",
      "{'key': 'key29', 'value': 'message #29', 'timestamp': 1729321958094}\n",
      "b'\\nkey29\\x16message #29\\x9c\\xeb\\xf7\\xb9\\xd4d'\n",
      "{'key': 'key30', 'value': 'message #30', 'timestamp': 1729321960100}\n",
      "b'\\nkey30\\x16message #30\\xc8\\x8a\\xf8\\xb9\\xd4d'\n",
      "{'key': 'key31', 'value': 'message #31', 'timestamp': 1729321962105}\n",
      "b'\\nkey31\\x16message #31\\xf2\\xa9\\xf8\\xb9\\xd4d'\n",
      "{'key': 'key32', 'value': 'message #32', 'timestamp': 1729321964112}\n",
      "b'\\nkey32\\x16message #32\\xa0\\xc9\\xf8\\xb9\\xd4d'\n",
      "{'key': 'key33', 'value': 'message #33', 'timestamp': 1729321966117}\n",
      "b'\\nkey33\\x16message #33\\xca\\xe8\\xf8\\xb9\\xd4d'\n",
      "{'key': 'key34', 'value': 'message #34', 'timestamp': 1729321968122}\n",
      "b'\\nkey34\\x16message #34\\xf4\\x87\\xf9\\xb9\\xd4d'\n",
      "{'key': 'key35', 'value': 'message #35', 'timestamp': 1729321970126}\n",
      "b'\\nkey35\\x16message #35\\x9c\\xa7\\xf9\\xb9\\xd4d'\n",
      "{'key': 'key36', 'value': 'message #36', 'timestamp': 1729321972133}\n",
      "b'\\nkey36\\x16message #36\\xca\\xc6\\xf9\\xb9\\xd4d'\n",
      "{'key': 'key37', 'value': 'message #37', 'timestamp': 1729321974137}\n",
      "b'\\nkey37\\x16message #37\\xf2\\xe5\\xf9\\xb9\\xd4d'\n",
      "{'key': 'key38', 'value': 'message #38', 'timestamp': 1729321976142}\n",
      "b'\\nkey38\\x16message #38\\x9c\\x85\\xfa\\xb9\\xd4d'\n",
      "{'key': 'key39', 'value': 'message #39', 'timestamp': 1729321978147}\n",
      "b'\\nkey39\\x16message #39\\xc6\\xa4\\xfa\\xb9\\xd4d'\n",
      "{'key': 'key40', 'value': 'message #40', 'timestamp': 1729321980151}\n",
      "b'\\nkey40\\x16message #40\\xee\\xc3\\xfa\\xb9\\xd4d'\n",
      "{'key': 'key41', 'value': 'message #41', 'timestamp': 1729321982154}\n",
      "b'\\nkey41\\x16message #41\\x94\\xe3\\xfa\\xb9\\xd4d'\n",
      "{'key': 'key42', 'value': 'message #42', 'timestamp': 1729321984163}\n",
      "b'\\nkey42\\x16message #42\\xc6\\x82\\xfb\\xb9\\xd4d'\n",
      "{'key': 'key43', 'value': 'message #43', 'timestamp': 1729321986170}\n",
      "b'\\nkey43\\x16message #43\\xf4\\xa1\\xfb\\xb9\\xd4d'\n",
      "{'key': 'key44', 'value': 'message #44', 'timestamp': 1729321988176}\n",
      "b'\\nkey44\\x16message #44\\xa0\\xc1\\xfb\\xb9\\xd4d'\n",
      "{'key': 'key45', 'value': 'message #45', 'timestamp': 1729321990186}\n",
      "b'\\nkey45\\x16message #45\\xd4\\xe0\\xfb\\xb9\\xd4d'\n",
      "{'key': 'key46', 'value': 'message #46', 'timestamp': 1729321992192}\n",
      "b'\\nkey46\\x16message #46\\x80\\x80\\xfc\\xb9\\xd4d'\n",
      "{'key': 'key47', 'value': 'message #47', 'timestamp': 1729321994196}\n",
      "b'\\nkey47\\x16message #47\\xa8\\x9f\\xfc\\xb9\\xd4d'\n",
      "{'key': 'key48', 'value': 'message #48', 'timestamp': 1729321996204}\n",
      "b'\\nkey48\\x16message #48\\xd8\\xbe\\xfc\\xb9\\xd4d'\n",
      "{'key': 'key49', 'value': 'message #49', 'timestamp': 1729321998209}\n",
      "b'\\nkey49\\x16message #49\\x82\\xde\\xfc\\xb9\\xd4d'\n",
      "{'key': 'key50', 'value': 'message #50', 'timestamp': 1729322000212}\n",
      "b'\\nkey50\\x16message #50\\xa8\\xfd\\xfc\\xb9\\xd4d'\n",
      "{'key': 'key51', 'value': 'message #51', 'timestamp': 1729322002218}\n",
      "b'\\nkey51\\x16message #51\\xd4\\x9c\\xfd\\xb9\\xd4d'\n"
     ]
    }
   ],
   "source": [
    "for i in range(100):\n",
    "    k = 'key{}'.format(i)\n",
    "    v = 'message #{}'.format(i)\n",
    "    o = {'key': k, 'value': v, 'timestamp': (int)(time.time()*1000)}\n",
    "    data = serialize(schema, o)\n",
    "    print(o)\n",
    "    print(data)\n",
    "    producer.send('avro', data)\n",
    "    time.sleep(2)"
   ]
  },
  {
   "cell_type": "code",
   "execution_count": null,
   "metadata": {},
   "outputs": [],
   "source": []
  }
 ],
 "metadata": {
  "kernelspec": {
   "display_name": "Python 3 (ipykernel)",
   "language": "python",
   "name": "python3"
  },
  "language_info": {
   "codemirror_mode": {
    "name": "ipython",
    "version": 3
   },
   "file_extension": ".py",
   "mimetype": "text/x-python",
   "name": "python",
   "nbconvert_exporter": "python",
   "pygments_lexer": "ipython3",
   "version": "3.11.5"
  },
  "toc": {
   "base_numbering": 1,
   "nav_menu": {},
   "number_sections": true,
   "sideBar": true,
   "skip_h1_title": false,
   "title_cell": "Table of Contents",
   "title_sidebar": "Contents",
   "toc_cell": false,
   "toc_position": {},
   "toc_section_display": true,
   "toc_window_display": false
  },
  "varInspector": {
   "cols": {
    "lenName": 16,
    "lenType": 16,
    "lenVar": 40
   },
   "kernels_config": {
    "python": {
     "delete_cmd_postfix": "",
     "delete_cmd_prefix": "del ",
     "library": "var_list.py",
     "varRefreshCmd": "print(var_dic_list())"
    },
    "r": {
     "delete_cmd_postfix": ") ",
     "delete_cmd_prefix": "rm(",
     "library": "var_list.r",
     "varRefreshCmd": "cat(var_dic_list()) "
    }
   },
   "types_to_exclude": [
    "module",
    "function",
    "builtin_function_or_method",
    "instance",
    "_Feature"
   ],
   "window_display": false
  }
 },
 "nbformat": 4,
 "nbformat_minor": 2
}
