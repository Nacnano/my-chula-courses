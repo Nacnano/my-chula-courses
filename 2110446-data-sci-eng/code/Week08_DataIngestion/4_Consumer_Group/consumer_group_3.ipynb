{
 "cells": [
  {
   "cell_type": "code",
   "execution_count": 1,
   "metadata": {},
   "outputs": [],
   "source": [
    "# import required libraries\n",
    "from kafka import KafkaConsumer\n",
    "from time import localtime, strftime"
   ]
  },
  {
   "cell_type": "code",
   "execution_count": 2,
   "metadata": {},
   "outputs": [],
   "source": [
    "# Connect to kafka broker running in your local host (docker). Change this to your kafka broker if needed\n",
    "kafka_broker = 'localhost:9092'"
   ]
  },
  {
   "cell_type": "code",
   "execution_count": 3,
   "metadata": {},
   "outputs": [],
   "source": [
    "consumer = KafkaConsumer(\n",
    "    'sample2',\n",
    "    bootstrap_servers=[kafka_broker],\n",
    "    enable_auto_commit=True,\n",
    "    group_id='my-group',\n",
    "    session_timeout_ms=6000,\n",
    "    max_poll_interval_ms=6000,\n",
    "    value_deserializer=lambda x: x.decode('utf-8'))"
   ]
  },
  {
   "cell_type": "code",
   "execution_count": null,
   "metadata": {},
   "outputs": [
    {
     "name": "stdout",
     "output_type": "stream",
     "text": [
      "Running Consumer Group\n",
      "[14:51:11] message #13 from producer\n",
      "{TopicPartition(topic='sample2', partition=1)}\n",
      "[14:51:27] message #21 from producer\n",
      "{TopicPartition(topic='sample2', partition=1)}\n",
      "[14:51:29] message #22 from producer\n",
      "{TopicPartition(topic='sample2', partition=1)}\n",
      "[14:51:35] message #25 from producer\n",
      "{TopicPartition(topic='sample2', partition=1)}\n",
      "[14:51:43] message #29 from producer\n",
      "{TopicPartition(topic='sample2', partition=1)}\n",
      "[14:51:47] message #31 from producer\n",
      "{TopicPartition(topic='sample2', partition=1)}\n",
      "[14:51:51] message #33 from producer\n",
      "{TopicPartition(topic='sample2', partition=1)}\n",
      "[14:51:53] message #34 from producer\n",
      "{TopicPartition(topic='sample2', partition=1)}\n",
      "[14:51:55] message #30 from producer\n",
      "{TopicPartition(topic='sample2', partition=0)}\n",
      "[14:51:55] message #32 from producer\n",
      "{TopicPartition(topic='sample2', partition=0)}\n",
      "[14:51:55] message #35 from producer\n",
      "{TopicPartition(topic='sample2', partition=0)}\n",
      "[14:51:57] message #36 from producer\n",
      "{TopicPartition(topic='sample2', partition=0)}\n",
      "[14:52:01] message #38 from producer\n",
      "{TopicPartition(topic='sample2', partition=0)}\n",
      "[14:52:05] message #40 from producer\n",
      "{TopicPartition(topic='sample2', partition=0)}\n",
      "[14:52:07] message #41 from producer\n",
      "{TopicPartition(topic='sample2', partition=0)}\n",
      "[14:52:09] message #42 from producer\n",
      "{TopicPartition(topic='sample2', partition=0)}\n",
      "[14:52:11] message #43 from producer\n",
      "{TopicPartition(topic='sample2', partition=0)}\n",
      "[14:52:15] message #45 from producer\n",
      "{TopicPartition(topic='sample2', partition=0)}\n",
      "[14:52:16] message #44 from producer\n",
      "{TopicPartition(topic='sample2', partition=0), TopicPartition(topic='sample2', partition=1)}\n",
      "[14:52:17] message #46 from producer\n",
      "{TopicPartition(topic='sample2', partition=0), TopicPartition(topic='sample2', partition=1)}\n",
      "[14:52:19] message #47 from producer\n",
      "{TopicPartition(topic='sample2', partition=0), TopicPartition(topic='sample2', partition=1)}\n",
      "[14:52:21] message #48 from producer\n",
      "{TopicPartition(topic='sample2', partition=0), TopicPartition(topic='sample2', partition=1)}\n",
      "[14:52:23] message #49 from producer\n",
      "{TopicPartition(topic='sample2', partition=0), TopicPartition(topic='sample2', partition=1)}\n",
      "[14:52:25] message #50 from producer\n",
      "{TopicPartition(topic='sample2', partition=0), TopicPartition(topic='sample2', partition=1)}\n",
      "[14:52:27] message #51 from producer\n",
      "{TopicPartition(topic='sample2', partition=0), TopicPartition(topic='sample2', partition=1)}\n",
      "[14:52:29] message #52 from producer\n",
      "{TopicPartition(topic='sample2', partition=0), TopicPartition(topic='sample2', partition=1)}\n",
      "[14:52:31] message #53 from producer\n",
      "{TopicPartition(topic='sample2', partition=0)}\n",
      "[14:52:33] message #54 from producer\n",
      "{TopicPartition(topic='sample2', partition=0)}\n",
      "[14:52:39] message #57 from producer\n",
      "{TopicPartition(topic='sample2', partition=0)}\n",
      "[14:52:59] message #67 from producer\n",
      "{TopicPartition(topic='sample2', partition=0)}\n",
      "[14:53:01] message #68 from producer\n",
      "{TopicPartition(topic='sample2', partition=0)}\n",
      "[14:53:03] message #69 from producer\n",
      "{TopicPartition(topic='sample2', partition=0)}\n",
      "[14:53:05] message #70 from producer\n",
      "{TopicPartition(topic='sample2', partition=0)}\n"
     ]
    }
   ],
   "source": [
    "print('Running Consumer Group')\n",
    "for message in consumer:\n",
    "    ts = strftime(\"%H:%M:%S\", localtime())\n",
    "    print('[{}] {}'.format(ts, message.value, message.offset))\n",
    "    print(consumer.assignment())"
   ]
  },
  {
   "cell_type": "code",
   "execution_count": null,
   "metadata": {},
   "outputs": [],
   "source": [
    "consumer.close()"
   ]
  },
  {
   "cell_type": "code",
   "execution_count": null,
   "metadata": {},
   "outputs": [],
   "source": []
  }
 ],
 "metadata": {
  "kernelspec": {
   "display_name": "Python 3 (ipykernel)",
   "language": "python",
   "name": "python3"
  },
  "language_info": {
   "codemirror_mode": {
    "name": "ipython",
    "version": 3
   },
   "file_extension": ".py",
   "mimetype": "text/x-python",
   "name": "python",
   "nbconvert_exporter": "python",
   "pygments_lexer": "ipython3",
   "version": "3.11.5"
  },
  "toc": {
   "base_numbering": 1,
   "nav_menu": {},
   "number_sections": true,
   "sideBar": true,
   "skip_h1_title": false,
   "title_cell": "Table of Contents",
   "title_sidebar": "Contents",
   "toc_cell": false,
   "toc_position": {},
   "toc_section_display": true,
   "toc_window_display": false
  },
  "varInspector": {
   "cols": {
    "lenName": 16,
    "lenType": 16,
    "lenVar": 40
   },
   "kernels_config": {
    "python": {
     "delete_cmd_postfix": "",
     "delete_cmd_prefix": "del ",
     "library": "var_list.py",
     "varRefreshCmd": "print(var_dic_list())"
    },
    "r": {
     "delete_cmd_postfix": ") ",
     "delete_cmd_prefix": "rm(",
     "library": "var_list.r",
     "varRefreshCmd": "cat(var_dic_list()) "
    }
   },
   "types_to_exclude": [
    "module",
    "function",
    "builtin_function_or_method",
    "instance",
    "_Feature"
   ],
   "window_display": false
  }
 },
 "nbformat": 4,
 "nbformat_minor": 2
}
