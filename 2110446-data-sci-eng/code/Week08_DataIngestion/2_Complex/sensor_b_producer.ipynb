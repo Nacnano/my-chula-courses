{
 "cells": [
  {
   "cell_type": "code",
   "execution_count": 1,
   "metadata": {
    "scrolled": true
   },
   "outputs": [],
   "source": [
    "# import required libraries\n",
    "from kafka import KafkaProducer\n",
    "import time, random, json"
   ]
  },
  {
   "cell_type": "code",
   "execution_count": 2,
   "metadata": {},
   "outputs": [],
   "source": [
    "sensor_id = 'sensor-B'"
   ]
  },
  {
   "cell_type": "code",
   "execution_count": 3,
   "metadata": {},
   "outputs": [],
   "source": [
    "# Connect to kafka broker running in your local host (docker). Change this to your kafka broker if needed\n",
    "kafka_broker = 'localhost:9092'\n",
    "topic = 'data'"
   ]
  },
  {
   "cell_type": "code",
   "execution_count": 4,
   "metadata": {},
   "outputs": [],
   "source": [
    "producer = KafkaProducer(bootstrap_servers=[kafka_broker])"
   ]
  },
  {
   "cell_type": "code",
   "execution_count": null,
   "metadata": {},
   "outputs": [
    {
     "name": "stdout",
     "output_type": "stream",
     "text": [
      "{\"id\": \"sensor-B\", \"timestamp\": 1728974857, \"value\": 32}\n",
      "{\"id\": \"sensor-B\", \"timestamp\": 1728974858, \"value\": 31}\n",
      "{\"id\": \"sensor-B\", \"timestamp\": 1728974861, \"value\": 31}\n",
      "{\"id\": \"sensor-B\", \"timestamp\": 1728974862, \"value\": 31}\n",
      "{\"id\": \"sensor-B\", \"timestamp\": 1728974863, \"value\": 30}\n",
      "{\"id\": \"sensor-B\", \"timestamp\": 1728974866, \"value\": 28}\n",
      "{\"id\": \"sensor-B\", \"timestamp\": 1728974867, \"value\": 28}\n",
      "{\"id\": \"sensor-B\", \"timestamp\": 1728974870, \"value\": 30}\n",
      "{\"id\": \"sensor-B\", \"timestamp\": 1728974871, \"value\": 33}\n",
      "{\"id\": \"sensor-B\", \"timestamp\": 1728974874, \"value\": 32}\n",
      "{\"id\": \"sensor-B\", \"timestamp\": 1728974876, \"value\": 28}\n",
      "{\"id\": \"sensor-B\", \"timestamp\": 1728974878, \"value\": 30}\n",
      "{\"id\": \"sensor-B\", \"timestamp\": 1728974881, \"value\": 27}\n",
      "{\"id\": \"sensor-B\", \"timestamp\": 1728974882, \"value\": 29}\n",
      "{\"id\": \"sensor-B\", \"timestamp\": 1728974883, \"value\": 30}\n",
      "{\"id\": \"sensor-B\", \"timestamp\": 1728974885, \"value\": 29}\n",
      "{\"id\": \"sensor-B\", \"timestamp\": 1728974888, \"value\": 32}\n",
      "{\"id\": \"sensor-B\", \"timestamp\": 1728974891, \"value\": 31}\n",
      "{\"id\": \"sensor-B\", \"timestamp\": 1728974892, \"value\": 33}\n",
      "{\"id\": \"sensor-B\", \"timestamp\": 1728974895, \"value\": 28}\n",
      "{\"id\": \"sensor-B\", \"timestamp\": 1728974897, \"value\": 28}\n",
      "{\"id\": \"sensor-B\", \"timestamp\": 1728974900, \"value\": 29}\n",
      "{\"id\": \"sensor-B\", \"timestamp\": 1728974901, \"value\": 31}\n",
      "{\"id\": \"sensor-B\", \"timestamp\": 1728974904, \"value\": 27}\n",
      "{\"id\": \"sensor-B\", \"timestamp\": 1728974906, \"value\": 30}\n",
      "{\"id\": \"sensor-B\", \"timestamp\": 1728974909, \"value\": 32}\n",
      "{\"id\": \"sensor-B\", \"timestamp\": 1728974911, \"value\": 33}\n",
      "{\"id\": \"sensor-B\", \"timestamp\": 1728974912, \"value\": 30}\n",
      "{\"id\": \"sensor-B\", \"timestamp\": 1728974914, \"value\": 30}\n",
      "{\"id\": \"sensor-B\", \"timestamp\": 1728974916, \"value\": 32}\n",
      "{\"id\": \"sensor-B\", \"timestamp\": 1728974919, \"value\": 33}\n",
      "{\"id\": \"sensor-B\", \"timestamp\": 1728974920, \"value\": 33}\n",
      "{\"id\": \"sensor-B\", \"timestamp\": 1728974922, \"value\": 33}\n",
      "{\"id\": \"sensor-B\", \"timestamp\": 1728974925, \"value\": 30}\n",
      "{\"id\": \"sensor-B\", \"timestamp\": 1728974926, \"value\": 32}\n",
      "{\"id\": \"sensor-B\", \"timestamp\": 1728974929, \"value\": 30}\n",
      "{\"id\": \"sensor-B\", \"timestamp\": 1728974931, \"value\": 30}\n",
      "{\"id\": \"sensor-B\", \"timestamp\": 1728974934, \"value\": 32}\n",
      "{\"id\": \"sensor-B\", \"timestamp\": 1728974936, \"value\": 28}\n",
      "{\"id\": \"sensor-B\", \"timestamp\": 1728974938, \"value\": 27}\n",
      "{\"id\": \"sensor-B\", \"timestamp\": 1728974939, \"value\": 32}\n",
      "{\"id\": \"sensor-B\", \"timestamp\": 1728974940, \"value\": 33}\n",
      "{\"id\": \"sensor-B\", \"timestamp\": 1728974942, \"value\": 32}\n",
      "{\"id\": \"sensor-B\", \"timestamp\": 1728974943, \"value\": 28}\n",
      "{\"id\": \"sensor-B\", \"timestamp\": 1728974944, \"value\": 32}\n",
      "{\"id\": \"sensor-B\", \"timestamp\": 1728974947, \"value\": 32}\n",
      "{\"id\": \"sensor-B\", \"timestamp\": 1728974950, \"value\": 31}\n",
      "{\"id\": \"sensor-B\", \"timestamp\": 1728974953, \"value\": 30}\n",
      "{\"id\": \"sensor-B\", \"timestamp\": 1728974955, \"value\": 31}\n",
      "{\"id\": \"sensor-B\", \"timestamp\": 1728974956, \"value\": 27}\n",
      "{\"id\": \"sensor-B\", \"timestamp\": 1728974958, \"value\": 29}\n",
      "{\"id\": \"sensor-B\", \"timestamp\": 1728974959, \"value\": 33}\n",
      "{\"id\": \"sensor-B\", \"timestamp\": 1728974962, \"value\": 29}\n",
      "{\"id\": \"sensor-B\", \"timestamp\": 1728974965, \"value\": 28}\n",
      "{\"id\": \"sensor-B\", \"timestamp\": 1728974967, \"value\": 33}\n",
      "{\"id\": \"sensor-B\", \"timestamp\": 1728974968, \"value\": 28}\n",
      "{\"id\": \"sensor-B\", \"timestamp\": 1728974970, \"value\": 29}\n",
      "{\"id\": \"sensor-B\", \"timestamp\": 1728974972, \"value\": 33}\n",
      "{\"id\": \"sensor-B\", \"timestamp\": 1728974974, \"value\": 30}\n"
     ]
    }
   ],
   "source": [
    "while(True):\n",
    "    ts = round(time.time())\n",
    "    value = round(random.uniform(27, 33))\n",
    "    data = {\n",
    "        'id': sensor_id,\n",
    "        'timestamp': ts,\n",
    "        'value': value\n",
    "    }\n",
    "    s = json.dumps(data)\n",
    "    print(s)\n",
    "    producer.send(topic, s.encode('utf-8'))\n",
    "    time_to_sleep = round(random.uniform(1,3))\n",
    "    time.sleep(time_to_sleep)"
   ]
  },
  {
   "cell_type": "code",
   "execution_count": null,
   "metadata": {},
   "outputs": [],
   "source": []
  }
 ],
 "metadata": {
  "kernelspec": {
   "display_name": "Python 3 (ipykernel)",
   "language": "python",
   "name": "python3"
  },
  "language_info": {
   "codemirror_mode": {
    "name": "ipython",
    "version": 3
   },
   "file_extension": ".py",
   "mimetype": "text/x-python",
   "name": "python",
   "nbconvert_exporter": "python",
   "pygments_lexer": "ipython3",
   "version": "3.11.5"
  },
  "toc": {
   "base_numbering": 1,
   "nav_menu": {},
   "number_sections": true,
   "sideBar": true,
   "skip_h1_title": false,
   "title_cell": "Table of Contents",
   "title_sidebar": "Contents",
   "toc_cell": false,
   "toc_position": {},
   "toc_section_display": true,
   "toc_window_display": false
  },
  "varInspector": {
   "cols": {
    "lenName": 16,
    "lenType": 16,
    "lenVar": 40
   },
   "kernels_config": {
    "python": {
     "delete_cmd_postfix": "",
     "delete_cmd_prefix": "del ",
     "library": "var_list.py",
     "varRefreshCmd": "print(var_dic_list())"
    },
    "r": {
     "delete_cmd_postfix": ") ",
     "delete_cmd_prefix": "rm(",
     "library": "var_list.r",
     "varRefreshCmd": "cat(var_dic_list()) "
    }
   },
   "types_to_exclude": [
    "module",
    "function",
    "builtin_function_or_method",
    "instance",
    "_Feature"
   ],
   "window_display": false
  }
 },
 "nbformat": 4,
 "nbformat_minor": 2
}
