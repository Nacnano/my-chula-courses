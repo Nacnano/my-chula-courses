{
 "cells": [
  {
   "cell_type": "code",
   "execution_count": 2,
   "metadata": {
    "scrolled": true
   },
   "outputs": [],
   "source": [
    "# import required libraries\n",
    "from kafka import KafkaProducer\n",
    "import time, random, json"
   ]
  },
  {
   "cell_type": "code",
   "execution_count": null,
   "metadata": {},
   "outputs": [],
   "source": []
  },
  {
   "cell_type": "code",
   "execution_count": 3,
   "metadata": {},
   "outputs": [],
   "source": [
    "sensor_id = 'sensor-A'"
   ]
  },
  {
   "cell_type": "code",
   "execution_count": 4,
   "metadata": {},
   "outputs": [],
   "source": [
    "# Connect to kafka broker running in your local host (docker). Change this to your kafka broker if needed\n",
    "kafka_broker = 'localhost:9092'\n",
    "topic = 'data'"
   ]
  },
  {
   "cell_type": "code",
   "execution_count": 5,
   "metadata": {},
   "outputs": [],
   "source": [
    "producer = KafkaProducer(bootstrap_servers=[kafka_broker])"
   ]
  },
  {
   "cell_type": "code",
   "execution_count": null,
   "metadata": {},
   "outputs": [
    {
     "name": "stdout",
     "output_type": "stream",
     "text": [
      "{\"id\": \"sensor-A\", \"timestamp\": 1729320687, \"value\": 27}\n",
      "{\"id\": \"sensor-A\", \"timestamp\": 1729320691, \"value\": 37}\n",
      "{\"id\": \"sensor-A\", \"timestamp\": 1729320694, \"value\": 11}\n",
      "{\"id\": \"sensor-A\", \"timestamp\": 1729320697, \"value\": 38}\n",
      "{\"id\": \"sensor-A\", \"timestamp\": 1729320700, \"value\": 29}\n",
      "{\"id\": \"sensor-A\", \"timestamp\": 1729320703, \"value\": 37}\n",
      "{\"id\": \"sensor-A\", \"timestamp\": 1729320707, \"value\": 28}\n",
      "{\"id\": \"sensor-A\", \"timestamp\": 1729320710, \"value\": 37}\n",
      "{\"id\": \"sensor-A\", \"timestamp\": 1729320713, \"value\": 11}\n",
      "{\"id\": \"sensor-A\", \"timestamp\": 1729320715, \"value\": 27}\n",
      "{\"id\": \"sensor-A\", \"timestamp\": 1729320718, \"value\": 14}\n",
      "{\"id\": \"sensor-A\", \"timestamp\": 1729320720, \"value\": 12}\n",
      "{\"id\": \"sensor-A\", \"timestamp\": 1729320723, \"value\": 26}\n",
      "{\"id\": \"sensor-A\", \"timestamp\": 1729320725, \"value\": 36}\n",
      "{\"id\": \"sensor-A\", \"timestamp\": 1729320728, \"value\": 33}\n",
      "{\"id\": \"sensor-A\", \"timestamp\": 1729320730, \"value\": 33}\n",
      "{\"id\": \"sensor-A\", \"timestamp\": 1729320732, \"value\": 28}\n",
      "{\"id\": \"sensor-A\", \"timestamp\": 1729320735, \"value\": 29}\n",
      "{\"id\": \"sensor-A\", \"timestamp\": 1729320738, \"value\": 30}\n",
      "{\"id\": \"sensor-A\", \"timestamp\": 1729320742, \"value\": 33}\n",
      "{\"id\": \"sensor-A\", \"timestamp\": 1729320745, \"value\": 30}\n",
      "{\"id\": \"sensor-A\", \"timestamp\": 1729320749, \"value\": 28}\n",
      "{\"id\": \"sensor-A\", \"timestamp\": 1729320753, \"value\": 17}\n",
      "{\"id\": \"sensor-A\", \"timestamp\": 1729320756, \"value\": 14}\n",
      "{\"id\": \"sensor-A\", \"timestamp\": 1729320758, \"value\": 26}\n",
      "{\"id\": \"sensor-A\", \"timestamp\": 1729320761, \"value\": 12}\n",
      "{\"id\": \"sensor-A\", \"timestamp\": 1729320764, \"value\": 25}\n",
      "{\"id\": \"sensor-A\", \"timestamp\": 1729320767, \"value\": 25}\n",
      "{\"id\": \"sensor-A\", \"timestamp\": 1729320770, \"value\": 13}\n",
      "{\"id\": \"sensor-A\", \"timestamp\": 1729320773, \"value\": 18}\n",
      "{\"id\": \"sensor-A\", \"timestamp\": 1729320777, \"value\": 17}\n",
      "{\"id\": \"sensor-A\", \"timestamp\": 1729320780, \"value\": 38}\n",
      "{\"id\": \"sensor-A\", \"timestamp\": 1729320782, \"value\": 15}\n",
      "{\"id\": \"sensor-A\", \"timestamp\": 1729320784, \"value\": 17}\n",
      "{\"id\": \"sensor-A\", \"timestamp\": 1729320786, \"value\": 15}\n",
      "{\"id\": \"sensor-A\", \"timestamp\": 1729320789, \"value\": 29}\n",
      "{\"id\": \"sensor-A\", \"timestamp\": 1729320791, \"value\": 27}\n",
      "{\"id\": \"sensor-A\", \"timestamp\": 1729320795, \"value\": 31}\n",
      "{\"id\": \"sensor-A\", \"timestamp\": 1729320798, \"value\": 15}\n",
      "{\"id\": \"sensor-A\", \"timestamp\": 1729320801, \"value\": 14}\n"
     ]
    }
   ],
   "source": [
    "while(True):\n",
    "    ts = round(time.time())\n",
    "    value = round(random.uniform(10, 40))\n",
    "    data = {\n",
    "        'id': sensor_id,\n",
    "        'timestamp': ts,\n",
    "        'value': value\n",
    "    }\n",
    "    s = json.dumps(data)\n",
    "    print(s)\n",
    "    producer.send(topic, s.encode('utf-8'))\n",
    "    time_to_sleep = round(random.uniform(2,4))\n",
    "    time.sleep(time_to_sleep)"
   ]
  },
  {
   "cell_type": "code",
   "execution_count": null,
   "metadata": {},
   "outputs": [],
   "source": []
  }
 ],
 "metadata": {
  "kernelspec": {
   "display_name": "Python 3 (ipykernel)",
   "language": "python",
   "name": "python3"
  },
  "language_info": {
   "codemirror_mode": {
    "name": "ipython",
    "version": 3
   },
   "file_extension": ".py",
   "mimetype": "text/x-python",
   "name": "python",
   "nbconvert_exporter": "python",
   "pygments_lexer": "ipython3",
   "version": "3.11.5"
  },
  "toc": {
   "base_numbering": 1,
   "nav_menu": {},
   "number_sections": true,
   "sideBar": true,
   "skip_h1_title": false,
   "title_cell": "Table of Contents",
   "title_sidebar": "Contents",
   "toc_cell": false,
   "toc_position": {},
   "toc_section_display": true,
   "toc_window_display": false
  },
  "varInspector": {
   "cols": {
    "lenName": 16,
    "lenType": 16,
    "lenVar": 40
   },
   "kernels_config": {
    "python": {
     "delete_cmd_postfix": "",
     "delete_cmd_prefix": "del ",
     "library": "var_list.py",
     "varRefreshCmd": "print(var_dic_list())"
    },
    "r": {
     "delete_cmd_postfix": ") ",
     "delete_cmd_prefix": "rm(",
     "library": "var_list.r",
     "varRefreshCmd": "cat(var_dic_list()) "
    }
   },
   "types_to_exclude": [
    "module",
    "function",
    "builtin_function_or_method",
    "instance",
    "_Feature"
   ],
   "window_display": false
  }
 },
 "nbformat": 4,
 "nbformat_minor": 2
}
