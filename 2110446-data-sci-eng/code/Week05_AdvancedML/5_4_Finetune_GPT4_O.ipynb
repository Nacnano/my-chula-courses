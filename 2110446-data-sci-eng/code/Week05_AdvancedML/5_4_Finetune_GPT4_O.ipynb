{
  "nbformat": 4,
  "nbformat_minor": 0,
  "metadata": {
    "colab": {
      "provenance": [],
      "machine_shape": "hm"
    },
    "kernelspec": {
      "name": "python3",
      "display_name": "Python 3"
    },
    "language_info": {
      "name": "python"
    }
  },
  "cells": [
    {
      "cell_type": "markdown",
      "source": [
        "Reference : https://colab.research.google.com/drive/17NbbGViskUY6G-iS5HdB7h8yI7xrRrIY?source=post_page-----d72659fc83c9--------------------------------#scrollTo=3QVfMmAqSyGd"
      ],
      "metadata": {
        "id": "5l3ywLTEOSZv"
      }
    },
    {
      "cell_type": "markdown",
      "source": [
        "Fine tune cost = (base training cost per 1M input tokens ÷ 1M) × number of tokens in the input file × number of epochs trained\n",
        "\n",
        "\n",
        "For a training file with 100,000 tokens trained over 3 epochs, the expected cost would be:\n",
        "\n",
        "\n",
        "Around 0.90 USD with gpt-4o-mini-2024-07-18 after the free period ends on September 23, 2024.\n",
        "\n",
        "\n",
        "Around 2.40 USD with gpt-3.5-turbo-0125.\n",
        "\n",
        "You can view a loss graph at https://platform.openai.com/finetune/ in your OpenAI account."
      ],
      "metadata": {
        "id": "s859yxEyPJR_"
      }
    },
    {
      "cell_type": "code",
      "source": [
        "model = [\"gpt-4o-2024-08-06\",#โมเดลที่รองรับการ Fine tune\n",
        "\"gpt-4o-mini-2024-07-18\",\n",
        "\"gpt-4-0613\",\n",
        "\"gpt-3.5-turbo-0125\",\n",
        "\"gpt-3.5-turbo-1106\",\n",
        "\"gpt-3.5-turbo-0613\",\n",
        "\"babbage-002\",\n",
        "\"davinci-002\"]"
      ],
      "metadata": {
        "id": "5PEh60PKMXHz"
      },
      "execution_count": null,
      "outputs": []
    },
    {
      "cell_type": "markdown",
      "source": [
        "GPT-4o mini FINE TUNING\n"
      ],
      "metadata": {
        "id": "DmYE_q3_Abi0"
      }
    },
    {
      "cell_type": "code",
      "execution_count": null,
      "metadata": {
        "colab": {
          "base_uri": "https://localhost:8080/"
        },
        "id": "N464rQRYn2k9",
        "outputId": "c967034e-b9c9-441d-86a0-191f6b05b0ea"
      },
      "outputs": [
        {
          "output_type": "stream",
          "name": "stdout",
          "text": [
            "Mounted at /content/drive\n"
          ]
        }
      ],
      "source": [
        "import shutil, os, subprocess\n",
        "from google.colab import drive\n",
        "drive.mount('/content/drive')"
      ]
    },
    {
      "cell_type": "code",
      "source": [
        "! pip install --upgrade openai jsonlines"
      ],
      "metadata": {
        "colab": {
          "base_uri": "https://localhost:8080/"
        },
        "id": "XpkHBGQ4oNO-",
        "outputId": "b5ba7bf7-6fc7-417d-dbbc-bee47b99bb49"
      },
      "execution_count": null,
      "outputs": [
        {
          "output_type": "stream",
          "name": "stdout",
          "text": [
            "Collecting openai\n",
            "  Downloading openai-1.43.0-py3-none-any.whl.metadata (22 kB)\n",
            "Collecting jsonlines\n",
            "  Downloading jsonlines-4.0.0-py3-none-any.whl.metadata (1.6 kB)\n",
            "Requirement already satisfied: anyio<5,>=3.5.0 in /usr/local/lib/python3.10/dist-packages (from openai) (3.7.1)\n",
            "Requirement already satisfied: distro<2,>=1.7.0 in /usr/lib/python3/dist-packages (from openai) (1.7.0)\n",
            "Collecting httpx<1,>=0.23.0 (from openai)\n",
            "  Downloading httpx-0.27.2-py3-none-any.whl.metadata (7.1 kB)\n",
            "Collecting jiter<1,>=0.4.0 (from openai)\n",
            "  Downloading jiter-0.5.0-cp310-cp310-manylinux_2_17_x86_64.manylinux2014_x86_64.whl.metadata (3.6 kB)\n",
            "Requirement already satisfied: pydantic<3,>=1.9.0 in /usr/local/lib/python3.10/dist-packages (from openai) (2.8.2)\n",
            "Requirement already satisfied: sniffio in /usr/local/lib/python3.10/dist-packages (from openai) (1.3.1)\n",
            "Requirement already satisfied: tqdm>4 in /usr/local/lib/python3.10/dist-packages (from openai) (4.66.5)\n",
            "Requirement already satisfied: typing-extensions<5,>=4.11 in /usr/local/lib/python3.10/dist-packages (from openai) (4.12.2)\n",
            "Requirement already satisfied: attrs>=19.2.0 in /usr/local/lib/python3.10/dist-packages (from jsonlines) (24.2.0)\n",
            "Requirement already satisfied: idna>=2.8 in /usr/local/lib/python3.10/dist-packages (from anyio<5,>=3.5.0->openai) (3.8)\n",
            "Requirement already satisfied: exceptiongroup in /usr/local/lib/python3.10/dist-packages (from anyio<5,>=3.5.0->openai) (1.2.2)\n",
            "Requirement already satisfied: certifi in /usr/local/lib/python3.10/dist-packages (from httpx<1,>=0.23.0->openai) (2024.7.4)\n",
            "Collecting httpcore==1.* (from httpx<1,>=0.23.0->openai)\n",
            "  Downloading httpcore-1.0.5-py3-none-any.whl.metadata (20 kB)\n",
            "Collecting h11<0.15,>=0.13 (from httpcore==1.*->httpx<1,>=0.23.0->openai)\n",
            "  Downloading h11-0.14.0-py3-none-any.whl.metadata (8.2 kB)\n",
            "Requirement already satisfied: annotated-types>=0.4.0 in /usr/local/lib/python3.10/dist-packages (from pydantic<3,>=1.9.0->openai) (0.7.0)\n",
            "Requirement already satisfied: pydantic-core==2.20.1 in /usr/local/lib/python3.10/dist-packages (from pydantic<3,>=1.9.0->openai) (2.20.1)\n",
            "Downloading openai-1.43.0-py3-none-any.whl (365 kB)\n",
            "\u001b[2K   \u001b[90m━━━━━━━━━━━━━━━━━━━━━━━━━━━━━━━━━━━━━━━━\u001b[0m \u001b[32m365.7/365.7 kB\u001b[0m \u001b[31m7.3 MB/s\u001b[0m eta \u001b[36m0:00:00\u001b[0m\n",
            "\u001b[?25hDownloading jsonlines-4.0.0-py3-none-any.whl (8.7 kB)\n",
            "Downloading httpx-0.27.2-py3-none-any.whl (76 kB)\n",
            "\u001b[2K   \u001b[90m━━━━━━━━━━━━━━━━━━━━━━━━━━━━━━━━━━━━━━━━\u001b[0m \u001b[32m76.4/76.4 kB\u001b[0m \u001b[31m5.8 MB/s\u001b[0m eta \u001b[36m0:00:00\u001b[0m\n",
            "\u001b[?25hDownloading httpcore-1.0.5-py3-none-any.whl (77 kB)\n",
            "\u001b[2K   \u001b[90m━━━━━━━━━━━━━━━━━━━━━━━━━━━━━━━━━━━━━━━━\u001b[0m \u001b[32m77.9/77.9 kB\u001b[0m \u001b[31m6.5 MB/s\u001b[0m eta \u001b[36m0:00:00\u001b[0m\n",
            "\u001b[?25hDownloading jiter-0.5.0-cp310-cp310-manylinux_2_17_x86_64.manylinux2014_x86_64.whl (318 kB)\n",
            "\u001b[2K   \u001b[90m━━━━━━━━━━━━━━━━━━━━━━━━━━━━━━━━━━━━━━━━\u001b[0m \u001b[32m318.9/318.9 kB\u001b[0m \u001b[31m22.7 MB/s\u001b[0m eta \u001b[36m0:00:00\u001b[0m\n",
            "\u001b[?25hDownloading h11-0.14.0-py3-none-any.whl (58 kB)\n",
            "\u001b[2K   \u001b[90m━━━━━━━━━━━━━━━━━━━━━━━━━━━━━━━━━━━━━━━━\u001b[0m \u001b[32m58.3/58.3 kB\u001b[0m \u001b[31m4.2 MB/s\u001b[0m eta \u001b[36m0:00:00\u001b[0m\n",
            "\u001b[?25hInstalling collected packages: jsonlines, jiter, h11, httpcore, httpx, openai\n",
            "Successfully installed h11-0.14.0 httpcore-1.0.5 httpx-0.27.2 jiter-0.5.0 jsonlines-4.0.0 openai-1.43.0\n"
          ]
        }
      ]
    },
    {
      "cell_type": "code",
      "source": [
        "import json\n",
        "with open('myconfig.json') as data_file:\n",
        "  myconfig = json.load(data_file)\n",
        "print(myconfig.keys())"
      ],
      "metadata": {
        "colab": {
          "base_uri": "https://localhost:8080/"
        },
        "id": "bCHqMLriE17Z",
        "outputId": "f0b4a592-57fa-4bc8-81b3-c072ac3690cc"
      },
      "execution_count": null,
      "outputs": [
        {
          "output_type": "stream",
          "name": "stdout",
          "text": [
            "dict_keys(['OPEN_API_KEY', 'OPENAI_API_KEY', 'DB_HOST', 'DB_PORT', 'DB_USER', 'DB_PASSWORD', 'HF_TOKEN', 'CLIPDROP_KEY', 'MJ_APIKEY_PUBLIC', 'MJ_APIKEY_PRIVATE', 'MYEMAIL'])\n"
          ]
        }
      ]
    },
    {
      "cell_type": "markdown",
      "source": [
        "NOW START"
      ],
      "metadata": {
        "id": "rvOMd3AwBwaH"
      }
    },
    {
      "cell_type": "code",
      "source": [
        "import os\n",
        "import sys\n",
        "import openai\n",
        "\n",
        "\n",
        "#use.env file\n",
        "#openai.organization = os.environ['ORGANIZATION']\n",
        "#openai.api_key  = os.environ['OPENAI_API_KEY']\n",
        "os.environ[\"OPENAI_API_KEY\"] = input(\"Paste your OpenAI key here and hit enter:\")"
      ],
      "metadata": {
        "id": "OiVC0nIaJDBN"
      },
      "execution_count": null,
      "outputs": []
    },
    {
      "cell_type": "code",
      "source": [
        "from openai import OpenAI\n",
        "import jsonlines\n",
        "client = OpenAI()"
      ],
      "metadata": {
        "id": "N5mxwawwHL9F"
      },
      "execution_count": null,
      "outputs": []
    },
    {
      "cell_type": "markdown",
      "source": [
        "Result before fine tune"
      ],
      "metadata": {
        "id": "Hvq5vtqrKIDW"
      }
    },
    {
      "cell_type": "code",
      "source": [
        "import json\n",
        "completion = client.chat.completions.create(\n",
        "  model=\"gpt-4o-mini-2024-07-18\",\n",
        "  messages=[\n",
        "    {\"role\": \"system\", \"content\": \"\"\"Given a merger acquisition news headline, provide the following fields in a JSON dict, where 'applicable: \"acquirer\" and \"deal_size\".\"\"\"},\n",
        "    {\"role\": \"user\", \"content\": \"TechGiant Inc. announced the acquisition of a $15 billion stake in Innovatech Solutions!\"}\n",
        "  ]\n",
        ")\n",
        "print(completion.choices[0].message.content)\n",
        "#pprint(json.loads(completion.choices[0].message.content))"
      ],
      "metadata": {
        "colab": {
          "base_uri": "https://localhost:8080/"
        },
        "id": "6FL7givdJVie",
        "outputId": "cf520e03-c8de-4a39-c3b6-405ec93f21ed"
      },
      "execution_count": null,
      "outputs": [
        {
          "output_type": "stream",
          "name": "stdout",
          "text": [
            "```json\n",
            "{\n",
            "  \"acquirer\": \"TechGiant Inc.\",\n",
            "  \"deal_size\": \"$15 billion\"\n",
            "}\n",
            "```\n"
          ]
        }
      ]
    },
    {
      "cell_type": "code",
      "source": [
        "completion = client.chat.completions.create(\n",
        "  model=\"gpt-4o-mini-2024-07-18\",\n",
        "  messages=[\n",
        "    {\"role\": \"system\", \"content\": \"\"\"Given a merger acquisition news headline, provide the following fields in a JSON dict, where 'applicable: \"acquirer\" and \"deal_size\".\"\"\"},\n",
        "    {\"role\": \"user\", \"content\": \"Leading Edge Capital has taken over Sunrise Enterprises in a deal valued at $250 million.\"}\n",
        "  ])\n",
        "print(completion.choices[0].message.content)"
      ],
      "metadata": {
        "colab": {
          "base_uri": "https://localhost:8080/"
        },
        "id": "GNI9QzquKRTA",
        "outputId": "e844af2d-f80d-4cea-d8b5-fa6107daa20b"
      },
      "execution_count": null,
      "outputs": [
        {
          "output_type": "stream",
          "name": "stdout",
          "text": [
            "```json\n",
            "{\n",
            "  \"acquirer\": \"Leading Edge Capital\",\n",
            "  \"deal_size\": \"$250 million\"\n",
            "}\n",
            "```\n"
          ]
        }
      ]
    },
    {
      "cell_type": "code",
      "source": [
        "%%time\n",
        "items =[\n",
        "{\"messages\": [{\"role\": \"system\", \"content\": \"Given a merger acquistion news headline, provide the following fields in a JSON dict, where applicable: \\\"acquirer\\\"  and \\\"deal_size\\\".\"}, {\"role\": \"user\", \"content\": \"Listed media and gaming firm Nazara Technologies said on Friday that it acquired the remaining 48.42% stake it did not hold in Paper Boat Apps for Rs 300 crore, making it a wholly owned subsidiary.\"}, {\"role\": \"assistant\", \"content\": \"{\\\"acquirer\\\": \\\" Nazara Technologies\\\", \\\"deal_size\\\": \\\"Rs 300 crore\\\" }\"}]},\n",
        "{\"messages\": [{\"role\": \"system\", \"content\": \"Given a merger acquistion news headline, provide the following fields in a JSON dict, where applicable: \\\"acquirer\\\"  and \\\"deal_size\\\".\"}, {\"role\": \"user\", \"content\": \"Venturi Partners (Venturi), a prominent growth equity firm specialising in consumer investments across India and Southeast Asia, announced the purchase of a $27 million stake in K12 Techno Services\"}, {\"role\": \"assistant\", \"content\": \"{\\\"acquirer\\\": Venturi Partners (Venturi)\\\", \\\"deal_size\\\": \\\"$27 million\\\" }\"}]},\n",
        "{\"messages\": [{\"role\": \"system\", \"content\": \"Given a merger acquisition news headline, provide the following fields in a JSON dict, where applicable: \\\"acquirer\\\"  and \\\"deal_size\\\".\"}, {\"role\": \"user\", \"content\": \"TechGiant Inc. announced the acquisition of a $15 billion stake in Innovatech Solutions.\"}, {\"role\": \"assistant\", \"content\": \"{\\\"acquirer\\\": \\\"TechGiant Inc.\\\", \\\"deal_size\\\": \\\"$15 billion\\\" }\"}]},\n",
        "{\"messages\": [{\"role\": \"system\", \"content\": \"Given a merger acquisition news headline, provide the following fields in a JSON dict, where applicable: \\\"acquirer\\\"  and \\\"deal_size\\\".\"}, {\"role\": \"user\", \"content\": \"Future Ventures has completed its $3.5 million purchase of GreenTech Innovations.\"}, {\"role\": \"assistant\", \"content\": \"{\\\"acquirer\\\": \\\"Future Ventures\\\", \\\"deal_size\\\": \\\"$3.5 million\\\" }\"}]},\n",
        "{\"messages\": [{\"role\": \"system\", \"content\": \"Given a merger acquisition news headline, provide the following fields in a JSON dict, where applicable: \\\"acquirer\\\"  and \\\"deal_size\\\".\"}, {\"role\": \"user\", \"content\": \"Leading Edge Capital has taken over Sunrise Enterprises in a deal valued at $250 million.\"}, {\"role\": \"assistant\", \"content\": \"{\\\"acquirer\\\": \\\"Leading Edge Capital\\\", \\\"deal_size\\\": \\\"$250 million\\\" }\"}]},\n",
        "{\"messages\": [{\"role\": \"system\", \"content\": \"Given a merger acquistion news headline, provide the following fields in a JSON dict, where applicable: \\\"acquirer\\\"  and \\\"deal_size\\\".\"}, {\"role\": \"user\", \"content\": \"Listed media and gaming firm Nazara Technologies said on Friday that it acquired the remaining 48.42% stake it did not hold in Paper Boat Apps for Rs 300 crore, making it a wholly owned subsidiary.\"}, {\"role\": \"assistant\", \"content\": \"{\\\"acquirer\\\": \\\" Nazara Technologies\\\", \\\"deal_size\\\": \\\"Rs 300 crore\\\" }\"}]},\n",
        "{\"messages\": [{\"role\": \"system\", \"content\": \"Given a merger acquistion news headline, provide the following fields in a JSON dict, where applicable: \\\"acquirer\\\"  and \\\"deal_size\\\".\"}, {\"role\": \"user\", \"content\": \"Venturi Partners (Venturi), a prominent growth equity firm specialising in consumer investments across India and Southeast Asia, announced the purchase of a $27 million stake in K12 Techno Services\"}, {\"role\": \"assistant\", \"content\": \"{\\\"acquirer\\\": Venturi Partners (Venturi)\\\", \\\"deal_size\\\": \\\"$27 million\\\" }\"}]},\n",
        "{\"messages\": [{\"role\": \"system\", \"content\": \"Given a merger acquisition news headline, provide the following fields in a JSON dict, where applicable: \\\"acquirer\\\"  and \\\"deal_size\\\".\"}, {\"role\": \"user\", \"content\": \"TechGiant Inc. announced the acquisition of a $15 billion stake in Innovatech Solutions.\"}, {\"role\": \"assistant\", \"content\": \"{\\\"acquirer\\\": \\\"TechGiant Inc.\\\", \\\"deal_size\\\": \\\"$15 billion\\\" }\"}]},\n",
        "{\"messages\": [{\"role\": \"system\", \"content\": \"Given a merger acquisition news headline, provide the following fields in a JSON dict, where applicable: \\\"acquirer\\\"  and \\\"deal_size\\\".\"}, {\"role\": \"user\", \"content\": \"Future Ventures has completed its $3.5 million purchase of GreenTech Innovations.\"}, {\"role\": \"assistant\", \"content\": \"{\\\"acquirer\\\": \\\"Future Ventures\\\", \\\"deal_size\\\": \\\"$3.5 million\\\" }\"}]},\n",
        "{\"messages\": [{\"role\": \"system\", \"content\": \"Given a merger acquisition news headline, provide the following fields in a JSON dict, where applicable: \\\"acquirer\\\"  and \\\"deal_size\\\".\"}, {\"role\": \"user\", \"content\": \"Leading Edge Capital has taken over Sunrise Enterprises in a deal valued at $250 million.\"}, {\"role\": \"assistant\", \"content\": \"{\\\"acquirer\\\": \\\"Leading Edge Capital\\\", \\\"deal_size\\\": \\\"$250 million\\\" }\"}]},\n",
        "\n",
        "]\n",
        "\n",
        "with jsonlines.open('mna.jsonl', 'w') as writer:\n",
        "    writer.write_all(items)"
      ],
      "metadata": {
        "colab": {
          "base_uri": "https://localhost:8080/"
        },
        "id": "prSU1CvWFiBI",
        "outputId": "d1b41f75-9eb2-4692-eb0e-bc692af912f8"
      },
      "execution_count": null,
      "outputs": [
        {
          "output_type": "stream",
          "name": "stdout",
          "text": [
            "CPU times: user 93 µs, sys: 777 µs, total: 870 µs\n",
            "Wall time: 746 µs\n"
          ]
        }
      ]
    },
    {
      "cell_type": "code",
      "source": [
        "from pprint import pprint\n",
        "with jsonlines.open(\"mna.jsonl\") as file:\n",
        "    data = list(file.iter())\n",
        "\n",
        "pprint(data)"
      ],
      "metadata": {
        "colab": {
          "base_uri": "https://localhost:8080/"
        },
        "id": "sLVr0JFxRdee",
        "outputId": "19efa9da-341a-4b79-a753-8b7b38197ae6"
      },
      "execution_count": null,
      "outputs": [
        {
          "output_type": "stream",
          "name": "stdout",
          "text": [
            "[{'messages': [{'content': 'Given a merger acquistion news headline, provide '\n",
            "                           'the following fields in a JSON dict, where '\n",
            "                           'applicable: \"acquirer\"  and \"deal_size\".',\n",
            "                'role': 'system'},\n",
            "               {'content': 'Listed media and gaming firm Nazara Technologies '\n",
            "                           'said on Friday that it acquired the remaining '\n",
            "                           '48.42% stake it did not hold in Paper Boat Apps '\n",
            "                           'for Rs 300 crore, making it a wholly owned '\n",
            "                           'subsidiary.',\n",
            "                'role': 'user'},\n",
            "               {'content': '{\"acquirer\": \" Nazara Technologies\", \"deal_size\": '\n",
            "                           '\"Rs 300 crore\" }',\n",
            "                'role': 'assistant'}]},\n",
            " {'messages': [{'content': 'Given a merger acquistion news headline, provide '\n",
            "                           'the following fields in a JSON dict, where '\n",
            "                           'applicable: \"acquirer\"  and \"deal_size\".',\n",
            "                'role': 'system'},\n",
            "               {'content': 'Venturi Partners (Venturi), a prominent growth '\n",
            "                           'equity firm specialising in consumer investments '\n",
            "                           'across India and Southeast Asia, announced the '\n",
            "                           'purchase of a $27 million stake in K12 Techno '\n",
            "                           'Services',\n",
            "                'role': 'user'},\n",
            "               {'content': '{\"acquirer\": Venturi Partners (Venturi)\", '\n",
            "                           '\"deal_size\": \"$27 million\" }',\n",
            "                'role': 'assistant'}]},\n",
            " {'messages': [{'content': 'Given a merger acquisition news headline, provide '\n",
            "                           'the following fields in a JSON dict, where '\n",
            "                           'applicable: \"acquirer\"  and \"deal_size\".',\n",
            "                'role': 'system'},\n",
            "               {'content': 'TechGiant Inc. announced the acquisition of a $15 '\n",
            "                           'billion stake in Innovatech Solutions.',\n",
            "                'role': 'user'},\n",
            "               {'content': '{\"acquirer\": \"TechGiant Inc.\", \"deal_size\": \"$15 '\n",
            "                           'billion\" }',\n",
            "                'role': 'assistant'}]},\n",
            " {'messages': [{'content': 'Given a merger acquisition news headline, provide '\n",
            "                           'the following fields in a JSON dict, where '\n",
            "                           'applicable: \"acquirer\"  and \"deal_size\".',\n",
            "                'role': 'system'},\n",
            "               {'content': 'Future Ventures has completed its $3.5 million '\n",
            "                           'purchase of GreenTech Innovations.',\n",
            "                'role': 'user'},\n",
            "               {'content': '{\"acquirer\": \"Future Ventures\", \"deal_size\": \"$3.5 '\n",
            "                           'million\" }',\n",
            "                'role': 'assistant'}]},\n",
            " {'messages': [{'content': 'Given a merger acquisition news headline, provide '\n",
            "                           'the following fields in a JSON dict, where '\n",
            "                           'applicable: \"acquirer\"  and \"deal_size\".',\n",
            "                'role': 'system'},\n",
            "               {'content': 'Leading Edge Capital has taken over Sunrise '\n",
            "                           'Enterprises in a deal valued at $250 million.',\n",
            "                'role': 'user'},\n",
            "               {'content': '{\"acquirer\": \"Leading Edge Capital\", \"deal_size\": '\n",
            "                           '\"$250 million\" }',\n",
            "                'role': 'assistant'}]},\n",
            " {'messages': [{'content': 'Given a merger acquistion news headline, provide '\n",
            "                           'the following fields in a JSON dict, where '\n",
            "                           'applicable: \"acquirer\"  and \"deal_size\".',\n",
            "                'role': 'system'},\n",
            "               {'content': 'Listed media and gaming firm Nazara Technologies '\n",
            "                           'said on Friday that it acquired the remaining '\n",
            "                           '48.42% stake it did not hold in Paper Boat Apps '\n",
            "                           'for Rs 300 crore, making it a wholly owned '\n",
            "                           'subsidiary.',\n",
            "                'role': 'user'},\n",
            "               {'content': '{\"acquirer\": \" Nazara Technologies\", \"deal_size\": '\n",
            "                           '\"Rs 300 crore\" }',\n",
            "                'role': 'assistant'}]},\n",
            " {'messages': [{'content': 'Given a merger acquistion news headline, provide '\n",
            "                           'the following fields in a JSON dict, where '\n",
            "                           'applicable: \"acquirer\"  and \"deal_size\".',\n",
            "                'role': 'system'},\n",
            "               {'content': 'Venturi Partners (Venturi), a prominent growth '\n",
            "                           'equity firm specialising in consumer investments '\n",
            "                           'across India and Southeast Asia, announced the '\n",
            "                           'purchase of a $27 million stake in K12 Techno '\n",
            "                           'Services',\n",
            "                'role': 'user'},\n",
            "               {'content': '{\"acquirer\": Venturi Partners (Venturi)\", '\n",
            "                           '\"deal_size\": \"$27 million\" }',\n",
            "                'role': 'assistant'}]},\n",
            " {'messages': [{'content': 'Given a merger acquisition news headline, provide '\n",
            "                           'the following fields in a JSON dict, where '\n",
            "                           'applicable: \"acquirer\"  and \"deal_size\".',\n",
            "                'role': 'system'},\n",
            "               {'content': 'TechGiant Inc. announced the acquisition of a $15 '\n",
            "                           'billion stake in Innovatech Solutions.',\n",
            "                'role': 'user'},\n",
            "               {'content': '{\"acquirer\": \"TechGiant Inc.\", \"deal_size\": \"$15 '\n",
            "                           'billion\" }',\n",
            "                'role': 'assistant'}]},\n",
            " {'messages': [{'content': 'Given a merger acquisition news headline, provide '\n",
            "                           'the following fields in a JSON dict, where '\n",
            "                           'applicable: \"acquirer\"  and \"deal_size\".',\n",
            "                'role': 'system'},\n",
            "               {'content': 'Future Ventures has completed its $3.5 million '\n",
            "                           'purchase of GreenTech Innovations.',\n",
            "                'role': 'user'},\n",
            "               {'content': '{\"acquirer\": \"Future Ventures\", \"deal_size\": \"$3.5 '\n",
            "                           'million\" }',\n",
            "                'role': 'assistant'}]},\n",
            " {'messages': [{'content': 'Given a merger acquisition news headline, provide '\n",
            "                           'the following fields in a JSON dict, where '\n",
            "                           'applicable: \"acquirer\"  and \"deal_size\".',\n",
            "                'role': 'system'},\n",
            "               {'content': 'Leading Edge Capital has taken over Sunrise '\n",
            "                           'Enterprises in a deal valued at $250 million.',\n",
            "                'role': 'user'},\n",
            "               {'content': '{\"acquirer\": \"Leading Edge Capital\", \"deal_size\": '\n",
            "                           '\"$250 million\" }',\n",
            "                'role': 'assistant'}]}]\n"
          ]
        }
      ]
    },
    {
      "cell_type": "markdown",
      "source": [
        "Upload Training File"
      ],
      "metadata": {
        "id": "COAU-DoYHmUh"
      }
    },
    {
      "cell_type": "code",
      "source": [
        "result_file = client.files.create(\n",
        "  file=open(\"mna.jsonl\", \"rb\"),\n",
        "  purpose=\"fine-tune\"\n",
        ")\n",
        "\n",
        "pprint(result_file)"
      ],
      "metadata": {
        "colab": {
          "base_uri": "https://localhost:8080/"
        },
        "id": "WUaPX69WRrvD",
        "outputId": "f029e430-016b-4eb3-9c16-c74e31d35012"
      },
      "execution_count": null,
      "outputs": [
        {
          "output_type": "stream",
          "name": "stdout",
          "text": [
            "FileObject(id='file-svZbE9osJznl9ZhDQhcHr43x', bytes=4602, created_at=1725086439, filename='mna.jsonl', object='file', purpose='fine-tune', status='processed', status_details=None)\n"
          ]
        }
      ]
    },
    {
      "cell_type": "code",
      "source": [
        "param_training_file_name = result_file.id\n",
        "pprint(param_training_file_name)"
      ],
      "metadata": {
        "colab": {
          "base_uri": "https://localhost:8080/"
        },
        "id": "EnASFvjRS2x8",
        "outputId": "89adb28e-0b83-4933-e489-98b8f8b5d24f"
      },
      "execution_count": null,
      "outputs": [
        {
          "output_type": "stream",
          "name": "stdout",
          "text": [
            "'file-svZbE9osJznl9ZhDQhcHr43x'\n"
          ]
        }
      ]
    },
    {
      "cell_type": "markdown",
      "source": [
        "Create Fine Tuned Model"
      ],
      "metadata": {
        "id": "uRptJbFiJ1Nw"
      }
    },
    {
      "cell_type": "code",
      "source": [
        "result_job = client.fine_tuning.jobs.create(\n",
        "  training_file=param_training_file_name,\n",
        "  model=\"gpt-4o-mini-2024-07-18\",\n",
        "  hyperparameters={\n",
        "    \"n_epochs\":1   ##ปรับ hyperparameter ได้เเค่ epoch (default = 10), learning rate (default = 1.8), batch size (default = 1)\n",
        "  }\n",
        ")\n",
        "\n",
        "pprint(result_job)"
      ],
      "metadata": {
        "colab": {
          "base_uri": "https://localhost:8080/"
        },
        "id": "3QVfMmAqSyGd",
        "outputId": "659f6d63-2c81-40b4-a8fb-3a03a3b6da11"
      },
      "execution_count": null,
      "outputs": [
        {
          "output_type": "stream",
          "name": "stdout",
          "text": [
            "FineTuningJob(id='ftjob-msedUo8ByMCpe8mmkx4RvdyQ', created_at=1725087089, error=Error(code=None, message=None, param=None), fine_tuned_model=None, finished_at=None, hyperparameters=Hyperparameters(n_epochs=1, batch_size='auto', learning_rate_multiplier='auto'), model='gpt-4o-mini-2024-07-18', object='fine_tuning.job', organization_id='org-iuIMWXlUahOdA3Lvv9cIzHKU', result_files=[], seed=621682584, status='validating_files', trained_tokens=None, training_file='file-svZbE9osJznl9ZhDQhcHr43x', validation_file=None, estimated_finish=None, integrations=[], user_provided_suffix=None)\n"
          ]
        }
      ]
    },
    {
      "cell_type": "code",
      "source": [
        "param_file_tune_job_id = result_job.id\n",
        "pprint(param_file_tune_job_id)"
      ],
      "metadata": {
        "colab": {
          "base_uri": "https://localhost:8080/"
        },
        "id": "eOT_bRF0Thf0",
        "outputId": "88198405-230c-4075-bd11-6ee8d52af3c4"
      },
      "execution_count": null,
      "outputs": [
        {
          "output_type": "stream",
          "name": "stdout",
          "text": [
            "'ftjob-msedUo8ByMCpe8mmkx4RvdyQ'\n"
          ]
        }
      ]
    },
    {
      "cell_type": "markdown",
      "source": [
        "Retrieve the state of a fine-tune"
      ],
      "metadata": {
        "id": "bVDddjp_Td9e"
      }
    },
    {
      "cell_type": "code",
      "source": [
        "# Retrieve the state of a fine-tune\n",
        "client.fine_tuning.jobs.retrieve(param_file_tune_job_id)"
      ],
      "metadata": {
        "colab": {
          "base_uri": "https://localhost:8080/"
        },
        "id": "ivkIrTnVTdSZ",
        "outputId": "e507d853-e113-4c93-dead-7fb5781c7831"
      },
      "execution_count": null,
      "outputs": [
        {
          "output_type": "execute_result",
          "data": {
            "text/plain": [
              "FineTuningJob(id='ftjob-msedUo8ByMCpe8mmkx4RvdyQ', created_at=1725087089, error=Error(code=None, message=None, param=None), fine_tuned_model=None, finished_at=None, hyperparameters=Hyperparameters(n_epochs=1, batch_size=1, learning_rate_multiplier=1.8), model='gpt-4o-mini-2024-07-18', object='fine_tuning.job', organization_id='org-iuIMWXlUahOdA3Lvv9cIzHKU', result_files=[], seed=621682584, status='running', trained_tokens=None, training_file='file-svZbE9osJznl9ZhDQhcHr43x', validation_file=None, estimated_finish=None, integrations=[], user_provided_suffix=None)"
            ]
          },
          "metadata": {},
          "execution_count": 29
        }
      ]
    },
    {
      "cell_type": "code",
      "source": [
        "# Retrieve the state of a fine-tune\n",
        "client.fine_tuning.jobs.retrieve(param_file_tune_job_id).status"
      ],
      "metadata": {
        "colab": {
          "base_uri": "https://localhost:8080/",
          "height": 35
        },
        "id": "1GuK93ldWIkk",
        "outputId": "ff5b0017-a03f-4790-d99f-1c5185b8a90b"
      },
      "execution_count": null,
      "outputs": [
        {
          "output_type": "execute_result",
          "data": {
            "text/plain": [
              "'running'"
            ],
            "application/vnd.google.colaboratory.intrinsic+json": {
              "type": "string"
            }
          },
          "metadata": {},
          "execution_count": 30
        }
      ]
    },
    {
      "cell_type": "code",
      "source": [
        "# Retrieve the state of a fine-tune\n",
        "from time import sleep\n",
        "while client.fine_tuning.jobs.retrieve(param_file_tune_job_id).status != 'succeeded':\n",
        "  sleep(10)\n"
      ],
      "metadata": {
        "id": "ZWrbTKkkWJEH"
      },
      "execution_count": null,
      "outputs": []
    },
    {
      "cell_type": "code",
      "source": [
        "# Retrieve the state of a fine-tune\n",
        "client.fine_tuning.jobs.retrieve(param_file_tune_job_id).status"
      ],
      "metadata": {
        "colab": {
          "base_uri": "https://localhost:8080/",
          "height": 35
        },
        "id": "F9ziD3GwYDc9",
        "outputId": "09dc8e1c-87bb-49f6-c0e1-aefd885aa785"
      },
      "execution_count": null,
      "outputs": [
        {
          "output_type": "execute_result",
          "data": {
            "text/plain": [
              "'succeeded'"
            ],
            "application/vnd.google.colaboratory.intrinsic+json": {
              "type": "string"
            }
          },
          "metadata": {},
          "execution_count": 32
        }
      ]
    },
    {
      "cell_type": "code",
      "source": [
        "param_file_tune_model = client.fine_tuning.jobs.retrieve(param_file_tune_job_id).fine_tuned_model\n",
        "pprint(param_file_tune_model)"
      ],
      "metadata": {
        "colab": {
          "base_uri": "https://localhost:8080/"
        },
        "id": "b0wUHuYuZkmy",
        "outputId": "6f0bf7c8-3755-4cb8-c1a9-649caf1b00ab"
      },
      "execution_count": null,
      "outputs": [
        {
          "output_type": "stream",
          "name": "stdout",
          "text": [
            "'ft:gpt-4o-mini-2024-07-18:personal::A2CHuGvg'\n"
          ]
        }
      ]
    },
    {
      "cell_type": "markdown",
      "source": [
        "Result after fine tune"
      ],
      "metadata": {
        "id": "66i-xEoBZ46Y"
      }
    },
    {
      "cell_type": "code",
      "source": [
        "completion = client.chat.completions.create(\n",
        "  model=param_file_tune_model,\n",
        "  messages=[\n",
        "    {\"role\": \"system\", \"content\": \"\"\"Given a merger acquisition news headline, provide the following fields in a JSON dict, where 'applicable: \"acquirer\" and \"deal_size\".\"\"\"},\n",
        "    {\"role\": \"user\", \"content\": \"TechGiant Inc. announced the acquisition of a $15 billion stake in Innovatech Solutions!\"}\n",
        "  ]\n",
        ")\n",
        "pprint(json.loads(completion.choices[0].message.content))"
      ],
      "metadata": {
        "colab": {
          "base_uri": "https://localhost:8080/"
        },
        "id": "wi3LpN5EZ6na",
        "outputId": "943cf5ff-0015-4439-b62d-e14547e1aa2c"
      },
      "execution_count": null,
      "outputs": [
        {
          "output_type": "stream",
          "name": "stdout",
          "text": [
            "{'applicable': {'acquirer': 'TechGiant Inc.', 'deal_size': '$15 billion'}}\n"
          ]
        }
      ]
    },
    {
      "cell_type": "code",
      "source": [
        "completion = client.chat.completions.create(\n",
        "  model=param_file_tune_model,\n",
        "  messages=[\n",
        "    {\"role\": \"system\", \"content\": \"\"\"Given a merger acquisition news headline, provide the following fields in a JSON dict, where 'applicable: \"acquirer\" and \"deal_size\".\"\"\"},\n",
        "    {\"role\": \"user\", \"content\": \"Leading Edge Capital has taken over Sunrise Enterprises in a deal valued at $250 million.\"}\n",
        "  ]\n",
        ")\n",
        "pprint(json.loads(completion.choices[0].message.content))"
      ],
      "metadata": {
        "colab": {
          "base_uri": "https://localhost:8080/"
        },
        "id": "2ViVjrogZ6yl",
        "outputId": "84e18c64-9826-4c71-aa0d-5de445674988"
      },
      "execution_count": null,
      "outputs": [
        {
          "output_type": "stream",
          "name": "stdout",
          "text": [
            "{'applicable': {'acquirer': 'Leading Edge Capital',\n",
            "                'deal_size': '$250 million'}}\n"
          ]
        }
      ]
    }
  ]
}