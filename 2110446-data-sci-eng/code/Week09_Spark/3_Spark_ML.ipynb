{
 "cells": [
  {
   "cell_type": "markdown",
   "metadata": {},
   "source": [
    "# Spark Preparation\n",
    "We check if we are in Google Colab.  If this is the case, install all necessary packages.\n",
    "\n",
    "To run spark in Colab, we need to first install all the dependencies in Colab environment i.e. Apache Spark 3.3.2 with hadoop 3.3, Java 8 and Findspark to locate the spark in the system. The tools installation can be carried out inside the Jupyter Notebook of the Colab.\n",
    "Learn more from [A Must-Read Guide on How to Work with PySpark on Google Colab for Data Scientists!](https://www.analyticsvidhya.com/blog/2020/11/a-must-read-guide-on-how-to-work-with-pyspark-on-google-colab-for-data-scientists/)"
   ]
  },
  {
   "cell_type": "code",
   "execution_count": 1,
   "metadata": {},
   "outputs": [],
   "source": [
    "try:\n",
    "  import google.colab\n",
    "  IN_COLAB = True\n",
    "except:\n",
    "  IN_COLAB = False"
   ]
  },
  {
   "cell_type": "code",
   "execution_count": 2,
   "metadata": {},
   "outputs": [],
   "source": [
    "if IN_COLAB:\n",
    "    !apt-get install openjdk-8-jdk-headless -qq > /dev/null\n",
    "    !wget -q https://dlcdn.apache.org/spark/spark-3.3.2/spark-3.3.2-bin-hadoop3.tgz\n",
    "    !tar xf spark-3.3.2-bin-hadoop3.tgz\n",
    "    !mv spark-3.3.2-bin-hadoop3 spark\n",
    "    !pip install -q findspark\n",
    "    import os\n",
    "    os.environ[\"JAVA_HOME\"] = \"/usr/lib/jvm/java-8-openjdk-amd64\"\n",
    "    os.environ[\"SPARK_HOME\"] = \"/content/spark\""
   ]
  },
  {
   "cell_type": "markdown",
   "metadata": {},
   "source": [
    "# Start a Local Cluster\n",
    "Use findspark.init() to start a local cluster.  If you plan to use remote cluster, skip the findspark.init() and change the cluster_url according."
   ]
  },
  {
   "cell_type": "code",
   "execution_count": 3,
   "metadata": {},
   "outputs": [],
   "source": [
    "import findspark\n",
    "findspark.init()"
   ]
  },
  {
   "cell_type": "code",
   "execution_count": 4,
   "metadata": {},
   "outputs": [],
   "source": [
    "spark_url = 'local'"
   ]
  },
  {
   "cell_type": "code",
   "execution_count": 5,
   "metadata": {},
   "outputs": [],
   "source": [
    "from pyspark.sql import SparkSession"
   ]
  },
  {
   "cell_type": "code",
   "execution_count": 6,
   "metadata": {},
   "outputs": [
    {
     "name": "stderr",
     "output_type": "stream",
     "text": [
      "24/10/22 14:52:02 WARN Utils: Your hostname, Natawuts-MacBook-Air.local resolves to a loopback address: 127.0.0.1; using 10.203.212.239 instead (on interface en0)\n",
      "24/10/22 14:52:02 WARN Utils: Set SPARK_LOCAL_IP if you need to bind to another address\n",
      "Setting default log level to \"WARN\".\n",
      "To adjust logging level use sc.setLogLevel(newLevel). For SparkR, use setLogLevel(newLevel).\n",
      "24/10/22 14:52:02 WARN NativeCodeLoader: Unable to load native-hadoop library for your platform... using builtin-java classes where applicable\n"
     ]
    }
   ],
   "source": [
    "spark = SparkSession.builder\\\n",
    "        .master(spark_url)\\\n",
    "        .appName('Spark ML')\\\n",
    "        .getOrCreate()"
   ]
  },
  {
   "cell_type": "markdown",
   "metadata": {},
   "source": [
    "# Spark SQL Data Preparation\n",
    "\n",
    "First, we read a csv file.  We can provide option such as delimiter and header.  We then rename the colume names to remove dot ('.') in the names."
   ]
  },
  {
   "cell_type": "code",
   "execution_count": 7,
   "metadata": {},
   "outputs": [],
   "source": [
    "from pyspark.sql.functions import col"
   ]
  },
  {
   "cell_type": "code",
   "execution_count": 8,
   "metadata": {},
   "outputs": [],
   "source": [
    "path = 'bank-additional-full.csv'"
   ]
  },
  {
   "cell_type": "code",
   "execution_count": 9,
   "metadata": {},
   "outputs": [],
   "source": [
    "df = spark.read.option(\"delimiter\", \";\").option(\"header\", True).csv(path)\n",
    "cols = [c.replace('.', '_') for c in df.columns]\n",
    "df = df.toDF(*cols)"
   ]
  },
  {
   "cell_type": "code",
   "execution_count": 10,
   "metadata": {},
   "outputs": [],
   "source": [
    "cols = ['age', 'duration', 'campaign', 'pdays', 'previous', 'nr_employed']\n",
    "for c in cols:\n",
    "    df = df.withColumn(c, col(c).cast('int'))\n",
    "\n",
    "cols = ['emp_var_rate', 'cons_price_idx', 'cons_conf_idx', 'euribor3m']\n",
    "for c in cols:\n",
    "    df = df.withColumn(c, col(c).cast('double'))\n",
    "    \n",
    "df = df.withColumn('label', df.y.cast('boolean').cast('int'))"
   ]
  },
  {
   "cell_type": "code",
   "execution_count": 11,
   "metadata": {},
   "outputs": [
    {
     "name": "stdout",
     "output_type": "stream",
     "text": [
      "+---+-----------+-------+-------------------+-------+-------+----+---------+-----+-----------+--------+--------+-----+--------+-----------+------------+--------------+-------------+---------+-----------+---+-----+\n",
      "|age|        job|marital|          education|default|housing|loan|  contact|month|day_of_week|duration|campaign|pdays|previous|   poutcome|emp_var_rate|cons_price_idx|cons_conf_idx|euribor3m|nr_employed|  y|label|\n",
      "+---+-----------+-------+-------------------+-------+-------+----+---------+-----+-----------+--------+--------+-----+--------+-----------+------------+--------------+-------------+---------+-----------+---+-----+\n",
      "| 56|  housemaid|married|           basic.4y|     no|     no|  no|telephone|  may|        mon|     261|       1|  999|       0|nonexistent|         1.1|        93.994|        -36.4|    4.857|       5191| no|    0|\n",
      "| 57|   services|married|        high.school|unknown|     no|  no|telephone|  may|        mon|     149|       1|  999|       0|nonexistent|         1.1|        93.994|        -36.4|    4.857|       5191| no|    0|\n",
      "| 37|   services|married|        high.school|     no|    yes|  no|telephone|  may|        mon|     226|       1|  999|       0|nonexistent|         1.1|        93.994|        -36.4|    4.857|       5191| no|    0|\n",
      "| 40|     admin.|married|           basic.6y|     no|     no|  no|telephone|  may|        mon|     151|       1|  999|       0|nonexistent|         1.1|        93.994|        -36.4|    4.857|       5191| no|    0|\n",
      "| 56|   services|married|        high.school|     no|     no| yes|telephone|  may|        mon|     307|       1|  999|       0|nonexistent|         1.1|        93.994|        -36.4|    4.857|       5191| no|    0|\n",
      "| 45|   services|married|           basic.9y|unknown|     no|  no|telephone|  may|        mon|     198|       1|  999|       0|nonexistent|         1.1|        93.994|        -36.4|    4.857|       5191| no|    0|\n",
      "| 59|     admin.|married|professional.course|     no|     no|  no|telephone|  may|        mon|     139|       1|  999|       0|nonexistent|         1.1|        93.994|        -36.4|    4.857|       5191| no|    0|\n",
      "| 41|blue-collar|married|            unknown|unknown|     no|  no|telephone|  may|        mon|     217|       1|  999|       0|nonexistent|         1.1|        93.994|        -36.4|    4.857|       5191| no|    0|\n",
      "| 24| technician| single|professional.course|     no|    yes|  no|telephone|  may|        mon|     380|       1|  999|       0|nonexistent|         1.1|        93.994|        -36.4|    4.857|       5191| no|    0|\n",
      "| 25|   services| single|        high.school|     no|    yes|  no|telephone|  may|        mon|      50|       1|  999|       0|nonexistent|         1.1|        93.994|        -36.4|    4.857|       5191| no|    0|\n",
      "+---+-----------+-------+-------------------+-------+-------+----+---------+-----+-----------+--------+--------+-----+--------+-----------+------------+--------------+-------------+---------+-----------+---+-----+\n",
      "only showing top 10 rows\n",
      "\n"
     ]
    }
   ],
   "source": [
    "df.show(10)"
   ]
  },
  {
   "cell_type": "markdown",
   "metadata": {},
   "source": [
    "# Split data\n",
    "We split data into 80% training and 20% testing data"
   ]
  },
  {
   "cell_type": "code",
   "execution_count": 12,
   "metadata": {},
   "outputs": [],
   "source": [
    "train_df, test_df = df.randomSplit([0.8,0.2])"
   ]
  },
  {
   "cell_type": "code",
   "execution_count": 13,
   "metadata": {},
   "outputs": [
    {
     "name": "stderr",
     "output_type": "stream",
     "text": [
      "\r",
      "[Stage 2:>                                                          (0 + 1) / 1]\r",
      "\r",
      "                                                                                \r"
     ]
    },
    {
     "data": {
      "text/plain": [
       "33114"
      ]
     },
     "execution_count": 13,
     "metadata": {},
     "output_type": "execute_result"
    }
   ],
   "source": [
    "train_df.count()"
   ]
  },
  {
   "cell_type": "code",
   "execution_count": 14,
   "metadata": {},
   "outputs": [
    {
     "data": {
      "text/plain": [
       "8074"
      ]
     },
     "execution_count": 14,
     "metadata": {},
     "output_type": "execute_result"
    }
   ],
   "source": [
    "test_df.count()"
   ]
  },
  {
   "cell_type": "markdown",
   "metadata": {},
   "source": [
    "# Spark ML Pipeline\n",
    "Pipeline is a serie of data transformation to transform data for training and inferring.  A column can contain categorical data or numerical data:\n",
    "- For categorical data, we have to convert to unique numeric value using **'StringIndexer'** and perform feature encoding with **'OneHotEncoder'**.\n",
    "- For numerical data, we do not have to do anything.\n",
    "\n",
    "Once we transform all features, we vectorize them into a single column."
   ]
  },
  {
   "cell_type": "code",
   "execution_count": 15,
   "metadata": {},
   "outputs": [],
   "source": [
    "from pyspark.ml.feature import OneHotEncoder, StringIndexer, VectorAssembler\n",
    "from pyspark.ml import Pipeline"
   ]
  },
  {
   "cell_type": "markdown",
   "metadata": {},
   "source": [
    "We first setup a pipeline of all data transformation.\n",
    "- First, we transform all selected string columns\n",
    "  + use a Transformer, *StringIndexer*, to encode labels in the column to indices (stored in columnnameIndex)\n",
    "  + perform one hot encoder on the index to map the label index to a binary vector"
   ]
  },
  {
   "cell_type": "code",
   "execution_count": 16,
   "metadata": {},
   "outputs": [],
   "source": [
    "stages = []"
   ]
  },
  {
   "cell_type": "code",
   "execution_count": 17,
   "metadata": {},
   "outputs": [],
   "source": [
    "categoricalAttributes = ['job', 'marital', 'education', 'default', \n",
    "                         'housing', 'loan', 'contact', \n",
    "                         'month', 'day_of_week', 'poutcome']\n",
    "for columnName in categoricalAttributes:\n",
    "    stringIndexer = StringIndexer(inputCol=columnName, outputCol=columnName+ \"Index\")\n",
    "    stages.append(stringIndexer)\n",
    "    oneHotEncoder = OneHotEncoder(inputCol=columnName+ \"Index\", outputCol=columnName + \"Vec\")\n",
    "    stages.append(oneHotEncoder)\n",
    "    \n",
    "categoricalCols = [s + \"Vec\" for s in categoricalAttributes]"
   ]
  },
  {
   "cell_type": "code",
   "execution_count": 18,
   "metadata": {},
   "outputs": [],
   "source": [
    "numericColumns = ['age', 'campaign', 'pdays', 'previous',\n",
    "           'emp_var_rate', 'cons_price_idx', 'cons_conf_idx', \n",
    "                  'euribor3m', 'nr_employed']"
   ]
  },
  {
   "cell_type": "code",
   "execution_count": 19,
   "metadata": {},
   "outputs": [],
   "source": [
    "# Combine all the feature columns into a single column in the dataframe\n",
    "\n",
    "allFeatureCols =  numericColumns + categoricalCols\n",
    "vectorAssembler = VectorAssembler(\n",
    "    inputCols=allFeatureCols,\n",
    "    outputCol=\"features\")\n",
    "stages.append(vectorAssembler)"
   ]
  },
  {
   "cell_type": "code",
   "execution_count": 20,
   "metadata": {
    "scrolled": true
   },
   "outputs": [
    {
     "data": {
      "text/plain": [
       "[StringIndexer_ffda055fc968,\n",
       " OneHotEncoder_f01dd5c1f638,\n",
       " StringIndexer_af40fc88937a,\n",
       " OneHotEncoder_d902a6dcca16,\n",
       " StringIndexer_7a687dfc6c75,\n",
       " OneHotEncoder_93f526a26441,\n",
       " StringIndexer_ab9c789a4a2d,\n",
       " OneHotEncoder_709cd86bec4d,\n",
       " StringIndexer_7731bc85e958,\n",
       " OneHotEncoder_e104a753a6f7,\n",
       " StringIndexer_c9ae083d764b,\n",
       " OneHotEncoder_3ed117ab8bf2,\n",
       " StringIndexer_5e4cc95bedde,\n",
       " OneHotEncoder_d229e73e270a,\n",
       " StringIndexer_97f5da83f206,\n",
       " OneHotEncoder_b3e234e05319,\n",
       " StringIndexer_069c072a16fb,\n",
       " OneHotEncoder_24f0244f036b,\n",
       " StringIndexer_c32e815f20df,\n",
       " OneHotEncoder_5cfac4997319,\n",
       " VectorAssembler_e769a3c42ebd]"
      ]
     },
     "execution_count": 20,
     "metadata": {},
     "output_type": "execute_result"
    }
   ],
   "source": [
    "stages"
   ]
  },
  {
   "cell_type": "markdown",
   "metadata": {},
   "source": [
    "# Feature Extraction Pipeline\n",
    "We build 2 pipelines, feature transformation pipeline and ML pipeline.  This allows us to reuse the feature extraction pipeline with several ML algorithms.  **'fit'** method is called to create a model and we can use **'transform'** to actual transform or infer data"
   ]
  },
  {
   "cell_type": "code",
   "execution_count": 21,
   "metadata": {},
   "outputs": [],
   "source": [
    "# Build pipeline for feature extraction\n",
    "\n",
    "featurePipeline = Pipeline(stages=stages)\n",
    "featureOnlyModel = featurePipeline.fit(train_df)"
   ]
  },
  {
   "cell_type": "markdown",
   "metadata": {},
   "source": [
    "When we 'fit' a pipeline to the data, we have the model.\n",
    "As we put only 'Transfomer' in the pipeline, the model is for feature extraction only.\n",
    "\n",
    "We apply our feature extraction model with 'transform' operation to our training and testing data \n",
    "to create new DataFrames with 'features' column that can be used in the next pipeline."
   ]
  },
  {
   "cell_type": "code",
   "execution_count": 22,
   "metadata": {},
   "outputs": [],
   "source": [
    "trainingFeaturesDf = featureOnlyModel.transform(train_df)\n",
    "testFeaturesDf = featureOnlyModel.transform(test_df)"
   ]
  },
  {
   "cell_type": "markdown",
   "metadata": {},
   "source": [
    "trainingFeaturesDF and testFeaturesDF are training and testing DataFrames with feature columns"
   ]
  },
  {
   "cell_type": "code",
   "execution_count": 23,
   "metadata": {},
   "outputs": [
    {
     "name": "stderr",
     "output_type": "stream",
     "text": [
      "24/10/22 14:55:55 WARN SparkStringUtils: Truncated the string representation of a plan since it was too large. This behavior can be adjusted by setting 'spark.sql.debug.maxToStringFields'.\n"
     ]
    },
    {
     "name": "stdout",
     "output_type": "stream",
     "text": [
      "+---+-------+-------+---------+-------+-------+-------+--------+-----+-----------+--------+--------+-----+--------+--------+------------+--------------+-------------+---------+-----------+---+-----+--------+---------------+------------+-------------+--------------+-------------+------------+-------------+------------+----------+---------+---------+------------+-------------+----------+-------------+----------------+--------------+-------------+-------------+--------------------+\n",
      "|age|    job|marital|education|default|housing|   loan| contact|month|day_of_week|duration|campaign|pdays|previous|poutcome|emp_var_rate|cons_price_idx|cons_conf_idx|euribor3m|nr_employed|  y|label|jobIndex|         jobVec|maritalIndex|   maritalVec|educationIndex| educationVec|defaultIndex|   defaultVec|housingIndex|housingVec|loanIndex|  loanVec|contactIndex|   contactVec|monthIndex|     monthVec|day_of_weekIndex|day_of_weekVec|poutcomeIndex|  poutcomeVec|            features|\n",
      "+---+-------+-------+---------+-------+-------+-------+--------+-----+-----------+--------+--------+-----+--------+--------+------------+--------------+-------------+---------+-----------+---+-----+--------+---------------+------------+-------------+--------------+-------------+------------+-------------+------------+----------+---------+---------+------------+-------------+----------+-------------+----------------+--------------+-------------+-------------+--------------------+\n",
      "| 17|student| single| basic.9y|     no|unknown|unknown|cellular|  aug|        fri|     498|       2|  999|       1| failure|        -2.9|        92.201|        -31.4|    0.869|       5076|yes|    1|    10.0|(11,[10],[1.0])|         1.0|(3,[1],[1.0])|           2.0|(7,[2],[1.0])|         0.0|(2,[0],[1.0])|         2.0| (2,[],[])|      2.0|(2,[],[])|         0.0|(1,[0],[1.0])|       2.0|(9,[2],[1.0])|             4.0|     (4,[],[])|          1.0|(2,[1],[1.0])|(52,[0,1,2,3,4,5,...|\n",
      "+---+-------+-------+---------+-------+-------+-------+--------+-----+-----------+--------+--------+-----+--------+--------+------------+--------------+-------------+---------+-----------+---+-----+--------+---------------+------------+-------------+--------------+-------------+------------+-------------+------------+----------+---------+---------+------------+-------------+----------+-------------+----------------+--------------+-------------+-------------+--------------------+\n",
      "only showing top 1 row\n",
      "\n"
     ]
    }
   ],
   "source": [
    "trainingFeaturesDf.show(1)"
   ]
  },
  {
   "cell_type": "code",
   "execution_count": 24,
   "metadata": {},
   "outputs": [
    {
     "data": {
      "text/plain": [
       "{'contactIndex',\n",
       " 'contactVec',\n",
       " 'day_of_weekIndex',\n",
       " 'day_of_weekVec',\n",
       " 'defaultIndex',\n",
       " 'defaultVec',\n",
       " 'educationIndex',\n",
       " 'educationVec',\n",
       " 'features',\n",
       " 'housingIndex',\n",
       " 'housingVec',\n",
       " 'jobIndex',\n",
       " 'jobVec',\n",
       " 'loanIndex',\n",
       " 'loanVec',\n",
       " 'maritalIndex',\n",
       " 'maritalVec',\n",
       " 'monthIndex',\n",
       " 'monthVec',\n",
       " 'poutcomeIndex',\n",
       " 'poutcomeVec'}"
      ]
     },
     "execution_count": 24,
     "metadata": {},
     "output_type": "execute_result"
    }
   ],
   "source": [
    "set(trainingFeaturesDf.columns) - set(train_df.columns)"
   ]
  },
  {
   "cell_type": "code",
   "execution_count": 25,
   "metadata": {},
   "outputs": [
    {
     "name": "stderr",
     "output_type": "stream",
     "text": [
      "                                                                                \r"
     ]
    },
    {
     "data": {
      "text/plain": [
       "[Row(features=SparseVector(52, {0: 17.0, 1: 2.0, 2: 999.0, 3: 1.0, 4: -2.9, 5: 92.201, 6: -31.4, 7: 0.869, 8: 5076.0, 19: 1.0, 21: 1.0, 25: 1.0, 30: 1.0, 36: 1.0, 39: 1.0, 51: 1.0}), label=1),\n",
       " Row(features=SparseVector(52, {0: 17.0, 1: 3.0, 2: 4.0, 3: 2.0, 4: -2.9, 5: 92.201, 6: -31.4, 7: 0.869, 8: 5076.0, 19: 1.0, 21: 1.0, 25: 1.0, 30: 1.0, 32: 1.0, 34: 1.0, 36: 1.0, 39: 1.0}), label=0),\n",
       " Row(features=SparseVector(52, {0: 17.0, 1: 2.0, 2: 999.0, 3: 2.0, 4: -2.9, 5: 92.201, 6: -31.4, 7: 0.869, 8: 5076.0, 19: 1.0, 21: 1.0, 25: 1.0, 30: 1.0, 32: 1.0, 34: 1.0, 36: 1.0, 39: 1.0, 51: 1.0}), label=0),\n",
       " Row(features=SparseVector(52, {0: 17.0, 1: 1.0, 2: 2.0, 3: 2.0, 4: -3.4, 5: 92.431, 6: -26.9, 7: 0.742, 8: 5017.0, 19: 1.0, 21: 1.0, 29: 1.0, 30: 1.0, 33: 1.0, 35: 1.0, 36: 1.0, 43: 1.0, 49: 1.0}), label=1),\n",
       " Row(features=SparseVector(52, {0: 17.0, 1: 3.0, 2: 4.0, 3: 2.0, 4: -2.9, 5: 92.201, 6: -31.4, 7: 0.884, 8: 5076.0, 19: 1.0, 21: 1.0, 29: 1.0, 30: 1.0, 32: 1.0, 34: 1.0, 36: 1.0, 39: 1.0, 48: 1.0}), label=0)]"
      ]
     },
     "execution_count": 25,
     "metadata": {},
     "output_type": "execute_result"
    }
   ],
   "source": [
    "# Peek into training features\n",
    "\n",
    "trainingFeaturesDf.select(\"features\", \"label\").rdd.take(5)"
   ]
  },
  {
   "cell_type": "markdown",
   "metadata": {},
   "source": [
    "# Machine Learning Pipeline\n",
    "\n",
    "Spark ML supports several standard ML algorithm.  In this example, we demonstrate how to use logistic regression and decision tree models."
   ]
  },
  {
   "cell_type": "code",
   "execution_count": 26,
   "metadata": {},
   "outputs": [],
   "source": [
    "from pyspark.ml.classification import LogisticRegression, DecisionTreeClassifier"
   ]
  },
  {
   "cell_type": "markdown",
   "metadata": {},
   "source": [
    "Calculate accuracy"
   ]
  },
  {
   "cell_type": "code",
   "execution_count": 27,
   "metadata": {},
   "outputs": [],
   "source": [
    "def calculateAccuracy(results):\n",
    "    correct = results.filter(results['label'] == results['prediction']).count()\n",
    "    total = results.count()\n",
    "    return 1.0*correct/total"
   ]
  },
  {
   "cell_type": "markdown",
   "metadata": {},
   "source": [
    "## Logistic Regression Model\n",
    "Configure an machine learning pipeline, which consists of only one stage containing an estimator (classification) (Logistic regression in this case)"
   ]
  },
  {
   "cell_type": "code",
   "execution_count": 28,
   "metadata": {},
   "outputs": [],
   "source": [
    "lr = LogisticRegression(maxIter=10, regParam=0.01)\n",
    "lrPipeline = Pipeline(stages=[lr])"
   ]
  },
  {
   "cell_type": "markdown",
   "metadata": {},
   "source": [
    "Fit the pipeline to create a model from the training data.  The logistic regression estimator looks for column 'features' and 'labels' to create an ML model."
   ]
  },
  {
   "cell_type": "code",
   "execution_count": 29,
   "metadata": {},
   "outputs": [
    {
     "name": "stderr",
     "output_type": "stream",
     "text": [
      "24/10/22 15:01:46 WARN InstanceBuilder: Failed to load implementation from:dev.ludovic.netlib.blas.JNIBLAS\n",
      "24/10/22 15:01:46 WARN InstanceBuilder: Failed to load implementation from:dev.ludovic.netlib.blas.VectorBLAS\n",
      "                                                                                \r"
     ]
    }
   ],
   "source": [
    "lrPipelineModel = lrPipeline.fit(trainingFeaturesDf)"
   ]
  },
  {
   "cell_type": "markdown",
   "metadata": {},
   "source": [
    "With our trained model, we transform testFeaturesDf to predict the results.  The predicted results are stored in 'prediciton' column.  We then use our calculateAccuracy function to calculate the results."
   ]
  },
  {
   "cell_type": "code",
   "execution_count": 30,
   "metadata": {},
   "outputs": [
    {
     "name": "stdout",
     "output_type": "stream",
     "text": [
      "LogisticRegression Model test accuracy =  0.9030220460738172\n"
     ]
    }
   ],
   "source": [
    "results = lrPipelineModel.transform(testFeaturesDf)\n",
    "print('LogisticRegression Model test accuracy = ', calculateAccuracy(results))"
   ]
  },
  {
   "cell_type": "code",
   "execution_count": 31,
   "metadata": {},
   "outputs": [
    {
     "data": {
      "text/plain": [
       "[Row(label=0, prediction=0.0),\n",
       " Row(label=1, prediction=1.0),\n",
       " Row(label=0, prediction=0.0),\n",
       " Row(label=1, prediction=1.0),\n",
       " Row(label=1, prediction=1.0)]"
      ]
     },
     "execution_count": 31,
     "metadata": {},
     "output_type": "execute_result"
    }
   ],
   "source": [
    "results.select('label', 'prediction').rdd.take(5)"
   ]
  },
  {
   "cell_type": "code",
   "execution_count": 32,
   "metadata": {},
   "outputs": [
    {
     "name": "stdout",
     "output_type": "stream",
     "text": [
      "+---+-------+-------+-----------+-------+-------+----+---------+-----+-----------+--------+--------+-----+--------+-----------+------------+--------------+-------------+---------+-----------+---+-----+--------+---------------+------------+-------------+--------------+-------------+------------+-------------+------------+-------------+---------+-------------+------------+-------------+----------+-------------+----------------+--------------+-------------+-------------+--------------------+--------------------+--------------------+----------+\n",
      "|age|    job|marital|  education|default|housing|loan|  contact|month|day_of_week|duration|campaign|pdays|previous|   poutcome|emp_var_rate|cons_price_idx|cons_conf_idx|euribor3m|nr_employed|  y|label|jobIndex|         jobVec|maritalIndex|   maritalVec|educationIndex| educationVec|defaultIndex|   defaultVec|housingIndex|   housingVec|loanIndex|      loanVec|contactIndex|   contactVec|monthIndex|     monthVec|day_of_weekIndex|day_of_weekVec|poutcomeIndex|  poutcomeVec|            features|       rawPrediction|         probability|prediction|\n",
      "+---+-------+-------+-----------+-------+-------+----+---------+-----+-----------+--------+--------+-----+--------+-----------+------------+--------------+-------------+---------+-----------+---+-----+--------+---------------+------------+-------------+--------------+-------------+------------+-------------+------------+-------------+---------+-------------+------------+-------------+----------+-------------+----------------+--------------+-------------+-------------+--------------------+--------------------+--------------------+----------+\n",
      "| 18|student| single|   basic.6y|     no|    yes|  no| cellular|  aug|        mon|     628|       1|  999|       0|nonexistent|        -2.9|        92.201|        -31.4|    0.861|       5076| no|    0|    10.0|(11,[10],[1.0])|         1.0|(3,[1],[1.0])|           5.0|(7,[5],[1.0])|         0.0|(2,[0],[1.0])|         0.0|(2,[0],[1.0])|      0.0|(2,[0],[1.0])|         0.0|(1,[0],[1.0])|       2.0|(9,[2],[1.0])|             1.0| (4,[1],[1.0])|          0.0|(2,[0],[1.0])|(52,[0,1,2,4,5,6,...|[0.86025379043368...|[0.70271367571240...|       0.0|\n",
      "| 18|student| single|high.school|     no|     no|  no| cellular|  nov|        fri|     256|       2|    7|       2|    failure|        -3.4|        92.649|        -30.1|    0.714|       5017|yes|    1|    10.0|(11,[10],[1.0])|         1.0|(3,[1],[1.0])|           1.0|(7,[1],[1.0])|         0.0|(2,[0],[1.0])|         1.0|(2,[1],[1.0])|      0.0|(2,[0],[1.0])|         0.0|(1,[0],[1.0])|       4.0|(9,[4],[1.0])|             4.0|     (4,[],[])|          1.0|(2,[1],[1.0])|(52,[0,1,2,3,4,5,...|[-0.4595277389425...|[0.38709786328815...|       1.0|\n",
      "| 18|student| single|    unknown|     no|     no|  no|telephone|  sep|        tue|     401|       2|  999|       0|nonexistent|        -3.4|        92.379|        -29.8|    0.788|       5017| no|    0|    10.0|(11,[10],[1.0])|         1.0|(3,[1],[1.0])|           6.0|(7,[6],[1.0])|         0.0|(2,[0],[1.0])|         1.0|(2,[1],[1.0])|      0.0|(2,[0],[1.0])|         1.0|    (1,[],[])|       7.0|(9,[7],[1.0])|             3.0| (4,[3],[1.0])|          0.0|(2,[0],[1.0])|(52,[0,1,2,4,5,6,...|[0.50475280976815...|[0.62357560733781...|       0.0|\n",
      "| 18|student| single|    unknown|     no|    yes|  no| cellular|  aug|        wed|     561|       1|   17|       2|    failure|        -1.7|        94.027|        -38.3|      0.9|       4991|yes|    1|    10.0|(11,[10],[1.0])|         1.0|(3,[1],[1.0])|           6.0|(7,[6],[1.0])|         0.0|(2,[0],[1.0])|         0.0|(2,[0],[1.0])|      0.0|(2,[0],[1.0])|         0.0|(1,[0],[1.0])|       2.0|(9,[2],[1.0])|             2.0| (4,[2],[1.0])|          1.0|(2,[1],[1.0])|(52,[0,1,2,3,4,5,...|[-0.8388700165455...|[0.30177282493166...|       1.0|\n",
      "| 19|student| single|   basic.6y|     no|    yes|  no| cellular|  sep|        thu|     161|       2|    6|       4|    success|        -1.1|        94.199|        -37.5|    0.879|       4963|yes|    1|    10.0|(11,[10],[1.0])|         1.0|(3,[1],[1.0])|           5.0|(7,[5],[1.0])|         0.0|(2,[0],[1.0])|         0.0|(2,[0],[1.0])|      0.0|(2,[0],[1.0])|         0.0|(1,[0],[1.0])|       7.0|(9,[7],[1.0])|             0.0| (4,[0],[1.0])|          2.0|    (2,[],[])|(52,[0,1,2,3,4,5,...|[-1.3145693200276...|[0.21172323605094...|       1.0|\n",
      "+---+-------+-------+-----------+-------+-------+----+---------+-----+-----------+--------+--------+-----+--------+-----------+------------+--------------+-------------+---------+-----------+---+-----+--------+---------------+------------+-------------+--------------+-------------+------------+-------------+------------+-------------+---------+-------------+------------+-------------+----------+-------------+----------------+--------------+-------------+-------------+--------------------+--------------------+--------------------+----------+\n",
      "only showing top 5 rows\n",
      "\n"
     ]
    }
   ],
   "source": [
    "results.show(5)"
   ]
  },
  {
   "cell_type": "markdown",
   "metadata": {},
   "source": [
    "## DecisionTree Model\n",
    "\n",
    "Once again a ML pipeline is created with only an estimator in the pipeline.  We then fit the pipeline with the trainingFeaturesDf to train a model.  Then, we transform testFeaturesDf to predict the results."
   ]
  },
  {
   "cell_type": "code",
   "execution_count": 33,
   "metadata": {},
   "outputs": [],
   "source": [
    "dt = DecisionTreeClassifier(labelCol='label', featuresCol='features')\n",
    "dtPipeline = Pipeline(stages=[dt])"
   ]
  },
  {
   "cell_type": "code",
   "execution_count": 34,
   "metadata": {},
   "outputs": [],
   "source": [
    "dtPipelineModel = dtPipeline.fit(trainingFeaturesDf)"
   ]
  },
  {
   "cell_type": "code",
   "execution_count": 35,
   "metadata": {},
   "outputs": [
    {
     "name": "stdout",
     "output_type": "stream",
     "text": [
      "DecisionTree Model test accuracy =  0.9035174634629676\n"
     ]
    }
   ],
   "source": [
    "results = dtPipelineModel.transform(testFeaturesDf)\n",
    "print('DecisionTree Model test accuracy = ', calculateAccuracy(results))"
   ]
  },
  {
   "cell_type": "code",
   "execution_count": 36,
   "metadata": {},
   "outputs": [
    {
     "data": {
      "text/plain": [
       "['age',\n",
       " 'job',\n",
       " 'marital',\n",
       " 'education',\n",
       " 'default',\n",
       " 'housing',\n",
       " 'loan',\n",
       " 'contact',\n",
       " 'month',\n",
       " 'day_of_week',\n",
       " 'duration',\n",
       " 'campaign',\n",
       " 'pdays',\n",
       " 'previous',\n",
       " 'poutcome',\n",
       " 'emp_var_rate',\n",
       " 'cons_price_idx',\n",
       " 'cons_conf_idx',\n",
       " 'euribor3m',\n",
       " 'nr_employed',\n",
       " 'y',\n",
       " 'label',\n",
       " 'jobIndex',\n",
       " 'jobVec',\n",
       " 'maritalIndex',\n",
       " 'maritalVec',\n",
       " 'educationIndex',\n",
       " 'educationVec',\n",
       " 'defaultIndex',\n",
       " 'defaultVec',\n",
       " 'housingIndex',\n",
       " 'housingVec',\n",
       " 'loanIndex',\n",
       " 'loanVec',\n",
       " 'contactIndex',\n",
       " 'contactVec',\n",
       " 'monthIndex',\n",
       " 'monthVec',\n",
       " 'day_of_weekIndex',\n",
       " 'day_of_weekVec',\n",
       " 'poutcomeIndex',\n",
       " 'poutcomeVec',\n",
       " 'features']"
      ]
     },
     "execution_count": 36,
     "metadata": {},
     "output_type": "execute_result"
    }
   ],
   "source": [
    "testFeaturesDf.columns"
   ]
  },
  {
   "cell_type": "code",
   "execution_count": 37,
   "metadata": {},
   "outputs": [
    {
     "data": {
      "text/plain": [
       "['age',\n",
       " 'job',\n",
       " 'marital',\n",
       " 'education',\n",
       " 'default',\n",
       " 'housing',\n",
       " 'loan',\n",
       " 'contact',\n",
       " 'month',\n",
       " 'day_of_week',\n",
       " 'duration',\n",
       " 'campaign',\n",
       " 'pdays',\n",
       " 'previous',\n",
       " 'poutcome',\n",
       " 'emp_var_rate',\n",
       " 'cons_price_idx',\n",
       " 'cons_conf_idx',\n",
       " 'euribor3m',\n",
       " 'nr_employed',\n",
       " 'y',\n",
       " 'label',\n",
       " 'jobIndex',\n",
       " 'jobVec',\n",
       " 'maritalIndex',\n",
       " 'maritalVec',\n",
       " 'educationIndex',\n",
       " 'educationVec',\n",
       " 'defaultIndex',\n",
       " 'defaultVec',\n",
       " 'housingIndex',\n",
       " 'housingVec',\n",
       " 'loanIndex',\n",
       " 'loanVec',\n",
       " 'contactIndex',\n",
       " 'contactVec',\n",
       " 'monthIndex',\n",
       " 'monthVec',\n",
       " 'day_of_weekIndex',\n",
       " 'day_of_weekVec',\n",
       " 'poutcomeIndex',\n",
       " 'poutcomeVec',\n",
       " 'features',\n",
       " 'rawPrediction',\n",
       " 'probability',\n",
       " 'prediction']"
      ]
     },
     "execution_count": 37,
     "metadata": {},
     "output_type": "execute_result"
    }
   ],
   "source": [
    "results.columns"
   ]
  },
  {
   "cell_type": "code",
   "execution_count": null,
   "metadata": {},
   "outputs": [],
   "source": []
  }
 ],
 "metadata": {
  "kernelspec": {
   "display_name": "Python 3 (ipykernel)",
   "language": "python",
   "name": "python3"
  },
  "language_info": {
   "codemirror_mode": {
    "name": "ipython",
    "version": 3
   },
   "file_extension": ".py",
   "mimetype": "text/x-python",
   "name": "python",
   "nbconvert_exporter": "python",
   "pygments_lexer": "ipython3",
   "version": "3.11.5"
  },
  "toc": {
   "base_numbering": 1,
   "nav_menu": {},
   "number_sections": true,
   "sideBar": true,
   "skip_h1_title": false,
   "title_cell": "Table of Contents",
   "title_sidebar": "Contents",
   "toc_cell": false,
   "toc_position": {},
   "toc_section_display": true,
   "toc_window_display": false
  },
  "varInspector": {
   "cols": {
    "lenName": 16,
    "lenType": 16,
    "lenVar": 40
   },
   "kernels_config": {
    "python": {
     "delete_cmd_postfix": "",
     "delete_cmd_prefix": "del ",
     "library": "var_list.py",
     "varRefreshCmd": "print(var_dic_list())"
    },
    "r": {
     "delete_cmd_postfix": ") ",
     "delete_cmd_prefix": "rm(",
     "library": "var_list.r",
     "varRefreshCmd": "cat(var_dic_list()) "
    }
   },
   "types_to_exclude": [
    "module",
    "function",
    "builtin_function_or_method",
    "instance",
    "_Feature"
   ],
   "window_display": false
  }
 },
 "nbformat": 4,
 "nbformat_minor": 4
}
