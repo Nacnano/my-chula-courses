{
 "cells": [
  {
   "cell_type": "markdown",
   "metadata": {
    "id": "GSigx26OuY3K"
   },
   "source": [
    "# Assignment: Preparing Data for Analysis (Modified Titanic)"
   ]
  },
  {
   "cell_type": "markdown",
   "metadata": {
    "id": "tGEv03EbuY3R"
   },
   "source": [
    "![](https://github.com/kaopanboonyuen/2110446_DataScience_2021s2/raw/main/%20files/hw.png)"
   ]
  },
  {
   "cell_type": "markdown",
   "metadata": {
    "id": "4Y7acU90oRtB"
   },
   "source": [
    "# 1) Load data & review the data\n",
    "\n",
    "How many rows are there in the \"titanic_to_student.csv\"?"
   ]
  },
  {
   "cell_type": "code",
   "execution_count": 39,
   "metadata": {
    "executionInfo": {
     "elapsed": 525,
     "status": "ok",
     "timestamp": 1673946487442,
     "user": {
      "displayName": "Peerapon Vateekul",
      "userId": "16254659850492260409"
     },
     "user_tz": -420
    },
    "id": "ENNw4KZRuY3S"
   },
   "outputs": [],
   "source": [
    "#Import the libraries\n",
    "import numpy as np\n",
    "import pandas as pd"
   ]
  },
  {
   "cell_type": "code",
   "execution_count": null,
   "metadata": {},
   "outputs": [],
   "source": []
  },
  {
   "cell_type": "markdown",
   "metadata": {
    "id": "HyyLjiviotA3"
   },
   "source": [
    "# 2) Drop unqualified variables\n",
    "\n",
    "Drop unqualified variables\n",
    "\n",
    "Drop variables with missing > 50%\n",
    "\n",
    "Drop categorical variables with flat values > 70% (variables with the same value in the same column)\n",
    "\n",
    "How many columns do we have left?\n",
    "\n",
    "\n",
    "\n"
   ]
  },
  {
   "cell_type": "code",
   "execution_count": null,
   "metadata": {},
   "outputs": [],
   "source": []
  },
  {
   "cell_type": "markdown",
   "metadata": {
    "id": "3jiMfyPxo7TK"
   },
   "source": [
    "# 3) Remove all rows with missing target (the variable \"Survived\")\n",
    "\n",
    "Remove all rows with missing targets (the variable \"Survived\")\n",
    "\n",
    "How many rows do we have left?\n"
   ]
  },
  {
   "cell_type": "code",
   "execution_count": null,
   "metadata": {},
   "outputs": [],
   "source": []
  },
  {
   "cell_type": "markdown",
   "metadata": {
    "id": "LtgthZWlpDJw"
   },
   "source": [
    "# 4) Handle outliers \n",
    "Handle outliers\n",
    "\n",
    "For the variable “Fare”, replace outlier values with the boundary values\n",
    "\n",
    "If value < (Q1 - 1.5IQR), replace with (Q1 - 1.5IQR)\n",
    "\n",
    "If value > (Q3 + 1.5IQR), replace with (Q3 + 1.5IQR)\n",
    "\n",
    "What is the average (mean) of “Fare” after replacing the outliers (round 2 decimal points)?\n",
    "\n",
    "Hint: Use function round(_, 2)\n",
    "\n"
   ]
  },
  {
   "cell_type": "code",
   "execution_count": null,
   "metadata": {},
   "outputs": [],
   "source": []
  },
  {
   "cell_type": "markdown",
   "metadata": {
    "id": "wkZZEjXHpYS1"
   },
   "source": [
    "# 5) Impute missing value\n",
    "\n",
    "Impute missing value\n",
    "\n",
    "For number type column, impute missing values with mean\n",
    "\n",
    "What is the average (mean) of “Age” after imputing the missing values (round 2 decimal points)?\n",
    "\n",
    "Hint: Use function round(_, 2)\n"
   ]
  },
  {
   "cell_type": "code",
   "execution_count": null,
   "metadata": {},
   "outputs": [],
   "source": []
  },
  {
   "cell_type": "markdown",
   "metadata": {
    "id": "FCR7DNJgt4Cg"
   },
   "source": [
    "# 6) Convert categorical to numeric values\n",
    "\n",
    "Convert categorical to numeric values\n",
    "\n",
    "For the variable “Embarked”, perform the dummy coding.\n",
    "\n",
    "What is the average (mean) of “Embarked_Q” after performing dummy coding (round 2 decimal points)?\n",
    "\n",
    "Hint: Use function round(_, 2)\n",
    "\n"
   ]
  },
  {
   "cell_type": "code",
   "execution_count": null,
   "metadata": {},
   "outputs": [],
   "source": []
  },
  {
   "cell_type": "markdown",
   "metadata": {
    "id": "XZAhqMgst93r"
   },
   "source": [
    "# 7) Partition data\n",
    "Split train/test split with stratification using 70%:30% and random seed with 123\n",
    "\n",
    "Show a proportion between survived (1) and died (0) in all data sets (total data, train, test)\n",
    "\n",
    "What is the proportion of survivors (survived = 1) in the training data (round 2 decimal points)?\n",
    "\n",
    "Hint: Use function round(_, 2), and train_test_split() from sklearn.model_selection\n",
    "\n",
    "\n"
   ]
  },
  {
   "cell_type": "code",
   "execution_count": null,
   "metadata": {},
   "outputs": [],
   "source": []
  }
 ],
 "metadata": {
  "colab": {
   "provenance": [],
   "toc_visible": true
  },
  "kernelspec": {
   "display_name": "Python 3",
   "language": "python",
   "name": "python3"
  },
  "language_info": {
   "codemirror_mode": {
    "name": "ipython",
    "version": 3
   },
   "file_extension": ".py",
   "mimetype": "text/x-python",
   "name": "python",
   "nbconvert_exporter": "python",
   "pygments_lexer": "ipython3",
   "version": "3.11.4"
  },
  "toc": {
   "base_numbering": 1,
   "nav_menu": {},
   "number_sections": true,
   "sideBar": true,
   "skip_h1_title": false,
   "title_cell": "Table of Contents",
   "title_sidebar": "Contents",
   "toc_cell": false,
   "toc_position": {},
   "toc_section_display": true,
   "toc_window_display": false
  }
 },
 "nbformat": 4,
 "nbformat_minor": 0
}
