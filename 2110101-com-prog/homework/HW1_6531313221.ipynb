{
 "cells": [
  {
   "cell_type": "markdown",
   "metadata": {
    "id": "YTDQanrJ86Vh"
   },
   "source": [
    "# 2110101: การบ้านครั้งที่ 1: เรื่อง Expr List Function\n",
    "\n",
    "\n",
    "**จุดมุ่งหมายของการบ้าน**\n",
    "1. เข้าใจและใช้งาน expression, list และ function ได้ \n",
    "2. สร้างความคุ้นเคยกับการบันทึก ดาวน์โหลด และส่งการบ้าน\n",
    "3. เห็นความแตกต่างของการบ้านและ Grader \n",
    "4. ฝึกการปฏิบัติตามความต้องการของโปรแกรม \n",
    "\n",
    "**การส่งงาน**\n",
    "1. ให้แน่ใจว่า ไม่ดูโปรแกรมของคนอื่น\n",
    "2. ให้แน่ใจว่า ไม่ได้ให้คนอื่นดูโปรแกรมของตัวเอง \n",
    "3. ถ้าโปรแกรมการบ้านที่ส่งไปเหมือนของคนอื่น นิสิตจะได้ $0$ ในการบ้านครั้งนี้\n",
    "4. ส่งไฟล์ในรูปแบบ .ipynb ใน MyCourseVille (เลือก File->Download->Download .ipynb)\n",
    "5. ตั้งชื่อไฟล์เป็น HW1_XXXXXXXXX.ipynb เมื่อ XXXXXXXXXX คือ รหัสนิสิต\n",
    "6. กำหนดส่ง คือ ก่อน 23:59 น. ของวันอังคารที่ 30 สิงหาคม 2565\n",
    "\n",
    "**งานของคุณ**\n",
    "\n",
    "กำหนดให้ \n",
    "- $[x_0, x_2, x_3, x_4, x_5]$ เป็นลิสต์ที่เก็บจำนวนจริง\n",
    "- $[y_0, y_2, y_3, y_4, y_5]$ เป็นลิสต์ที่เก็บจำนวนจริง\n",
    "- $a$, $b$, และ $c$ เป็นสัมประสิทธิ์ของสมการ\n",
    "  $\\hat{y}_i$ = $f(x_i) = a{x_i}^2 + b{x_i} + c$\n",
    "- สิ่งที่ต้องการคือ \n",
    "  - วาดกราฟเพื่อดูว่า ค่าของ $\\hat{y}$ กับ $y$ ทั้งหลาย ใกล้เคียงกันแค่ไหน\n",
    "  - หาความคลาดเคลื่อนของการประมาณ $y$ ด้วย $\\hat{y}$\n",
    "\n",
    "ให้นิสิตเขียนฟังก์ชัน `f`, `SSE` และ `main` ตามข้อกำหนดข้างล่างนี้"
   ]
  },
  {
   "cell_type": "markdown",
   "metadata": {
    "id": "KULZ7D8f86Vk"
   },
   "source": [
    "## 1. ฟังก์ชัน f คำนวณสมการกำลังสอง\n",
    "\n",
    "ให้เขียนฟังก์ชัน `f(x, a, b, c)` \n",
    "* รับ `x` และสัมประสิทธิ์ `a`, `b`, `c` คำนวณตามสมการกำลังสอง \n",
    "$\\hat{y}=ax^2+bx+c$ \n",
    "\n",
    "* คืนค่า $\\hat{y}$ \n",
    "\n"
   ]
  },
  {
   "cell_type": "markdown",
   "metadata": {
    "id": "wnt-A8j-86Vk"
   },
   "source": [
    "## 2. ฟังก์ชัน SSE คำนวณ Error\n",
    "\n",
    "หากเราต้องการหาว่า ค่า $\\hat{y}$ ที่คำนวณได้จาก ฟังก์ชัน $f(x, a, b, c)$ ที่เขียนขึ้นนั้นคลาดเคลื่อนจากค่า $y$ ที่กำหนดไว้เท่าใด เราสามารถหาได้จากค่า Sum of Squared Errors (SSE) จากสูตร \n",
    ">$SSE = \\sum_i{(y_i-\\hat{y}_i)^2}$\n",
    "\n",
    "ตัวอย่างเช่น \n",
    "- $[\\hat{y}_0, \\hat{y}_1, \\hat{y}_2, \\hat{y}_3, \\hat{y}_4]$ เป็นลิสต์เก็บค่าที่ที่คำนวณได้จากฟังก์ชัน `f` มีค่า\n",
    "```\n",
    "[372.65, 370.85, 394.65, 444.05, 519.05]\n",
    "```\n",
    "\n",
    "- $[y_0, y_1, y_2, y_3, y_4]$ เป็นลิสต์เก็บค่า y ที่กำหนดให้ มีค่า \n",
    "```\n",
    "[378.66, 372.16, 391.94, 438.0, 510.34]\n",
    "```\n",
    "- จะได้ค่า SSE เท่ากับ\n",
    "$(372.65-378.66)^2+(370.85-372.16)^2+(394.65-391.94)^2+(444.05-438.0)^2+(519.05-510.34)^2 = \n",
    "157.6469$\n",
    "\n",
    "ให้เขียนฟังก์ชัน `SSE(Y, Y_hat)` ที่คืนค่า $SSE$ ที่คำนวณจาก\n",
    "- `Y` ที่เก็บลิสต์ $[y_0, y_1, y_2, y_3, y_4]$ กับ \n",
    "- `Y_hat` ที่เก็บลิสต์ $[\\hat{y}_0, \\hat{y}_1, \\hat{y}_2, \\hat{y}_3, \\hat{y}_4]$"
   ]
  },
  {
   "cell_type": "markdown",
   "metadata": {
    "id": "0QcIPVjl86Vl"
   },
   "source": [
    "## 3. ฟังก์ชัน main()\n",
    "\n",
    "ทำหน้าที่ดังต่อไปนี้ \n",
    "\n",
    "1. กำหนดให้ลิสต์ `X` เป็น `[1, 2, 3, 4, 5]` (เขียนให้แล้ว)\n",
    "2. รับค่าของ $y_0, y_1, y_2, y_3, y_4$ ที่เป็นจำนวนจริงจากแป้นพิมพ์ 5 จำนวน แต่ละจำนวนคั่นด้วยช่องว่าง เก็บใส่ลิสต์ตัวแปร `Y`\n",
    "3. รับค่าของ $a$, $b$, $c$ เป็นจำนวนจริง 3 จำนวน  จำนวนละบรรทัด เก็บใส่ตัวแปร `a`, `b` และ `c`\n",
    "4. สร้างลิสต์ `Y_hat` เก็บค่า $[\\hat{y}_0, \\hat{y}_1, \\hat{y}_2, \\hat{y}_3, \\hat{y}_4]$  ที่คำนวณจากฟังก์ชัน `f(x,a,b,c)` \n",
    "5. พล็อตกราฟ (เขียนให้แล้ว)\n",
    "6. แสดง SSE (เขียนให้แล้ว)\n",
    "\n",
    "ให้นิสิตเขียนโปรแกรมในเซลล์คำตอบด้านล่างนี้ \n",
    "\n",
    "<font color='red'>ห้ามแก้ไขบรรทัดแรกของเซลล์โดยเด็ดขาด มิเช่นนั้นตัวตรวจจะหาคำตอบของนิสิตไม่พบ ทำให้นิสิตได้ 0 คะแนน</font> \n"
   ]
  },
  {
   "cell_type": "code",
   "execution_count": 5,
   "metadata": {
    "id": "RYvxFmzU86Vm"
   },
   "outputs": [
    {
     "data": {
      "image/png": "[encoded data removed]",
      "text/plain": [
       "<Figure size 640x480 with 1 Axes>"
      ]
     },
     "metadata": {},
     "output_type": "display_data"
    },
    {
     "name": "stdout",
     "output_type": "stream",
     "text": [
      "Sum of squared errors = 228.83440000000087\n"
     ]
    }
   ],
   "source": [
    "# HW01 (ไม่ลบหรือแก้ไขบรรทัดนี้ หรือเพิ่มอะไรก่อนบรรทัดนี้ โดยเด็ดขาด)\n",
    "\n",
    "import matplotlib.pyplot as plt \n",
    "\n",
    "def plot(X, Y, Y_hat):\n",
    "    plt.plot(X, Y, 'g+')\n",
    "    plt.plot(X, Y_hat,'r')\n",
    "    plt.show()\n",
    "\n",
    "#======================================\n",
    "def main():\n",
    "    X = [1,2,3,4,5]\n",
    "    # รับค่าของ y ที่เป็นจำนวนจริงจากแป้นพิมพ์ ห้าจำนวน แต่ละจำนวนคั่นด้วยช่องว่าง\n",
    "    # เก็บใส่ตัวแปร Y ที่เป็นลิสต์ห้าช่อง\n",
    "    Y = [float(y) for y in input('Y = ').split()]  # ลอง 378.66 379.16 391.94 438.0 510.34\n",
    "\n",
    "    # รับค่าของ a, b, c ที่เป็นจำนวนจริงจากแป้นพิมพ์ สามจำนวน\n",
    "    a = float(input('a = '))  # ลอง 12.8\n",
    "    b = float(input('b = '))  # ลอง -40.2\n",
    "    c = float(input('c = '))  # ลอง 400.5\n",
    "\n",
    "    # สร้างลิสต์ Y_hat ที่มี 5 ช่อง เก็บค่าของ f(X[0],a,b,c), f(X[1],a,b,c), ..., f(X[4],a,b,c)\n",
    "    Y_hat = [f(x ,a , b, c) for x in X]\n",
    "\n",
    "    # ไม่ต้องแก้ไขสองคำสั่งข้างล่างนี้\n",
    "    plot(X, Y, Y_hat)\n",
    "    print(\"Sum of squared errors =\", SSE(Y, Y_hat))\n",
    "\n",
    "#======================================\n",
    "def f(x, a, b, c):\n",
    "    # x, a, b and c are floats\n",
    "    return a*x**2+b*x+c\n",
    "\n",
    "#======================================\n",
    "def SSE(Y, Y_hat):\n",
    "    # Y and Y_hat are lists of five floats\n",
    "    ret = 0\n",
    "    for i in range(len(Y)):\n",
    "        ret += (Y[i]-Y_hat[i])**2\n",
    "    return ret\n",
    "\n",
    "#======================================\n",
    "    \n",
    "main()"
   ]
  }
 ],
 "metadata": {
  "colab": {
   "collapsed_sections": [],
   "name": "HW1_Exp List Function.ipynb",
   "provenance": []
  },
  "kernelspec": {
   "display_name": "Python 3.10.4 64-bit",
   "language": "python",
   "name": "python3"
  },
  "language_info": {
   "codemirror_mode": {
    "name": "ipython",
    "version": 3
   },
   "file_extension": ".py",
   "mimetype": "text/x-python",
   "name": "python",
   "nbconvert_exporter": "python",
   "pygments_lexer": "ipython3",
   "version": "3.10.4"
  },
  "vscode": {
   "interpreter": {
    "hash": "916dbcbb3f70747c44a77c7bcd40155683ae19c65e1c03b4aa3499c5328201f1"
   }
  }
 },
 "nbformat": 4,
 "nbformat_minor": 0
}
