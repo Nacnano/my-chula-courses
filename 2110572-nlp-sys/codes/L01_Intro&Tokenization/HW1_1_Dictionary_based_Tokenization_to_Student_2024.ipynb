{
  "cells": [
    {
      "cell_type": "markdown",
      "metadata": {
        "id": "7EdbVSmE87En"
      },
      "source": [
        "# HW1.1: Dictionary-based Tokenization\n"
      ]
    },
    {
      "cell_type": "markdown",
      "metadata": {
        "id": "pJJLm1Ub87Et"
      },
      "source": [
        "In this exercise, you are to implement a dictionary-based word segmentation algorithm. There are two Python functions that you need to complete:\n",
        "<br>\n",
        "* maximal_matching\n",
        "* backtrack\n",
        "</br>\n",
        "\n",
        "Also, you have to find how to use word_tokenize() in PythaiNLP along with customer_dict by yourselves."
      ]
    },
    {
      "cell_type": "code",
      "execution_count": null,
      "metadata": {
        "id": "yXxPBOcNLXfm"
      },
      "outputs": [],
      "source": [
        "!pip install pythainlp\n",
        "!pip install marisa_trie\n",
        "from pythainlp.tokenize import word_tokenize\n",
        "from pythainlp.corpus import get_corpus\n",
        "from marisa_trie import Trie"
      ]
    },
    {
      "cell_type": "markdown",
      "metadata": {
        "id": "VLGgO8PrLSz6"
      },
      "source": [
        "## Part 1) Maximal Matching from PythaiNLP"
      ]
    },
    {
      "cell_type": "markdown",
      "metadata": {
        "id": "xzs0R06q87Et"
      },
      "source": [
        "### Create a toy dictionary to test the algorithm\n",
        "\n",
        "This is based on the example shown in the lecture.\n",
        "You will tokenize the following text string: \"ไปหามเหสี!\"\n",
        "The toy dictionary provided in this exercise includes all the charaters, syllables, and words that appear that the text string."
      ]
    },
    {
      "cell_type": "code",
      "execution_count": null,
      "metadata": {
        "id": "pq3W4p3z87Ev"
      },
      "outputs": [],
      "source": [
        "thai_vocab = [\"ไ\",\"ป\",\"ห\",\"า\",\"ม\",\"เ\",\"ห\",\"ส\",\"ี\",\"ไป\",\"หา\",\"หาม\",\"เห\",\"สี\",\"มเหสี\",\"!\"]\n",
        "input_text = \"ไปหามเหสี!\""
      ]
    },
    {
      "cell_type": "markdown",
      "metadata": {
        "id": "LrZrzQoXLeUX"
      },
      "source": [
        "### Example Dictionary\n",
        "\n",
        "Write the `word_tokenize` function of PyThaiNLP with a custom dictionary above and using:\n",
        "1. Longest matching algorithm `longest`\n",
        "2. Maximal-matching algorithm `newmm`\n",
        "\n",
        "Study `word_tokenize()` from PythaiNLP in the link below. Note: `custom_dict` will accept Trie structures as `Trie(iterable)`.\n",
        "\n",
        "https://pythainlp.org/docs/5.0/api/tokenize.html#pythainlp.tokenize.word_tokenize"
      ]
    },
    {
      "cell_type": "code",
      "source": [
        "####FILL CODE HERE####\n",
        "\n",
        "######################"
      ],
      "metadata": {
        "id": "IhCPz25GIbJv"
      },
      "execution_count": null,
      "outputs": []
    },
    {
      "cell_type": "markdown",
      "metadata": {
        "id": "DF5Pme7CK3YF"
      },
      "source": [
        "## Part 2) Maximal Matching from Scratch"
      ]
    },
    {
      "cell_type": "markdown",
      "metadata": {
        "id": "ZornooGF87Ew"
      },
      "source": [
        "### Maximal matching\n",
        "Complete the maximal matching function below with dynamic programming to tokenize the input text and output the 2D numerical array shown in class."
      ]
    },
    {
      "cell_type": "code",
      "execution_count": null,
      "metadata": {
        "id": "Ao4d2E3387Ew"
      },
      "outputs": [],
      "source": [
        "from math import inf #infinity\n",
        "def maximal_matching(c):\n",
        "    #Initialize an empty 2D list\n",
        "    d  =[[None]*len(c) for _ in range(len(c))]\n",
        "\n",
        "    ####FILL CODE HERE####\n",
        "\n",
        "    ######################\n",
        "\n",
        "    return d"
      ]
    },
    {
      "cell_type": "markdown",
      "metadata": {
        "id": "w7vBXfjM87Ew"
      },
      "source": [
        "### Backtracking\n",
        "Complete the backtracking function below to find the tokenzied words.\n",
        "It should return a list containing a pair of the beginning position and the ending position of each word.\n",
        "In this example, it should return:\n",
        "<br>\n",
        "[(0, 1),(2, 3),(4, 8),(9, 9)]\n",
        "<br>\n",
        "#### Each pair contains the position of each word as follows:\n",
        "(0, 1) ไป\n",
        "<br>\n",
        "(2, 3) หา\n",
        "<br>\n",
        "(4, 8) มเหสี\n",
        "<br>\n",
        "(9, 9) !\n"
      ]
    },
    {
      "cell_type": "code",
      "execution_count": null,
      "metadata": {
        "id": "SxNFf1IE87Ex"
      },
      "outputs": [],
      "source": [
        "def backtrack(d):\n",
        "    eow = len(d)-1 # End of Word position\n",
        "    word_pos = [] # Word position\n",
        "    ####FILL CODE HERE####\n",
        "\n",
        "    ######################\n",
        "    word_pos.reverse()\n",
        "    return word_pos"
      ]
    },
    {
      "cell_type": "markdown",
      "metadata": {
        "id": "q0MJkKsh87Ex"
      },
      "source": [
        "### Test your maximal matching algorithm on a toy dictionary\n",
        "\n",
        "Expected output:\n",
        "\n",
        "[1, 1, inf, inf, inf, inf, inf, inf, inf, inf] ไ\n",
        "<br>\n",
        "[None, 2, inf, inf, inf, inf, inf, inf, inf, inf] ป\n",
        "<br>\n",
        "[None, None, 2, 2, 2, inf, inf, inf, inf, inf] ห\n",
        "<br>\n",
        "[None, None, None, 3, inf, inf, inf, inf, inf, inf] า\n",
        "<br>\n",
        "[None, None, None, None, 3, inf, inf, inf, 3, inf] ม\n",
        "<br>\n",
        "[None, None, None, None, None, 3, 3, inf, inf, inf] เ\n",
        "<br>\n",
        "[None, None, None, None, None, None, 4, inf, inf, inf] ห\n",
        "<br>\n",
        "[None, None, None, None, None, None, None, 4, 4, inf] ส\n",
        "<br>\n",
        "[None, None, None, None, None, None, None, None, 5, inf] ี\n",
        "<br>\n",
        "[None, None, None, None, None, None, None, None, None, 4] !\n",
        "<br>"
      ]
    },
    {
      "cell_type": "code",
      "execution_count": null,
      "metadata": {
        "id": "tsmVQIKS87Ey"
      },
      "outputs": [],
      "source": [
        "input_text = \"ไปหามเหสี!\"\n",
        "out = maximal_matching(input_text)\n",
        "for i in range(len(out)):\n",
        "    print(out[i],input_text[i])"
      ]
    },
    {
      "cell_type": "markdown",
      "metadata": {
        "id": "IVhCMM4d87Ey"
      },
      "source": [
        "### Test your backtracking algorithm on a toy dictionary\n",
        "Compare your results with the result from PyThaiNLP `newmm`.\n",
        "\n",
        "Expected output:\n",
        "<br>\n",
        "ไป|หา|มเหสี|!"
      ]
    },
    {
      "cell_type": "code",
      "execution_count": null,
      "metadata": {
        "id": "6Hurbm1f87Ey"
      },
      "outputs": [],
      "source": [
        "def print_tokenized_text(d, input_text):\n",
        "    tokenized_text=[]\n",
        "    for pos in backtrack(d):\n",
        "        #print(pos)\n",
        "        tokenized_text.append(input_text[pos[0]:pos[1]+1])\n",
        "\n",
        "    print(\"|\".join(tokenized_text))\n",
        "\n",
        "print_tokenized_text(out,input_text)"
      ]
    },
    {
      "cell_type": "markdown",
      "source": [
        "### <font color=blue>Question 1</font>\n",
        "Using your maximal matching code with the toy dictionary, how many “words” did you get when tokenizing this input text.\n",
        "\n",
        "Answer this question in question #1 in MyCourseVille. Also print out the answer in this notebook as well."
      ],
      "metadata": {
        "id": "1mZ226USPICM"
      }
    },
    {
      "cell_type": "code",
      "execution_count": null,
      "metadata": {
        "id": "C4c6gX4ySfUh"
      },
      "outputs": [],
      "source": [
        "input_text = \"ไปหาหมามเหสีมาหาม!\""
      ]
    },
    {
      "cell_type": "markdown",
      "metadata": {
        "id": "57rP9cTU87Ez"
      },
      "source": [
        "## Part 3) Your Maximal Matching with Real Dictionary"
      ]
    },
    {
      "cell_type": "markdown",
      "metadata": {
        "id": "V306h7AG87Ez"
      },
      "source": [
        "For UNIX-based OS users, the following cell will download a dictionary (it's just a list of thai words). Alternatively, you can download it from this link: https://raw.githubusercontent.com/PyThaiNLP/pythainlp/dev/pythainlp/corpus/words_th.txt"
      ]
    },
    {
      "cell_type": "code",
      "execution_count": null,
      "metadata": {
        "id": "EFVR9LO187Ez",
        "scrolled": true
      },
      "outputs": [],
      "source": [
        "!wget https://raw.githubusercontent.com/PyThaiNLP/pythainlp/dev/pythainlp/corpus/words_th.txt"
      ]
    },
    {
      "cell_type": "code",
      "execution_count": null,
      "metadata": {
        "id": "nqIQzVgE87E0"
      },
      "outputs": [],
      "source": [
        "with open(\"words_th.txt\",encoding='utf-8-sig') as f:\n",
        "    thai_vocab = f.read().splitlines()\n",
        "print(\"Vocab size:\", len(thai_vocab))\n",
        "print(thai_vocab[:10])\n",
        "\n",
        "thai_vocab.extend([\"ๆ\",\"!\"])"
      ]
    },
    {
      "cell_type": "markdown",
      "metadata": {
        "id": "Kpjwzw1w87E0"
      },
      "source": [
        "### Part 3.1) The output of **YOUR** maximal matching algoithm on the new dictionary\n",
        "Expected output:\n",
        "<br>\n",
        "[inf, 1, inf, 1, inf, inf, inf, inf, inf] ไ\n",
        "<br>\n",
        "[None, inf, inf, inf, inf, inf, inf, inf, inf] ป\n",
        "<br>\n",
        "[None, None, inf, 2, 2, inf, inf, inf, inf] ห\n",
        "<br>\n",
        "[None, None, None, inf, inf, inf, inf, inf, inf] า\n",
        "<br>\n",
        "[None, None, None, None, inf, inf, inf, inf, 2] ม\n",
        "<br>\n",
        "[None, None, None, None, None, inf, 3, inf, inf] เ\n",
        "<br>\n",
        "[None, None, None, None, None, None, inf, inf, inf] ห\n",
        "<br>\n",
        "[None, None, None, None, None, None, None, inf, 4] ส\n",
        "<br>\n",
        "[None, None, None, None, None, None, None, None, inf] ี\n",
        "\n",
        "### Expected tokenized text\n",
        "ไปหา|มเหสี\n",
        "\n",
        "_Question: Why are the resulting tokens different?_"
      ]
    },
    {
      "cell_type": "code",
      "execution_count": null,
      "metadata": {
        "id": "lYD5ChIS87E0"
      },
      "outputs": [],
      "source": [
        "input_text = \"ไปหามเหสี\"\n",
        "out = maximal_matching(input_text)\n",
        "for i in range(len(out)):\n",
        "    print(out[i],input_text[i])\n",
        "\n",
        "print_tokenized_text(out,input_text)"
      ]
    },
    {
      "cell_type": "markdown",
      "source": [
        "### <font color=blue>Question 2</font>\n",
        "Using your maximal matching algorithm and the actual Thai dictionary, how many “words” did you get when tokenizing this input text.\n",
        "\n",
        "Answer this question in question #2 in MyCourseVille. Also print out the answer in this notebook as well."
      ],
      "metadata": {
        "id": "ajiIkN-SQKCq"
      }
    },
    {
      "cell_type": "code",
      "source": [
        "input_text = \"ประเทศไทยรวมเลือดเนื้อชาติเชื้อไทยเป็นประชารัฐไผทของไทยทุกส่วนอยู่ดำรงคงไว้ได้ทั้งมวลด้วยไทยล้วนหมายรักสามัคคี\""
      ],
      "metadata": {
        "id": "G5Kd9_z-QV9D"
      },
      "execution_count": null,
      "outputs": []
    },
    {
      "cell_type": "markdown",
      "source": [
        "### Part 3.2) Use PyThaiNLP `word_tokenize` with custom dictionary\n",
        "\n",
        "Try tokenizing the following text with `word_tokenize` in `newmm` algorithm and default real dictionary."
      ],
      "metadata": {
        "id": "hqtT1ISUHY_I"
      }
    },
    {
      "cell_type": "code",
      "execution_count": null,
      "metadata": {
        "id": "goQE5gFUL4KO"
      },
      "outputs": [],
      "source": [
        "text='นัดกินกันตอนไหนก็ได้ที่สามย่านมิตรทาวน์'\n",
        "\n",
        "####FILL CODE HERE####\n",
        "\n",
        "######################"
      ]
    },
    {
      "cell_type": "markdown",
      "metadata": {
        "id": "2SlX5cEBMHPd"
      },
      "source": [
        "Add 'สามย่านมิตรทาวน์' into dictionary and then tokenize again"
      ]
    },
    {
      "cell_type": "code",
      "execution_count": null,
      "metadata": {
        "id": "b4V9TqFaMPAj"
      },
      "outputs": [],
      "source": [
        "####FILL CODE HERE####\n",
        "\n",
        "######################"
      ]
    },
    {
      "cell_type": "markdown",
      "source": [
        "### <font color=blue>Question 3</font>\n",
        "Using the code from part three only, how many “words” did you get when tokenizing this input text **after adding the new vocabs**.\n",
        "\n",
        "Answer this question in question #3 in MyCourseVille. Also print out the answer in this notebook as well."
      ],
      "metadata": {
        "id": "y1Lww7VVSmYj"
      }
    },
    {
      "cell_type": "code",
      "execution_count": null,
      "metadata": {
        "id": "E_JHjViLajJi"
      },
      "outputs": [],
      "source": [
        "new_vocab = [\"ดิสนีย์ออนไอซ์\", \"ตีกอล์ฟ\", \"ธรรมมะ\"]\n",
        "input_text = \"อ๋อก็ว่าจะไปเรียนแต่งหน้านั่งสมาธิดำน้ำปลูกปะการังทำอาหารนวดสปาปลูกป่าดำนาดูดิสนีย์ออนไอซ์แรลลี่ตีกอล์ฟล่องเรือส่องสัตว์ช้อปปิ้งดูงิ้วดูละครเวทีดูคอนเสิร์ตดินเนอร์ทำขนมจัดดอกไม้เที่ยวตลาดน้ำเรียนถ่ายรูปดูกายกรรมชมเมืองเก่าเข้าสัมมนาทัวร์ธรรมมะเรียนเต้นแล้วก็ร้องเพลง\""
      ]
    },
    {
      "cell_type": "markdown",
      "source": [
        "## Part 4) Use maximal matching on real dataset\n",
        "\n",
        "To complete this exercise, we will use the maximal matching algorithm on NECTEC's BEST corpus.\n",
        "\n",
        "The corpus has a structure of characters with target whether it's a beginning of a word (True/False)."
      ],
      "metadata": {
        "id": "zKZEBhpQTeiA"
      }
    },
    {
      "cell_type": "code",
      "source": [
        "#Download dataset\n",
        "!gdown \"1EcrlXYUyIEM3aeIJse6nPpiv_UjSKgoU&confirm=t\""
      ],
      "metadata": {
        "id": "mdw7k8CzUSK4"
      },
      "execution_count": null,
      "outputs": []
    },
    {
      "cell_type": "code",
      "source": [
        "!tar xvf corpora.tar.gz"
      ],
      "metadata": {
        "id": "QBdyPTEGUXDW"
      },
      "execution_count": null,
      "outputs": []
    },
    {
      "cell_type": "code",
      "source": [
        "import pandas as pd\n",
        "import os"
      ],
      "metadata": {
        "id": "ndv-whcXU2_5"
      },
      "execution_count": null,
      "outputs": []
    },
    {
      "cell_type": "code",
      "source": [
        "# Path to the preprocessed data\n",
        "best_processed_path = 'corpora/BEST'\n",
        "option = \"test\"\n",
        "\n",
        "df = []\n",
        "# article types in BEST corpus\n",
        "article_types = ['article', 'encyclopedia', 'news', 'novel']\n",
        "for article_type in article_types:\n",
        "    df.append(pd.read_csv(os.path.join(best_processed_path, option, 'df_best_{}_{}.csv'.format(article_type, option))))\n",
        "df = pd.concat(df)\n",
        "df"
      ],
      "metadata": {
        "id": "l6fgMSRYUY5G"
      },
      "execution_count": null,
      "outputs": []
    },
    {
      "cell_type": "code",
      "source": [
        "len(df)"
      ],
      "metadata": {
        "id": "Dip-NI94U_YC"
      },
      "execution_count": null,
      "outputs": []
    },
    {
      "cell_type": "code",
      "source": [
        "# Some text in this corpus\n",
        "all_text = \"\".join(df['char'].tolist())\n",
        "all_text[:1000]"
      ],
      "metadata": {
        "id": "7bNjYdcJVgov"
      },
      "execution_count": null,
      "outputs": []
    },
    {
      "cell_type": "markdown",
      "source": [
        "### <font color=blue>Question 4</font>\n",
        "Using PyThaiNLP `newmm`, how many words did you get in the BEST corpus (test)? [Runtime is around 7 mins] What are the accuracy, f1, precision, recall scores for each character?\n",
        "\n",
        "Answer this question in question #4 in MyCourseVille. Also print out the answer in this notebook as well.\n",
        "\n",
        "_Question: What main metric should we look at? Why?_"
      ],
      "metadata": {
        "id": "18d3EXoPWg7o"
      }
    },
    {
      "cell_type": "code",
      "source": [
        "####FILL CODE HERE####\n",
        "\n",
        "######################"
      ],
      "metadata": {
        "id": "2RUPPoxLWZr8"
      },
      "execution_count": null,
      "outputs": []
    },
    {
      "cell_type": "code",
      "source": [
        "def convert_to_character(_tokens):\n",
        "  char_list = [0]*len(\"\".join(_tokens))\n",
        "  char_count = 0\n",
        "  for word in _tokens:\n",
        "    char_list[char_count] = 1\n",
        "    char_count += len(word)\n",
        "  return char_list\n",
        "\n",
        "chars = convert_to_character(tokens)\n",
        "chars[:20]"
      ],
      "metadata": {
        "id": "o40FPwvIXKIQ"
      },
      "execution_count": null,
      "outputs": []
    },
    {
      "cell_type": "code",
      "source": [
        "from sklearn.metrics import f1_score,precision_score,recall_score,accuracy_score\n",
        "\n",
        "####FILL CODE HERE####\n",
        "\n",
        "######################"
      ],
      "metadata": {
        "id": "5NXWxbiWZHSd"
      },
      "execution_count": null,
      "outputs": []
    }
  ],
  "metadata": {
    "colab": {
      "provenance": [],
      "toc_visible": true
    },
    "kernelspec": {
      "display_name": "Python 3",
      "language": "python",
      "name": "python3"
    },
    "language_info": {
      "codemirror_mode": {
        "name": "ipython",
        "version": 3
      },
      "file_extension": ".py",
      "mimetype": "text/x-python",
      "name": "python",
      "nbconvert_exporter": "python",
      "pygments_lexer": "ipython3",
      "version": "3.6.4"
    }
  },
  "nbformat": 4,
  "nbformat_minor": 0
}