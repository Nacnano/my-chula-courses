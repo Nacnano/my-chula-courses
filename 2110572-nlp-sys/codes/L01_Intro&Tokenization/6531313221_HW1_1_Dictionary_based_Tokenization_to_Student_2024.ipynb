{
  "cells": [
    {
      "cell_type": "markdown",
      "metadata": {
        "id": "7EdbVSmE87En"
      },
      "source": [
        "# HW1.1: Dictionary-based Tokenization\n"
      ]
    },
    {
      "cell_type": "markdown",
      "metadata": {
        "id": "pJJLm1Ub87Et"
      },
      "source": [
        "In this exercise, you are to implement a dictionary-based word segmentation algorithm. There are two Python functions that you need to complete:\n",
        "<br>\n",
        "* maximal_matching\n",
        "* backtrack\n",
        "</br>\n",
        "\n",
        "Also, you have to find how to use word_tokenize() in PythaiNLP along with customer_dict by yourselves."
      ]
    },
    {
      "cell_type": "code",
      "execution_count": 1,
      "metadata": {
        "id": "yXxPBOcNLXfm"
      },
      "outputs": [
        {
          "name": "stdout",
          "output_type": "stream",
          "text": [
            "Collecting pythainlp\n",
            "  Downloading pythainlp-5.0.5-py3-none-any.whl.metadata (7.5 kB)\n",
            "Requirement already satisfied: requests>=2.22.0 in c:\\users\\vivobook\\appdata\\local\\packages\\pythonsoftwarefoundation.python.3.11_qbz5n2kfra8p0\\localcache\\local-packages\\python311\\site-packages (from pythainlp) (2.32.3)\n",
            "Requirement already satisfied: tzdata in c:\\users\\vivobook\\appdata\\local\\packages\\pythonsoftwarefoundation.python.3.11_qbz5n2kfra8p0\\localcache\\local-packages\\python311\\site-packages (from pythainlp) (2024.2)\n",
            "Requirement already satisfied: charset-normalizer<4,>=2 in c:\\users\\vivobook\\appdata\\local\\packages\\pythonsoftwarefoundation.python.3.11_qbz5n2kfra8p0\\localcache\\local-packages\\python311\\site-packages (from requests>=2.22.0->pythainlp) (3.4.0)\n",
            "Requirement already satisfied: idna<4,>=2.5 in c:\\users\\vivobook\\appdata\\local\\packages\\pythonsoftwarefoundation.python.3.11_qbz5n2kfra8p0\\localcache\\local-packages\\python311\\site-packages (from requests>=2.22.0->pythainlp) (3.10)\n",
            "Requirement already satisfied: urllib3<3,>=1.21.1 in c:\\users\\vivobook\\appdata\\local\\packages\\pythonsoftwarefoundation.python.3.11_qbz5n2kfra8p0\\localcache\\local-packages\\python311\\site-packages (from requests>=2.22.0->pythainlp) (2.2.3)\n",
            "Requirement already satisfied: certifi>=2017.4.17 in c:\\users\\vivobook\\appdata\\local\\packages\\pythonsoftwarefoundation.python.3.11_qbz5n2kfra8p0\\localcache\\local-packages\\python311\\site-packages (from requests>=2.22.0->pythainlp) (2024.8.30)\n",
            "Downloading pythainlp-5.0.5-py3-none-any.whl (17.9 MB)\n",
            "   ---------------------------------------- 0.0/17.9 MB ? eta -:--:--\n",
            "   ---- ----------------------------------- 2.1/17.9 MB 10.7 MB/s eta 0:00:02\n",
            "   ------------ --------------------------- 5.8/17.9 MB 14.1 MB/s eta 0:00:01\n",
            "   --------------------- ------------------ 9.7/17.9 MB 15.9 MB/s eta 0:00:01\n",
            "   ----------------------------- ---------- 13.1/17.9 MB 15.8 MB/s eta 0:00:01\n",
            "   ---------------------------------- ----- 15.5/17.9 MB 15.5 MB/s eta 0:00:01\n",
            "   ---------------------------------------  17.6/17.9 MB 14.0 MB/s eta 0:00:01\n",
            "   ---------------------------------------- 17.9/17.9 MB 13.5 MB/s eta 0:00:00\n",
            "Installing collected packages: pythainlp\n",
            "Successfully installed pythainlp-5.0.5\n",
            "Requirement already satisfied: marisa_trie in c:\\users\\vivobook\\appdata\\local\\packages\\pythonsoftwarefoundation.python.3.11_qbz5n2kfra8p0\\localcache\\local-packages\\python311\\site-packages (1.2.1)\n",
            "Requirement already satisfied: setuptools in c:\\users\\vivobook\\appdata\\local\\packages\\pythonsoftwarefoundation.python.3.11_qbz5n2kfra8p0\\localcache\\local-packages\\python311\\site-packages (from marisa_trie) (74.1.2)\n"
          ]
        }
      ],
      "source": [
        "!pip install pythainlp\n",
        "!pip install marisa_trie"
      ]
    },
    {
      "cell_type": "code",
      "execution_count": 2,
      "metadata": {},
      "outputs": [],
      "source": [
        "from pythainlp.tokenize import word_tokenize\n",
        "from pythainlp.corpus import get_corpus\n",
        "from marisa_trie import Trie"
      ]
    },
    {
      "cell_type": "markdown",
      "metadata": {
        "id": "VLGgO8PrLSz6"
      },
      "source": [
        "## Part 1) Maximal Matching from PythaiNLP"
      ]
    },
    {
      "cell_type": "markdown",
      "metadata": {
        "id": "xzs0R06q87Et"
      },
      "source": [
        "### Create a toy dictionary to test the algorithm\n",
        "\n",
        "This is based on the example shown in the lecture.\n",
        "You will tokenize the following text string: \"ไปหามเหสี!\"\n",
        "The toy dictionary provided in this exercise includes all the charaters, syllables, and words that appear that the text string."
      ]
    },
    {
      "cell_type": "code",
      "execution_count": 3,
      "metadata": {
        "id": "pq3W4p3z87Ev"
      },
      "outputs": [],
      "source": [
        "thai_vocab = [\"ไ\",\"ป\",\"ห\",\"า\",\"ม\",\"เ\",\"ห\",\"ส\",\"ี\",\"ไป\",\"หา\",\"หาม\",\"เห\",\"สี\",\"มเหสี\",\"!\"]\n",
        "input_text = \"ไปหามเหสี!\""
      ]
    },
    {
      "cell_type": "markdown",
      "metadata": {
        "id": "LrZrzQoXLeUX"
      },
      "source": [
        "### Example Dictionary\n",
        "\n",
        "Write the `word_tokenize` function of PyThaiNLP with a custom dictionary above and using:\n",
        "1. Longest matching algorithm `longest`\n",
        "2. Maximal-matching algorithm `newmm`\n",
        "\n",
        "Study `word_tokenize()` from PythaiNLP in the link below. Note: `custom_dict` will accept Trie structures as `Trie(iterable)`.\n",
        "\n",
        "https://pythainlp.org/docs/5.0/api/tokenize.html#pythainlp.tokenize.word_tokenize"
      ]
    },
    {
      "cell_type": "code",
      "execution_count": 4,
      "metadata": {
        "id": "IhCPz25GIbJv"
      },
      "outputs": [
        {
          "name": "stdout",
          "output_type": "stream",
          "text": [
            "['ไป', 'หาม', 'เห', 'สี', '!']\n",
            "['ไป', 'หา', 'มเหสี', '!']\n"
          ]
        }
      ],
      "source": [
        "####FILL CODE HERE####\n",
        "from pythainlp.tokenize import word_tokenize\n",
        "from pythainlp.util import Trie\n",
        "\n",
        "thai_vocab_dict = Trie(words=thai_vocab)\n",
        "tokens_longest = word_tokenize(input_text, engine=\"longest\", custom_dict=thai_vocab_dict)\n",
        "tokens_mm = word_tokenize(input_text, engine=\"newmm\", custom_dict=thai_vocab_dict)\n",
        "\n",
        "print(tokens_longest)\n",
        "print(tokens_mm)\n",
        "######################\n",
        "######################"
      ]
    },
    {
      "cell_type": "markdown",
      "metadata": {
        "id": "DF5Pme7CK3YF"
      },
      "source": [
        "## Part 2) Maximal Matching from Scratch"
      ]
    },
    {
      "cell_type": "markdown",
      "metadata": {
        "id": "ZornooGF87Ew"
      },
      "source": [
        "### Maximal matching\n",
        "Complete the maximal matching function below with dynamic programming to tokenize the input text and output the 2D numerical array shown in class."
      ]
    },
    {
      "cell_type": "code",
      "execution_count": 5,
      "metadata": {
        "id": "Ao4d2E3387Ew"
      },
      "outputs": [],
      "source": [
        "from math import inf #infinity\n",
        "def maximal_matching(c):\n",
        "    #Initialize an empty 2D list\n",
        "    d  =[[None]*len(c) for _ in range(len(c))]\n",
        "\n",
        "    ####FILL CODE HERE####\n",
        "    for i in range(len(c)):\n",
        "        for j in range(i, len(c)):\n",
        "            if i==0 and c[:j+1] in thai_vocab:\n",
        "                d[i][j] = 1\n",
        "            elif c[i:j+1] in thai_vocab:\n",
        "                for k in range(0, i):\n",
        "                    if(d[k][i-1] is None):\n",
        "                        d[k][i-1] = 0\n",
        "                    if(d[i][j] is None):\n",
        "                        d[i][j] = 1 + d[k][i-1]\n",
        "                    d[i][j] = min(d[i][j], 1 + d[k][i-1])\n",
        "            else:\n",
        "                d[i][j] = inf\n",
        "    ######################\n",
        "\n",
        "    return d"
      ]
    },
    {
      "cell_type": "markdown",
      "metadata": {
        "id": "w7vBXfjM87Ew"
      },
      "source": [
        "### Backtracking\n",
        "Complete the backtracking function below to find the tokenzied words.\n",
        "It should return a list containing a pair of the beginning position and the ending position of each word.\n",
        "In this example, it should return:\n",
        "<br>\n",
        "[(0, 1),(2, 3),(4, 8),(9, 9)]\n",
        "<br>\n",
        "#### Each pair contains the position of each word as follows:\n",
        "(0, 1) ไป\n",
        "<br>\n",
        "(2, 3) หา\n",
        "<br>\n",
        "(4, 8) มเหสี\n",
        "<br>\n",
        "(9, 9) !\n"
      ]
    },
    {
      "cell_type": "code",
      "execution_count": 6,
      "metadata": {
        "id": "SxNFf1IE87Ex"
      },
      "outputs": [],
      "source": [
        "def backtrack(c:str, d):\n",
        "    eow = len(d)-1 # End of Word position\n",
        "    word_pos = [] # Word position\n",
        "    ####FILL CODE HERE####\n",
        "    j = eow\n",
        "    while j >= 0:\n",
        "        for i in range(j+1):\n",
        "            if d[i][j] != inf and c[i:j+1] in thai_vocab:\n",
        "                word_pos.append((i,j))\n",
        "                j = i-1\n",
        "                break\n",
        "    ######################\n",
        "    word_pos.reverse()\n",
        "    return word_pos"
      ]
    },
    {
      "cell_type": "markdown",
      "metadata": {
        "id": "q0MJkKsh87Ex"
      },
      "source": [
        "### Test your maximal matching algorithm on a toy dictionary\n",
        "\n",
        "Expected output:\n",
        "\n",
        "[1, 1, inf, inf, inf, inf, inf, inf, inf, inf] ไ\n",
        "<br>\n",
        "[None, 2, inf, inf, inf, inf, inf, inf, inf, inf] ป\n",
        "<br>\n",
        "[None, None, 2, 2, 2, inf, inf, inf, inf, inf] ห\n",
        "<br>\n",
        "[None, None, None, 3, inf, inf, inf, inf, inf, inf] า\n",
        "<br>\n",
        "[None, None, None, None, 3, inf, inf, inf, 3, inf] ม\n",
        "<br>\n",
        "[None, None, None, None, None, 3, 3, inf, inf, inf] เ\n",
        "<br>\n",
        "[None, None, None, None, None, None, 4, inf, inf, inf] ห\n",
        "<br>\n",
        "[None, None, None, None, None, None, None, 4, 4, inf] ส\n",
        "<br>\n",
        "[None, None, None, None, None, None, None, None, 5, inf] ี\n",
        "<br>\n",
        "[None, None, None, None, None, None, None, None, None, 4] !\n",
        "<br>"
      ]
    },
    {
      "cell_type": "code",
      "execution_count": 7,
      "metadata": {
        "id": "tsmVQIKS87Ey"
      },
      "outputs": [
        {
          "name": "stdout",
          "output_type": "stream",
          "text": [
            "[1, 1, inf, inf, inf, inf, inf, inf, inf, inf] ไ\n",
            "[None, 2, inf, inf, inf, inf, inf, inf, inf, inf] ป\n",
            "[None, None, 2, 2, 2, inf, inf, inf, inf, inf] ห\n",
            "[None, None, None, 3, inf, inf, inf, inf, inf, inf] า\n",
            "[None, None, None, None, 3, inf, inf, inf, 3, inf] ม\n",
            "[None, None, None, None, None, 3, 3, inf, inf, inf] เ\n",
            "[None, None, None, None, None, None, 4, inf, inf, inf] ห\n",
            "[None, None, None, None, None, None, None, 4, 4, inf] ส\n",
            "[None, None, None, None, None, None, None, None, 5, inf] ี\n",
            "[None, None, None, None, None, None, None, None, None, 4] !\n"
          ]
        }
      ],
      "source": [
        "input_text = \"ไปหามเหสี!\"\n",
        "out = maximal_matching(input_text)\n",
        "for i in range(len(out)):\n",
        "    print(out[i],input_text[i])"
      ]
    },
    {
      "cell_type": "markdown",
      "metadata": {
        "id": "IVhCMM4d87Ey"
      },
      "source": [
        "### Test your backtracking algorithm on a toy dictionary\n",
        "Compare your results with the result from PyThaiNLP `newmm`.\n",
        "\n",
        "Expected output:\n",
        "<br>\n",
        "ไป|หา|มเหสี|!"
      ]
    },
    {
      "cell_type": "code",
      "execution_count": 8,
      "metadata": {
        "id": "6Hurbm1f87Ey"
      },
      "outputs": [
        {
          "name": "stdout",
          "output_type": "stream",
          "text": [
            "ไป|หา|มเหสี|!\n"
          ]
        }
      ],
      "source": [
        "def print_tokenized_text(d, input_text):\n",
        "    tokenized_text=[]\n",
        "    for pos in backtrack(input_text, d):\n",
        "        #print(pos)\n",
        "        tokenized_text.append(input_text[pos[0]:pos[1]+1])\n",
        "\n",
        "    print(\"|\".join(tokenized_text))\n",
        "\n",
        "print_tokenized_text(out,input_text)"
      ]
    },
    {
      "cell_type": "markdown",
      "metadata": {
        "id": "1mZ226USPICM"
      },
      "source": [
        "### <font color=blue>Question 1</font>\n",
        "Using your maximal matching code with the toy dictionary, how many “words” did you get when tokenizing this input text.\n",
        "\n",
        "Answer this question in question #1 in MyCourseVille. Also print out the answer in this notebook as well."
      ]
    },
    {
      "cell_type": "code",
      "execution_count": 12,
      "metadata": {
        "id": "C4c6gX4ySfUh"
      },
      "outputs": [
        {
          "name": "stdout",
          "output_type": "stream",
          "text": [
            "10\n",
            "ไป|หา|ห|ม|า|มเหสี|ม|า|หาม|!\n"
          ]
        }
      ],
      "source": [
        "input_text = \"ไปหาหมามเหสีมาหาม!\"\n",
        "out = maximal_matching(input_text)\n",
        "print(min([len for len in out[-1] if type(len) == int]))\n",
        "\n",
        "print_tokenized_text(out, input_text)"
      ]
    },
    {
      "cell_type": "markdown",
      "metadata": {
        "id": "57rP9cTU87Ez"
      },
      "source": [
        "## Part 3) Your Maximal Matching with Real Dictionary"
      ]
    },
    {
      "cell_type": "markdown",
      "metadata": {
        "id": "V306h7AG87Ez"
      },
      "source": [
        "For UNIX-based OS users, the following cell will download a dictionary (it's just a list of thai words). Alternatively, you can download it from this link: https://raw.githubusercontent.com/PyThaiNLP/pythainlp/dev/pythainlp/corpus/words_th.txt"
      ]
    },
    {
      "cell_type": "code",
      "execution_count": 23,
      "metadata": {
        "id": "EFVR9LO187Ez",
        "scrolled": true
      },
      "outputs": [
        {
          "name": "stderr",
          "output_type": "stream",
          "text": [
            "'wget' is not recognized as an internal or external command,\n",
            "operable program or batch file.\n"
          ]
        }
      ],
      "source": [
        "!wget https://raw.githubusercontent.com/PyThaiNLP/pythainlp/dev/pythainlp/corpus/words_th.txt"
      ]
    },
    {
      "cell_type": "code",
      "execution_count": 13,
      "metadata": {
        "id": "nqIQzVgE87E0"
      },
      "outputs": [
        {
          "name": "stdout",
          "output_type": "stream",
          "text": [
            "Vocab size: 62077\n",
            "['ก ข ไม่กระดิกหู', 'ก.', 'ก.ค.', 'ก.ต.', 'ก.ป.ส.', 'ก.พ.', 'ก.พ.ด.', 'ก.ม.', 'ก.ย.', 'ก.ย']\n"
          ]
        }
      ],
      "source": [
        "with open(\"words_th.txt\",encoding='utf-8-sig') as f:\n",
        "    thai_vocab = f.read().splitlines()\n",
        "print(\"Vocab size:\", len(thai_vocab))\n",
        "print(thai_vocab[:10])\n",
        "\n",
        "thai_vocab.extend([\"ๆ\",\"!\"])"
      ]
    },
    {
      "cell_type": "markdown",
      "metadata": {
        "id": "Kpjwzw1w87E0"
      },
      "source": [
        "### Part 3.1) The output of **YOUR** maximal matching algoithm on the new dictionary\n",
        "Expected output:\n",
        "<br>\n",
        "[inf, 1, inf, 1, inf, inf, inf, inf, inf] ไ\n",
        "<br>\n",
        "[None, inf, inf, inf, inf, inf, inf, inf, inf] ป\n",
        "<br>\n",
        "[None, None, inf, 2, 2, inf, inf, inf, inf] ห\n",
        "<br>\n",
        "[None, None, None, inf, inf, inf, inf, inf, inf] า\n",
        "<br>\n",
        "[None, None, None, None, inf, inf, inf, inf, 2] ม\n",
        "<br>\n",
        "[None, None, None, None, None, inf, 3, inf, inf] เ\n",
        "<br>\n",
        "[None, None, None, None, None, None, inf, inf, inf] ห\n",
        "<br>\n",
        "[None, None, None, None, None, None, None, inf, 4] ส\n",
        "<br>\n",
        "[None, None, None, None, None, None, None, None, inf] ี\n",
        "\n",
        "### Expected tokenized text\n",
        "ไปหา|มเหสี\n",
        "\n",
        "_Question: Why are the resulting tokens different?_\n",
        "\n",
        "Answer: There are many ways to tokenize the word string."
      ]
    },
    {
      "cell_type": "code",
      "execution_count": 14,
      "metadata": {
        "id": "lYD5ChIS87E0"
      },
      "outputs": [
        {
          "name": "stdout",
          "output_type": "stream",
          "text": [
            "[inf, 1, inf, 1, inf, inf, inf, inf, inf] ไ\n",
            "[None, inf, inf, inf, inf, inf, inf, inf, inf] ป\n",
            "[None, None, inf, 2, 2, inf, inf, inf, inf] ห\n",
            "[None, None, None, inf, inf, inf, inf, inf, inf] า\n",
            "[None, None, None, None, inf, inf, inf, inf, 2] ม\n",
            "[None, None, None, None, None, inf, 3, inf, inf] เ\n",
            "[None, None, None, None, None, None, inf, inf, inf] ห\n",
            "[None, None, None, None, None, None, None, inf, 4] ส\n",
            "[None, None, None, None, None, None, None, None, inf] ี\n",
            "ไปหา|มเหสี\n"
          ]
        }
      ],
      "source": [
        "input_text = \"ไปหามเหสี\"\n",
        "out = maximal_matching(input_text)\n",
        "for i in range(len(out)):\n",
        "    print(out[i],input_text[i])\n",
        "\n",
        "print_tokenized_text(out,input_text)"
      ]
    },
    {
      "cell_type": "markdown",
      "metadata": {
        "id": "ajiIkN-SQKCq"
      },
      "source": [
        "### <font color=blue>Question 2</font>\n",
        "Using your maximal matching algorithm and the actual Thai dictionary, how many “words” did you get when tokenizing this input text.\n",
        "\n",
        "Answer this question in question #2 in MyCourseVille. Also print out the answer in this notebook as well."
      ]
    },
    {
      "cell_type": "code",
      "execution_count": 15,
      "metadata": {
        "id": "G5Kd9_z-QV9D"
      },
      "outputs": [],
      "source": [
        "input_text = \"ประเทศไทยรวมเลือดเนื้อชาติเชื้อไทยเป็นประชารัฐไผทของไทยทุกส่วนอยู่ดำรงคงไว้ได้ทั้งมวลด้วยไทยล้วนหมายรักสามัคคี\""
      ]
    },
    {
      "cell_type": "code",
      "execution_count": 17,
      "metadata": {},
      "outputs": [
        {
          "name": "stdout",
          "output_type": "stream",
          "text": [
            "26\n",
            "ประเทศ|ไทย|รวม|เลือดเนื้อ|ชาติ|เชื้อ|ไทย|เป็น|ประชา|รัฐ|ไผท|ของ|ไทย|ทุก|ส่วน|อยู่|ดำรง|คงไว้|ได้|ทั้งมวล|ด้วย|ไทย|ล้วน|หมาย|รัก|สามัคคี\n"
          ]
        }
      ],
      "source": [
        "out = maximal_matching(input_text)\n",
        "word_pos = backtrack(input_text, out)\n",
        "print(len(word_pos))\n",
        "print_tokenized_text(out,input_text)"
      ]
    },
    {
      "cell_type": "markdown",
      "metadata": {
        "id": "hqtT1ISUHY_I"
      },
      "source": [
        "### Part 3.2) Use PyThaiNLP `word_tokenize` with custom dictionary\n",
        "\n",
        "Try tokenizing the following text with `word_tokenize` in `newmm` algorithm and default real dictionary."
      ]
    },
    {
      "cell_type": "code",
      "execution_count": 19,
      "metadata": {
        "id": "goQE5gFUL4KO"
      },
      "outputs": [
        {
          "name": "stdout",
          "output_type": "stream",
          "text": [
            "['นัด', 'กินกัน', 'ตอน', 'ไหน', 'ก็', 'ได้ที่', 'สามย่าน', 'มิตร', 'ทาวน์']\n"
          ]
        }
      ],
      "source": [
        "text='นัดกินกันตอนไหนก็ได้ที่สามย่านมิตรทาวน์'\n",
        "\n",
        "####FILL CODE HERE####\n",
        "tokens = word_tokenize(text, engine=\"newmm\")\n",
        "print(tokens)\n",
        "######################"
      ]
    },
    {
      "cell_type": "markdown",
      "metadata": {
        "id": "2SlX5cEBMHPd"
      },
      "source": [
        "Add 'สามย่านมิตรทาวน์' into dictionary and then tokenize again"
      ]
    },
    {
      "cell_type": "code",
      "execution_count": 20,
      "metadata": {
        "id": "b4V9TqFaMPAj"
      },
      "outputs": [
        {
          "name": "stdout",
          "output_type": "stream",
          "text": [
            "['นัด', 'กินกัน', 'ตอน', 'ไหน', 'ก็', 'ได้ที่', 'สามย่านมิตรทาวน์']\n"
          ]
        }
      ],
      "source": [
        "####FILL CODE HERE####\n",
        "from pythainlp.corpus import thai_words\n",
        "from pythainlp.util import Trie\n",
        "from pythainlp.util import dict_trie\n",
        "\n",
        "custom_words_list = set(thai_words())\n",
        "custom_words_list.add('สามย่านมิตรทาวน์')\n",
        "trie = Trie(custom_words_list)\n",
        "\n",
        "tokens = word_tokenize(text, engine=\"newmm\", custom_dict=trie)\n",
        "print(tokens)\n",
        "######################"
      ]
    },
    {
      "cell_type": "markdown",
      "metadata": {
        "id": "y1Lww7VVSmYj"
      },
      "source": [
        "### <font color=blue>Question 3</font>\n",
        "Using the code from part three only, how many “words” did you get when tokenizing this input text **after adding the new vocabs**.\n",
        "\n",
        "Answer this question in question #3 in MyCourseVille. Also print out the answer in this notebook as well."
      ]
    },
    {
      "cell_type": "code",
      "execution_count": 21,
      "metadata": {
        "id": "E_JHjViLajJi"
      },
      "outputs": [],
      "source": [
        "new_vocab = [\"ดิสนีย์ออนไอซ์\", \"ตีกอล์ฟ\", \"ธรรมมะ\"]\n",
        "input_text = \"อ๋อก็ว่าจะไปเรียนแต่งหน้านั่งสมาธิดำน้ำปลูกปะการังทำอาหารนวดสปาปลูกป่าดำนาดูดิสนีย์ออนไอซ์แรลลี่ตีกอล์ฟล่องเรือส่องสัตว์ช้อปปิ้งดูงิ้วดูละครเวทีดูคอนเสิร์ตดินเนอร์ทำขนมจัดดอกไม้เที่ยวตลาดน้ำเรียนถ่ายรูปดูกายกรรมชมเมืองเก่าเข้าสัมมนาทัวร์ธรรมมะเรียนเต้นแล้วก็ร้องเพลง\""
      ]
    },
    {
      "cell_type": "code",
      "execution_count": 22,
      "metadata": {},
      "outputs": [
        {
          "name": "stdout",
          "output_type": "stream",
          "text": [
            "['อ๋อ', 'ก็', 'ว่า', 'จะ', 'ไป', 'เรียน', 'แต่งหน้า', 'นั่งสมาธิ', 'ดำน้ำ', 'ปลูก', 'ปะการัง', 'ทำอาหาร', 'นวด', 'สปา', 'ปลูกป่า', 'ดำนา', 'ดู', 'ดิสนีย์ออนไอซ์', 'แรลลี่', 'ตีกอล์ฟ', 'ล่องเรือ', 'ส่องสัตว์', 'ช้อปปิ้ง', 'ดู', 'งิ้ว', 'ดู', 'ละครเวที', 'ดู', 'คอนเสิร์ต', 'ดินเนอร์', 'ทำ', 'ขนม', 'จัด', 'ดอกไม้', 'เที่ยว', 'ตลาดน้ำ', 'เรียน', 'ถ่ายรูป', 'ดู', 'กายกรรม', 'ชม', 'เมือง', 'เก่า', 'เข้า', 'สัมมนา', 'ทัวร์', 'ธรรมมะ', 'เรียน', 'เต้น', 'แล้วก็', 'ร้องเพลง']\n",
            "51\n"
          ]
        }
      ],
      "source": [
        "custom_words_list = set(thai_words())\n",
        "custom_words_list.update(new_vocab)\n",
        "trie = Trie(custom_words_list)\n",
        "\n",
        "tokens = word_tokenize(input_text, engine=\"newmm\", custom_dict=trie)\n",
        "print(tokens)\n",
        "print(len(tokens))"
      ]
    },
    {
      "cell_type": "code",
      "execution_count": null,
      "metadata": {},
      "outputs": [],
      "source": [
        "new_vocab = [\"ดิสนีย์ออนไอซ์\", \"ตีกอล์ฟ\", \"ธรรมมะ\"]\n",
        "input_text = \"อ๋อก็ว่าจะไปเรียนแต่งหน้านั่งสมาธิดำน้ำปลูกปะการังทำอาหารนวดสปาปลูกป่าดำนาดูดิสนีย์ออนไอซ์แรลลี่ตีกอล์ฟล่องเรือส่องสัตว์ช้อปปิ้งดูงิ้วดูละครเวทีดูคอนเสิร์ตดินเนอร์ทำขนมจัดดอกไม้เที่ยวตลาดน้ำเรียนถ่ายรูปดูกายกรรมชมเมืองเก่าเข้าสัมมนาทัวร์ธรรมมะเรียนเต้นแล้วก็ร้องเพลง\"\n",
        "\n",
        "custom_words_list = set(thai_words())\n",
        "print(len(custom_words_list))\n",
        "custom_words_list.update(new_vocab)\n",
        "print(len(custom_words_list))\n",
        "trie = dict_trie(dict_source=custom_words_list)\n",
        "\n",
        "tokens = word_tokenize(input_text, engine=\"newmm\", custom_dict=trie)\n",
        "print(tokens)\n",
        "print(len(tokens))"
      ]
    },
    {
      "cell_type": "markdown",
      "metadata": {
        "id": "zKZEBhpQTeiA"
      },
      "source": [
        "## Part 4) Use maximal matching on real dataset\n",
        "\n",
        "To complete this exercise, we will use the maximal matching algorithm on NECTEC's BEST corpus.\n",
        "\n",
        "The corpus has a structure of characters with target whether it's a beginning of a word (True/False)."
      ]
    },
    {
      "cell_type": "code",
      "execution_count": 40,
      "metadata": {
        "id": "mdw7k8CzUSK4"
      },
      "outputs": [
        {
          "name": "stderr",
          "output_type": "stream",
          "text": [
            "Downloading...\n",
            "From: https://drive.google.com/uc?id=1EcrlXYUyIEM3aeIJse6nPpiv_UjSKgoU&confirm=t\n",
            "To: c:\\Users\\Vivobook\\github\\my-chula-courses\\2110572-nlp-sys\\codes\\L01_Intro&Tokenization\\corpora.tar.gz\n",
            "\n",
            "  0%|          | 0.00/121M [00:00<?, ?B/s]\n",
            "  1%|          | 1.05M/121M [00:00<00:16, 7.34MB/s]\n",
            "  3%|▎         | 3.15M/121M [00:00<00:09, 13.0MB/s]\n",
            "  4%|▍         | 4.72M/121M [00:00<00:08, 14.1MB/s]\n",
            "  6%|▌         | 6.82M/121M [00:00<00:07, 15.4MB/s]\n",
            "  7%|▋         | 8.91M/121M [00:00<00:08, 13.1MB/s]\n",
            "  9%|▉         | 11.0M/121M [00:00<00:07, 13.9MB/s]\n",
            " 11%|█         | 13.1M/121M [00:00<00:06, 15.4MB/s]\n",
            " 13%|█▎        | 15.2M/121M [00:01<00:07, 15.0MB/s]\n",
            " 14%|█▍        | 17.3M/121M [00:01<00:08, 11.6MB/s]\n",
            " 16%|█▌        | 19.4M/121M [00:01<00:07, 13.2MB/s]\n",
            " 17%|█▋        | 21.0M/121M [00:01<00:07, 13.6MB/s]\n",
            " 19%|█▉        | 23.1M/121M [00:01<00:06, 14.6MB/s]\n",
            " 21%|██        | 25.2M/121M [00:01<00:06, 15.7MB/s]\n",
            " 23%|██▎       | 27.3M/121M [00:01<00:06, 13.5MB/s]\n",
            " 24%|██▍       | 29.4M/121M [00:02<00:06, 14.6MB/s]\n",
            " 27%|██▋       | 32.0M/121M [00:02<00:05, 15.9MB/s]\n",
            " 29%|██▊       | 34.6M/121M [00:02<00:04, 17.6MB/s]\n",
            " 31%|███       | 37.2M/121M [00:02<00:04, 18.7MB/s]\n",
            " 33%|███▎      | 39.8M/121M [00:02<00:04, 18.3MB/s]\n",
            " 35%|███▍      | 41.9M/121M [00:02<00:05, 15.2MB/s]\n",
            " 37%|███▋      | 44.6M/121M [00:02<00:04, 16.9MB/s]\n",
            " 39%|███▉      | 47.2M/121M [00:03<00:03, 18.6MB/s]\n",
            " 41%|████▏     | 49.8M/121M [00:03<00:03, 19.7MB/s]\n",
            " 43%|████▎     | 51.9M/121M [00:03<00:05, 13.7MB/s]\n",
            " 45%|████▍     | 54.0M/121M [00:03<00:04, 14.9MB/s]\n",
            " 46%|████▋     | 56.1M/121M [00:03<00:04, 16.1MB/s]\n",
            " 49%|████▊     | 58.7M/121M [00:03<00:03, 17.7MB/s]\n",
            " 50%|█████     | 60.8M/121M [00:03<00:03, 16.6MB/s]\n",
            " 52%|█████▏    | 62.9M/121M [00:04<00:03, 15.0MB/s]\n",
            " 54%|█████▍    | 65.0M/121M [00:04<00:03, 15.8MB/s]\n",
            " 56%|█████▌    | 67.1M/121M [00:04<00:03, 16.9MB/s]\n",
            " 57%|█████▋    | 69.2M/121M [00:04<00:02, 17.5MB/s]\n",
            " 59%|█████▉    | 71.3M/121M [00:04<00:02, 17.8MB/s]\n",
            " 61%|██████▏   | 73.9M/121M [00:04<00:02, 19.0MB/s]\n",
            " 63%|██████▎   | 76.0M/121M [00:04<00:02, 15.5MB/s]\n",
            " 65%|██████▍   | 78.1M/121M [00:05<00:02, 15.7MB/s]\n",
            " 67%|██████▋   | 80.7M/121M [00:05<00:02, 17.9MB/s]\n",
            " 69%|██████▉   | 83.4M/121M [00:05<00:02, 18.4MB/s]\n",
            " 71%|███████   | 85.5M/121M [00:05<00:02, 16.5MB/s]\n",
            " 73%|███████▎  | 87.6M/121M [00:05<00:02, 13.2MB/s]\n",
            " 76%|███████▌  | 91.2M/121M [00:05<00:01, 17.0MB/s]\n",
            " 77%|███████▋  | 93.3M/121M [00:05<00:01, 16.5MB/s]\n",
            " 79%|███████▉  | 95.4M/121M [00:06<00:01, 16.3MB/s]\n",
            " 81%|████████  | 97.5M/121M [00:06<00:01, 16.1MB/s]\n",
            " 83%|████████▎ | 99.6M/121M [00:06<00:01, 15.9MB/s]\n",
            " 84%|████████▍ | 102M/121M [00:06<00:01, 15.6MB/s] \n",
            " 86%|████████▌ | 104M/121M [00:06<00:01, 15.8MB/s]\n",
            " 88%|████████▊ | 106M/121M [00:06<00:00, 15.8MB/s]\n",
            " 90%|████████▉ | 108M/121M [00:06<00:00, 15.3MB/s]\n",
            " 91%|█████████ | 110M/121M [00:06<00:00, 15.6MB/s]\n",
            " 93%|█████████▎| 112M/121M [00:07<00:00, 15.6MB/s]\n",
            " 94%|█████████▍| 114M/121M [00:07<00:00, 15.5MB/s]\n",
            " 96%|█████████▌| 115M/121M [00:07<00:00, 15.4MB/s]\n",
            " 97%|█████████▋| 117M/121M [00:07<00:00, 15.1MB/s]\n",
            " 99%|█████████▊| 119M/121M [00:07<00:00, 15.4MB/s]\n",
            "100%|██████████| 121M/121M [00:07<00:00, 15.7MB/s]\n"
          ]
        }
      ],
      "source": [
        "#Download dataset\n",
        "!gdown \"1EcrlXYUyIEM3aeIJse6nPpiv_UjSKgoU&confirm=t\""
      ]
    },
    {
      "cell_type": "code",
      "execution_count": 41,
      "metadata": {
        "id": "QBdyPTEGUXDW"
      },
      "outputs": [
        {
          "name": "stdout",
          "output_type": "stream",
          "text": [
            "corpora/\n",
            "corpora/mnist_data/\n",
            "corpora/mnist_data/t10k-images-idx3-ubyte.gz\n",
            "corpora/mnist_data/train-images-idx3-ubyte.gz\n",
            "corpora/mnist_data/.ipynb_checkpoints/\n",
            "corpora/mnist_data/vis_utils.py\n",
            "corpora/mnist_data/__init__.py\n",
            "corpora/mnist_data/load_mnist.py\n",
            "corpora/mnist_data/train-labels-idx1-ubyte.gz\n",
            "corpora/mnist_data/t10k-labels-idx1-ubyte.gz\n",
            "corpora/BEST/\n",
            "corpora/BEST/test/\n",
            "corpora/BEST/test/df_best_article_test.csv\n",
            "corpora/BEST/test/df_best_encyclopedia_test.csv\n",
            "corpora/BEST/test/df_best_novel_test.csv\n",
            "corpora/BEST/test/df_best_news_test.csv\n",
            "corpora/BEST/train/\n",
            "corpora/BEST/train/df_best_encyclopedia_train.csv\n",
            "corpora/BEST/train/df_best_article_train.csv\n",
            "corpora/BEST/train/df_best_news_train.csv\n",
            "corpora/BEST/train/df_best_novel_train.csv\n",
            "corpora/BEST/val/\n",
            "corpora/BEST/val/df_best_encyclopedia_val.csv\n",
            "corpora/BEST/val/df_best_news_val.csv\n",
            "corpora/BEST/val/df_best_article_val.csv\n",
            "corpora/BEST/val/df_best_novel_val.csv\n",
            "corpora/.ipynb_checkpoints/\n",
            "corpora/.ipynb_checkpoints/Word_Tokenizer.new-checkpoint.ipynb\n",
            "corpora/.ipynb_checkpoints/BackProp-checkpoint.ipynb\n",
            "corpora/.ipynb_checkpoints/Word_Tokenizer_backup-checkpoint.ipynb\n",
            "corpora/.ipynb_checkpoints/char2vec-checkpoint.ipynb\n",
            "corpora/.ipynb_checkpoints/Word_Tokenizer-checkpoint.ipynb\n",
            "corpora/cattern/\n",
            "corpora/cattern/gradient_check.py\n",
            "corpora/cattern/.ipynb_checkpoints/\n",
            "corpora/cattern/__init__.py\n",
            "corpora/cattern/data_utils.py\n",
            "corpora/wiki/\n",
            "corpora/wiki/thwiki_chk.txt\n"
          ]
        }
      ],
      "source": [
        "!tar xvf corpora.tar.gz"
      ]
    },
    {
      "cell_type": "code",
      "execution_count": 42,
      "metadata": {
        "id": "ndv-whcXU2_5"
      },
      "outputs": [],
      "source": [
        "import pandas as pd\n",
        "import os"
      ]
    },
    {
      "cell_type": "code",
      "execution_count": 43,
      "metadata": {
        "id": "l6fgMSRYUY5G"
      },
      "outputs": [
        {
          "data": {
            "text/html": [
              "<div>\n",
              "<style scoped>\n",
              "    .dataframe tbody tr th:only-of-type {\n",
              "        vertical-align: middle;\n",
              "    }\n",
              "\n",
              "    .dataframe tbody tr th {\n",
              "        vertical-align: top;\n",
              "    }\n",
              "\n",
              "    .dataframe thead th {\n",
              "        text-align: right;\n",
              "    }\n",
              "</style>\n",
              "<table border=\"1\" class=\"dataframe\">\n",
              "  <thead>\n",
              "    <tr style=\"text-align: right;\">\n",
              "      <th></th>\n",
              "      <th>char</th>\n",
              "      <th>target</th>\n",
              "    </tr>\n",
              "  </thead>\n",
              "  <tbody>\n",
              "    <tr>\n",
              "      <th>0</th>\n",
              "      <td>ป</td>\n",
              "      <td>True</td>\n",
              "    </tr>\n",
              "    <tr>\n",
              "      <th>1</th>\n",
              "      <td>ฏ</td>\n",
              "      <td>False</td>\n",
              "    </tr>\n",
              "    <tr>\n",
              "      <th>2</th>\n",
              "      <td>ิ</td>\n",
              "      <td>False</td>\n",
              "    </tr>\n",
              "    <tr>\n",
              "      <th>3</th>\n",
              "      <td>ร</td>\n",
              "      <td>False</td>\n",
              "    </tr>\n",
              "    <tr>\n",
              "      <th>4</th>\n",
              "      <td>ู</td>\n",
              "      <td>False</td>\n",
              "    </tr>\n",
              "    <tr>\n",
              "      <th>...</th>\n",
              "      <td>...</td>\n",
              "      <td>...</td>\n",
              "    </tr>\n",
              "    <tr>\n",
              "      <th>644911</th>\n",
              "      <td>ห</td>\n",
              "      <td>False</td>\n",
              "    </tr>\n",
              "    <tr>\n",
              "      <th>644912</th>\n",
              "      <td>น</td>\n",
              "      <td>False</td>\n",
              "    </tr>\n",
              "    <tr>\n",
              "      <th>644913</th>\n",
              "      <td>ม</td>\n",
              "      <td>True</td>\n",
              "    </tr>\n",
              "    <tr>\n",
              "      <th>644914</th>\n",
              "      <td>า</td>\n",
              "      <td>False</td>\n",
              "    </tr>\n",
              "    <tr>\n",
              "      <th>644915</th>\n",
              "      <td>\"</td>\n",
              "      <td>True</td>\n",
              "    </tr>\n",
              "  </tbody>\n",
              "</table>\n",
              "<p>2271932 rows × 2 columns</p>\n",
              "</div>"
            ],
            "text/plain": [
              "       char  target\n",
              "0         ป    True\n",
              "1         ฏ   False\n",
              "2         ิ   False\n",
              "3         ร   False\n",
              "4         ู   False\n",
              "...     ...     ...\n",
              "644911    ห   False\n",
              "644912    น   False\n",
              "644913    ม    True\n",
              "644914    า   False\n",
              "644915    \"    True\n",
              "\n",
              "[2271932 rows x 2 columns]"
            ]
          },
          "execution_count": 43,
          "metadata": {},
          "output_type": "execute_result"
        }
      ],
      "source": [
        "# Path to the preprocessed data\n",
        "best_processed_path = 'corpora/BEST'\n",
        "option = \"test\"\n",
        "\n",
        "df = []\n",
        "# article types in BEST corpus\n",
        "article_types = ['article', 'encyclopedia', 'news', 'novel']\n",
        "for article_type in article_types:\n",
        "    df.append(pd.read_csv(os.path.join(best_processed_path, option, 'df_best_{}_{}.csv'.format(article_type, option))))\n",
        "df = pd.concat(df)\n",
        "df"
      ]
    },
    {
      "cell_type": "code",
      "execution_count": 44,
      "metadata": {
        "id": "Dip-NI94U_YC"
      },
      "outputs": [
        {
          "data": {
            "text/plain": [
              "2271932"
            ]
          },
          "execution_count": 44,
          "metadata": {},
          "output_type": "execute_result"
        }
      ],
      "source": [
        "len(df)"
      ]
    },
    {
      "cell_type": "code",
      "execution_count": 45,
      "metadata": {
        "id": "7bNjYdcJVgov"
      },
      "outputs": [
        {
          "data": {
            "text/plain": [
              "'ปฏิรูปการศึกษา : มุมมองทางกระบวนทัศน์และบริบทสังคมไทยThe Reformation of Eucation from A Thai Perspectiveกระบวนทัศน์และวิธีคิดแบบแยกส่วน ลดส่วน ได้ทำให้\"การศึกษาเรียนรู้\"ใน หลายทศวรรษที่ผ่านมา กลายเป็นเรื่องของนักวิชาการด้านศึกษาศาสตร์ ครุศาสตร์ หรือเป็นเรื่องของโรงเรียน ครูอาจารย์ กระทรวงศึกษาธิการ ทบวงมหาวิทยาลัยฯ มาอย่างต่อเนื่องยาวนาน (เหมือนกับที่เรื่องสุขภาพเป็นเรื่องของแพทย์และโรงพยาบาล) การจัดการศึกษาภายใต้กระบวนทัศน์และวิธีคิดแบบดังกล่าวของรัฐ ได้ถูกวิพากษ์วิจารณ์และตกเป็นจำเลยจากวิกฤตการณ์ทางสังคมมากมาย อันสะท้อนถึงความล้มเหลวของการจัดการศึกษาเพื่อพัฒนามนุษย์ (ปัญหาศีลธรรมเสื่อมถอย ยาเสพติด การขาดจิตสำนึกทางสังคม ฯลฯ) ซึ่งสังคมร่วมกันสรุปว่า เกิดจากความล้มเหลวของระบบการศึกษาในกระบวนทัศน์แบบแยกส่วน นำมาสู่การปฏิรูปการศึกษาที่กำลังดำเนินการอยู่ในปัจจุบัน ด้วยเป้าหมายเพื่อสร้างการเรียนรู้แบบองค์รวม ที่จะทำให้\"ผู้เรียนเก่ง-ดี-มีความสุข\"คำถามที่ผู้เขียนสนใจในการปฏิรูปการศึกษาที่ดำเนินการในปัจจุบัน คือ๑.การปฏิรูปการศึกษาในปัจจุบันดำเนินการภายใต้กระบวนทัศน์แบบบูรณาการ (องค์รวม)ตามที่'"
            ]
          },
          "execution_count": 45,
          "metadata": {},
          "output_type": "execute_result"
        }
      ],
      "source": [
        "# Some text in this corpus\n",
        "all_text = \"\".join(df['char'].tolist())\n",
        "all_text[:1000]"
      ]
    },
    {
      "cell_type": "markdown",
      "metadata": {
        "id": "18d3EXoPWg7o"
      },
      "source": [
        "### <font color=blue>Question 4</font>\n",
        "Using PyThaiNLP `newmm`, how many words did you get in the BEST corpus (test)? [Runtime is around 7 mins] What are the accuracy, f1, precision, recall scores for each character?\n",
        "\n",
        "Answer this question in question #4 in MyCourseVille. Also print out the answer in this notebook as well.\n",
        "\n",
        "_Question: What main metric should we look at? Why?_\n",
        "\n",
        "Answer: In general, F1 score would be the best because it balances the Recall and Precision.\n",
        "Depends on what is important, we can also choose Recall or Precision accordingly to the task."
      ]
    },
    {
      "cell_type": "code",
      "execution_count": 46,
      "metadata": {
        "id": "2RUPPoxLWZr8"
      },
      "outputs": [
        {
          "name": "stdout",
          "output_type": "stream",
          "text": [
            "569631\n"
          ]
        }
      ],
      "source": [
        "####FILL CODE HERE####\n",
        "custom_words_list = set(thai_words())\n",
        "trie = Trie(custom_words_list)\n",
        "tokens = word_tokenize(all_text, engine=\"newmm\", custom_dict=trie)\n",
        "print(len(tokens))\n",
        "######################"
      ]
    },
    {
      "cell_type": "code",
      "execution_count": 47,
      "metadata": {
        "id": "o40FPwvIXKIQ"
      },
      "outputs": [
        {
          "data": {
            "text/plain": [
              "[1, 0, 0, 0, 0, 0, 1, 0, 0, 0, 0, 0, 0, 0, 1, 1, 1, 1, 0, 0]"
            ]
          },
          "execution_count": 47,
          "metadata": {},
          "output_type": "execute_result"
        }
      ],
      "source": [
        "def convert_to_character(_tokens):\n",
        "  char_list = [0]*len(\"\".join(_tokens))\n",
        "  char_count = 0\n",
        "  for word in _tokens:\n",
        "    char_list[char_count] = 1\n",
        "    char_count += len(word)\n",
        "  return char_list\n",
        "\n",
        "chars = convert_to_character(tokens)\n",
        "chars[:20]"
      ]
    },
    {
      "cell_type": "code",
      "execution_count": 48,
      "metadata": {
        "id": "5NXWxbiWZHSd"
      },
      "outputs": [
        {
          "name": "stdout",
          "output_type": "stream",
          "text": [
            "F1: 0.8925828735253718\n",
            "Precision: 0.9422661336900555\n",
            "Recall: 0.8478765332638281\n",
            "Accuracy: 0.9431373826329309\n"
          ]
        }
      ],
      "source": [
        "from sklearn.metrics import f1_score,precision_score,recall_score,accuracy_score\n",
        "\n",
        "####FILL CODE HERE####\n",
        "pred = convert_to_character(tokens)\n",
        "label = df['target'].tolist()\n",
        "\n",
        "f1 = f1_score(label, pred)\n",
        "precision = precision_score(label, pred)\n",
        "recall = recall_score(label, pred)\n",
        "accuracy = accuracy_score(label, pred)\n",
        "\n",
        "print(\"F1:\", f1)\n",
        "print(\"Precision:\", precision)\n",
        "print(\"Recall:\", recall)\n",
        "print(\"Accuracy:\", accuracy)\n",
        "######################"
      ]
    }
  ],
  "metadata": {
    "colab": {
      "provenance": [],
      "toc_visible": true
    },
    "kernelspec": {
      "display_name": "Python 3",
      "language": "python",
      "name": "python3"
    },
    "language_info": {
      "codemirror_mode": {
        "name": "ipython",
        "version": 3
      },
      "file_extension": ".py",
      "mimetype": "text/x-python",
      "name": "python",
      "nbconvert_exporter": "python",
      "pygments_lexer": "ipython3",
      "version": "3.11.9"
    }
  },
  "nbformat": 4,
  "nbformat_minor": 0
}
