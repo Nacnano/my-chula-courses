{
  "nbformat": 4,
  "nbformat_minor": 0,
  "metadata": {
    "colab": {
      "provenance": []
    },
    "kernelspec": {
      "name": "python3",
      "display_name": "Python 3"
    }
  },
  "cells": [
    {
      "cell_type": "markdown",
      "metadata": {
        "id": "Unizl2CVEfhI"
      },
      "source": [
        "# Attention !!!\n",
        "- Please write or take a screenshot of all answers in the pdf file. You won't be graded if there is no pdf file in the submission.\n",
        "- Only TODO 1, 2, 3, 4, 5, 6, 10, 11 will be graded.\n",
        "- **Extra credit:** 1% of total grade for Com Eng Math 2 for TODO 7, 8, 9 (1/3 each.)"
      ]
    },
    {
      "cell_type": "markdown",
      "metadata": {
        "id": "pMqXdYpngMzX"
      },
      "source": [
        "# Sampling\n",
        "\n",
        "Sampling is a process that is very important for writing simulations. In this section, you will try to sample from some common distributions."
      ]
    },
    {
      "cell_type": "markdown",
      "metadata": {
        "id": "1IDhzu0KVO5t"
      },
      "source": [
        "TODO#1: Write functions that samples from the following distribution\n",
        "1. $\\mathcal{N}(0,1)$\n",
        "2. $Bernoulli(0.3)$\n",
        "3. $B(10, 0.3)$\n",
        "4. $Multinomial(n=10, p=[0.3,0.2,0.5])$\n",
        "5. $U(0,1)$\n",
        "<!-- 6. $T(0,1)$; $T(a,b)$ is defined as a function with a shape of a triangle that pass through point $(a,0)$, $(b,0)$, and $(b, K):\\frac{(b-a)K}{2}=1$. -->\n",
        "6. $T(0,1)$; $T(a,b)$ is defined as a function with a shape of a triangle that pass through point $(a,0)$, $(b,0)$, and $(\\frac{a+b}{2}, K):\\frac{(b-a)K}{2}=1$.\n",
        "\n",
        "Capture screenshot of the histogram for each of the distribution and paste them on the pdf file. The example is shown below.\n",
        "\n",
        "Hint: see scipy.stats for common distributions.\n",
        "[plt.hist](https://matplotlib.org/stable/api/_as_gen/matplotlib.pyplot.hist.html) should be helpful for plotting histograms"
      ]
    },
    {
      "cell_type": "code",
      "metadata": {
        "id": "zU6rYTAnmeTg"
      },
      "source": [
        "import numpy as np\n",
        "import matplotlib.pyplot as plt\n",
        "from scipy.stats import norm, bernoulli, binom, multinomial, uniform, expon\n",
        "\n",
        "\n",
        "def sample_normal(sample_size=10, mu=0, std=1):\n",
        "  # TODO#1.1: #\n",
        "  ##\n",
        "  pass\n",
        "  # return ...\n",
        "\n",
        "\n",
        "def sample_bernoulli(sample_size=10, p=0.5):\n",
        "  # TODO#1.2:\n",
        "  ##\n",
        "  pass\n",
        "  # return ...\n",
        "\n",
        "\n",
        "def sample_binomial(sample_size=10, n=10, p=0.5):\n",
        "  # TODO#1.3:\n",
        "  ##\n",
        "  pass\n",
        "  # return ...\n",
        "\n",
        "\n",
        "def sample_multinomial(sample_size=10, n=100, p=[0.3, 0.2, 0.5]):\n",
        "  # TODO#1.4:\n",
        "  ##\n",
        "  pass\n",
        "  # return ...\n",
        "\n",
        "\n",
        "def sample_uniform(sample_size=10, from_x=0, to_x=1):\n",
        "  # TODO#1.5:\n",
        "  ##\n",
        "  pass\n",
        "  # return ...\n",
        "\n",
        "\n",
        "def sample_triangle(sample_size=10, a=0, b=1):\n",
        "  # TODO#1.6:\n",
        "  ##\n",
        "  pass\n",
        "  # return ..."
      ],
      "execution_count": null,
      "outputs": []
    },
    {
      "cell_type": "code",
      "metadata": {
        "id": "KecVJbWykaG5",
        "colab": {
          "base_uri": "https://localhost:8080/",
          "height": 265
        },
        "outputId": "da151eca-2ff4-43b3-aa30-4b6a7cd59c1d"
      },
      "source": [
        "# Use this code block to show your sampling result.\n",
        "sample_size = 1000000\n",
        "s = sample_triangle(sample_size, -0.01, 0.02)\n",
        "count, bins, ignored = plt.hist(s, 100, density=False)\n",
        "plt.show()"
      ],
      "execution_count": null,
      "outputs": [
        {
          "output_type": "display_data",
          "data": {
            "image/png": "[encoded data removed]",
            "text/plain": [
              "<Figure size 432x288 with 1 Axes>"
            ]
          },
          "metadata": {
            "needs_background": "light"
          }
        }
      ]
    },
    {
      "cell_type": "markdown",
      "metadata": {
        "id": "Zxm0sZtKvMei"
      },
      "source": [
        "# Law of large number"
      ]
    },
    {
      "cell_type": "markdown",
      "metadata": {
        "id": "u7NrahI5q_nN"
      },
      "source": [
        "### Law of large number"
      ]
    },
    {
      "cell_type": "markdown",
      "metadata": {
        "id": "76634yTWBz65"
      },
      "source": [
        "**TODO#2:** Using a sampling function from TODO#1.1, Plot the graph that shows the relation between an empirical mean and sampling size from 1 up to 10000.\n",
        "What does the graph imply about the difference between the empirical mean and the theoritical mean?"
      ]
    },
    {
      "cell_type": "markdown",
      "metadata": {
        "id": "cuBPgENdq6GI"
      },
      "source": [
        "### Law of large number for histogram"
      ]
    },
    {
      "cell_type": "markdown",
      "metadata": {
        "id": "au_DmcJ9O8Zu"
      },
      "source": [
        "The histogram is used to approximate the PDF of an unknown distribution.\n",
        "The bin in the histogram represents the frequency of the event happening inside the bin range.\n",
        "\n",
        "**TODO#3:** Given a fix bin number of 40. Plot the histogram of the data sampling from the function, `sample_normal(n, 0, 1)`, for different sizes of sample: 500, 1k, 5k and 10k.\n",
        "Compare and explain the relation between the approximation given by the histogram and the true PDF for each of the sample size."
      ]
    },
    {
      "cell_type": "markdown",
      "metadata": {
        "id": "uBSjTKyqvOuK"
      },
      "source": [
        "## Central limit theorem"
      ]
    },
    {
      "cell_type": "markdown",
      "metadata": {
        "id": "E7YV2It_EM_m"
      },
      "source": [
        "In this part we will use the Central Limit Theorem to approximate the true probabity of getting more than 40 heads when an unfair coin, with the probability 0.3 of being head, is tossed 100 times.\n",
        "\n",
        "\n",
        "**TODO#4:** Simulate multiple coin tosses to construct a histrogram from the outcomes. Plot the histogram. Hint: x-axis should represents the number of heads when the coin is tossed 100 times. Does this histogram looks like a normal distribution?"
      ]
    },
    {
      "cell_type": "markdown",
      "metadata": {
        "id": "uuziwG81nfe9"
      },
      "source": [
        "**TODO#5:** Use CLT to find the probability of getting more than 40 heads.\n",
        "\n",
        "**TODO#6:** Compare and find the difference between CLT's approximation and the actual probability using the binomial distribution."
      ]
    },
    {
      "cell_type": "markdown",
      "metadata": {
        "id": "NjIN-y36Hzj2"
      },
      "source": [
        "# Algebra of Random Variables"
      ]
    },
    {
      "cell_type": "markdown",
      "metadata": {
        "id": "3Ff4_Pi9XXnP"
      },
      "source": [
        "Given an independent random variable $X$ and $Y$, such that $X \\sim F$ and $Y \\sim U(3,5)$. The summation of those two is written as $Z = X + Y$ and the PDF of $F$ is defined below.\n",
        "$$\n",
        "F(X) =\n",
        "\\begin{cases}\n",
        "0.1, & -2<=X<=0\\\\\n",
        "0.4, & 0<X<=2 \\\\\n",
        "\\end{cases}\n",
        "$$\n",
        "**TODO#7:** Find $P( 3 < Z < 5 )$."
      ]
    },
    {
      "cell_type": "markdown",
      "metadata": {
        "id": "i9OpVCQ_vLvR"
      },
      "source": [
        "# Correlation"
      ]
    },
    {
      "cell_type": "markdown",
      "metadata": {
        "id": "JuwXaTlQkzvd"
      },
      "source": [
        "The correlation captures the linear relationshi between two sets of random variables. The higher magnitude of the correlation indicates a stronger relationship.\n",
        "\n",
        "\n",
        "**TODO#8:** Find the correlation of $X$ and $Y = X + A$, given that $X \\sim U(-1,1)$ and\n",
        "1. $A = 10$\n",
        "2. $A \\sim U(-1,1)$\n",
        "3. $A \\sim U(-10,10)$\n",
        "4. $A \\sim U(-100,100)$\n",
        "\n",
        "\n",
        "**TODO#9:** From the results in TODO#8, answer following questions\n",
        "1. Does the correlation decrease as we increase the randomness of A ?\n",
        "2. Explain the result when we change from $A \\sim U(-10,10)$ to $A \\sim U(9090,10010)$. Hint: Compare the result with $A$ and $A + 10000: A \\sim U(-10,10) $"
      ]
    },
    {
      "cell_type": "markdown",
      "metadata": {
        "id": "o1DRnpiEu7US"
      },
      "source": [
        "# Hamtaro and his cloud storage empire.\n",
        "\n"
      ]
    },
    {
      "cell_type": "markdown",
      "metadata": {
        "id": "IBaF48SEIO9X"
      },
      "source": [
        "After the success in the manufacturing business. Hamtaro wants to expand his business into a new sector.\n",
        "Since cloud computing is currently booming, he decides to enter into the cloud storage business.\n",
        "\n",
        "The storage disk that Hamtaro uses can operate only in the temperature of $[0,30]$ degree Celcius. The disk has the prabability of a read failure $P(Fail|t) = \\frac{0.97}{2250}(t-15)^2+0.001$ where $t$ is the operating temperature.\n",
        "<!-- Hamtaro's disks has a special architecture that can be  simultaneously read by infinite requests at the same time. However, a failure of one request will cause all of its parallels to fail. -->\n",
        "\n",
        "Since Hamtoro doesn't want any failures in his service, he decides to buy a super luxury air-conditioning system to control the temperature in his data warehouse. Even if the air conditioner is extremely expensive, the room temperature is still not stable. When Hamtaro tries to set the tempurature to $\\mu$, the actual temperature is random and can be modeled by $t\\sim U(\\mu-1,\\mu+1)$.\n",
        "\n",
        "**TODO#10:** Answer the following questions.\n",
        "1. What is the temperature that Hamtaro should set the air conditioner to? Justify your answer.\n",
        "2. What is the probability of failure at the temperature used in part 1?\n",
        "<!-- 3. If Hamtaro want to handle 10k concurrent requests, what is the minimum disks should Hamtoro has to make 99.99% of disk availability and how should he split the workloads? Hamtaro connects the all the disks in parallel. The read request will fail if all disks fail to be read at the same time. -->\n",
        "3. What is the minimum number of disks that Hamtoro has to use to make sure that the probability of having more than 1 failure in 10k requests is less than 0.01\\%? Hamtaro connects the all the disks in parallel. The read request will fail if all disks fail to at the same time.\n",
        "4. **Extra** The temperature is now modeled by $t\\sim \\mathcal{N}(\\mu,9)$ instead of $t\\sim U(\\mu-1,\\mu+1)$. Repeat question 1-3.\n",
        "\n",
        "**Hint:** `scipy.integrate.quad` can help you do integration."
      ]
    },
    {
      "cell_type": "markdown",
      "metadata": {
        "id": "YWQenJlPnGIN"
      },
      "source": [
        "# Moontaro\n",
        "![picture](https://i.redd.it/mcveltqx2j071.png)\n",
        "\n",
        "Recently, cryptocurrency investment has become extremely popular due to its extraordinarily high rates of return. Though many people consider it a risky investment, Hamtaro does not want to miss this opportunity and start gathering information about these coins. His research suggests that four coins, namely $a$, $b$, $c$, and $d$, have a promising future to go to the moon.\n",
        "\n",
        "\n",
        "Hamtaro wants to run simulations to validate his chances. As the value of the coins is non-deterministic, he models it sequentially based on their historical values (a.k.a. autoregressive model). The price of coin $i$ at day $t$ is formulated as\n",
        "\n",
        "$p_{i,t} = p_{i,t-1} \\times r_{i,t}$, where $i \\in \\{a, b, c, d\\}$, and  $p_{i, 0} = 10$.\n",
        "\n",
        "The rates $r_{i,t}$, are drawn from a multivariant guassian distribution $\\mathcal{N}(\\mathbf{\\mu}, \\mathbf{\\Sigma})$, where $\\mu = [1.003, 1.002, 1.004, 1.004]^T$ and $\\mathbf{\\Sigma}$ as given below:\n",
        "\n",
        "$\\mathbf{\\Sigma}$ | a | b | c | d\n",
        "--- | --- | --- | --- |---\n",
        "a |  10 x 10$^{-3}$ | 0 | 4 x 10$^{-3}$ | 5 x 10$^{-3}$\n",
        "b |  0  | 3 x 10$^{-3}$ | 0 | 0\n",
        "c |  4 x 10$^{-3}$  | 0 | 12 x 10$^{-3}$| 2 x 10$^{-3}$\n",
        "d |  5 x 10$^{-3}$  | 0 | 2 x 10$^{-3}$ | 15 x 10$^{-3}$\n",
        "\n",
        "\n",
        "<!-- 1. Are $p_{a,t}$ and $p_{b,t}$ independent ? Why ?\n",
        "2. Are $p_{a,t}$ and $p_{c,t}$ independent ? Why ?\n",
        "3. Are $p_{a,t}$ and $p_{d,t}$ independent ? Why ? -->\n",
        "\n",
        "**TODO11:**\n",
        "1. Which pairs of coins are independent? Why?\n",
        "2. Given the following definitions:\n",
        "  - <b>Return</b> :  a coin price at day $T$ minus the price at day 0, i.e., the return of coin $i$ at day $T = p_{i,T} - p_{i, 0}$.\n",
        "  - <b>Expected return</b> : the average return from 10000 distinct simulated end prices.\n",
        "  \n",
        "  Simulate the expected return for each coin if Hamtaro wants to sell his coins 30 and 180 days after buying $(T \\in \\{30, 180\\})$.\n",
        "  hint: you should write reusable functions to make your life easier.\n",
        "3. Which coin has the highest probability of having profit (end price is higher than start price)? Compare the variance of the return with other coins.\n",
        "4. How can the expected return be positive while having around 50\\% chance of profitability?\n",
        "\n",
        "After simulating the price of individual coins, Hamtaro now proposes seven investment strategies (portfolio) to maximize the profit. The detail of each strategy is shown in the table below.  \n",
        "\n",
        "Strategy | Buy $a$ | Buy $b$ | Buy $c$ | Buy $d$ | Expected\\[return\\] | Variance\\[return\\] | Probability of having profit\n",
        "---| --- |--- |--- | ---| --- | --- | ---\n",
        "1  | 100% | 0%   | 0%  |    0%|  |  |\n",
        "2  | 0%   | 100% | 0%  |    0%|  |  |\n",
        "3  | 0%   | 0%   | 100%|    0%|  |  |\n",
        "4  | 0%   | 0%   |   0%|  100%|  |  |\n",
        "5  | 50%  | 50%  | 0%  |    0%|  |  |\n",
        "6  | 50%  | 0%   | 50% |    0%|  |  |\n",
        "7  | 50%  | 0%   |  0% |   50%|  |  |\n",
        "\n",
        "5. Fill the empty values in the table (both $T = 30, 180$).\n",
        "6. Which strategy yields the highest return?\n",
        "7. Which strategy is the safest one?\n",
        "8. Compare the variances between the stategy 6 and 7. What happens, and why is this the case? **Hint:** Consider cov($r_a$, $r_c$) and cov($r_a$, $r_d$).\n",
        "9. From the problems above, come up with a general practice for good investment? Please also state your reasoning. You can include additional simulations to support the argument."
      ]
    },
    {
      "cell_type": "code",
      "metadata": {
        "id": "YmBGwH9ZzrEH"
      },
      "source": [],
      "execution_count": null,
      "outputs": []
    }
  ]
}