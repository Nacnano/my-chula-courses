{
 "cells": [
  {
   "cell_type": "markdown",
   "metadata": {
    "id": "C70XHGojs2sl"
   },
   "source": [
    "Do problem 1, 2, 3, 9, 10"
   ]
  },
  {
   "cell_type": "markdown",
   "metadata": {
    "id": "oIQnbt2DHtrt"
   },
   "source": [
    "## 1. Appropriate task to perform A/B test"
   ]
  },
  {
   "cell_type": "markdown",
   "metadata": {
    "id": "E9GRKq0cMQHi"
   },
   "source": [
    "Which of the following use cases can you reliably conduct an A/B test? (True/False)\n",
    "\n",
    "1.1. Frontend person wants to change color of the 'Go' button on a search bar. Will it increase conversion rate?\n",
    "\n",
    "True\n",
    "\n",
    "1.2. The data team created four versions of machine learning model for product recommendations to new users of an app. Which one is the best?\n",
    "\n",
    "True\n",
    "\n",
    "1.3. Two managers from different factions have Layout A and Layout B for a physical convenience store. Which one should we use?\n",
    "\n",
    "False\n",
    "\n",
    "1.4. Mr. Rabbito thinks offline stores are the best channel to distribute our products, whereas Ms. Rakko thinks online websites are the way to go. Who is right?\n",
    "\n",
    "False \n",
    "\n",
    "1.5. Your boss wants to add a premium version to your freemium service. Is it a good idea?\n",
    "\n",
    "False\n",
    "\n",
    "\n",
    "1.6. The backend team came up with a new setup that they think will speed up the website load time. Should we implement this change?\n",
    "\n",
    "True\n",
    "\n",
    "1.7. Kuruma Inc., a car dealer, wants to change the banner on their homepage to see if it will attract more repeated customers. Average time between purchase of the car company is 5 years. How do you know if the banner change has an effect?\n",
    "\n",
    "False\n",
    "\n",
    "1.8. Your company undergoes a total revamp of its corporate identity. Is it the right call?\n",
    "\n",
    "False \n",
    "\n",
    "1.9. Elastic ninja at your company wants to show 15 products on the first page of search results instead of 20 products. Should you allow them?\n",
    "\n",
    "True\n",
    "\n",
    "1.10. Marketing person wants to know who respond better to our ads campaigns between iOS users and Android users. How to tell?\n",
    "\n",
    "True\n"
   ]
  },
  {
   "cell_type": "markdown",
   "metadata": {
    "id": "ZrakIXcoK2nx"
   },
   "source": [
    "## 2. Choose the method\n"
   ]
  },
  {
   "cell_type": "markdown",
   "metadata": {
    "id": "LrYKr_dgMRXS"
   },
   "source": [
    "What are the metrics you should use for the following A/B tests? Assume that the granularities are: page views and unique visitors.\n",
    "\n",
    "2.1. Which button colors will make customers find it more easily? clicks / page views\n",
    "\n",
    "2.2. Which sets of products on a landing page will make customers more likely to buy? purchases / unique viewers\n",
    "\n",
    "2.3. Which types of promotion coupons will be more effective? purchases / unique viewers\n",
    "\n",
    "2.4. Which website layouts will attract more customers to click on sign up button? clicks / page views"
   ]
  },
  {
   "cell_type": "markdown",
   "metadata": {
    "id": "t7ChacCxMVbi"
   },
   "source": [
    "## 3. Choose the period"
   ]
  },
  {
   "cell_type": "markdown",
   "metadata": {
    "id": "nZox1jlmLKo_"
   },
   "source": [
    "\n",
    "\n",
    "Based on the transaction table below,\n",
    "\n",
    "3.1. what are the event-based conversion rate of 2020-11?\n",
    "\n",
    "1 purchase (A), 3 unique users (A, B, C)\n",
    "\n",
    "1/3\n",
    "\n",
    "3.2. what are cohort-based conversion rate of 2020-11?\n",
    "\n",
    "2 purchases (A, C), 3 unique users (A, B, C)\n",
    "\n",
    "2/3\n",
    "\n",
    "Assume 7-day attribution period. Conversion rate is calculated by purchases / unique users.\n",
    "\n",
    "| date       | user | event    |\n",
    "|------------|------|----------|\n",
    "| 2020-11-01 | A    | visit    |\n",
    "| 2020-11-01 | A    | purchase |\n",
    "| 2020-11-05 | B    | visit    |\n",
    "| 2020-11-13 | B    | visit    |\n",
    "| 2020-11-30 | C    | visit    |\n",
    "| 2020-12-05 | C    | purchase |\n"
   ]
  },
  {
   "cell_type": "markdown",
   "metadata": {
    "id": "rCb_Hz2YLPFc"
   },
   "source": [
    "## 4. Familarity with the incoming data"
   ]
  },
  {
   "cell_type": "markdown",
   "metadata": {
    "id": "Flbcb-VTMcvv"
   },
   "source": [
    "Give 3 examples of values that are usually distributed in the following manner (do not use examples from class):\n",
    "\n",
    "4.1. Bernoulli/Binomial distributions: __, __, __\n",
    "\n",
    "4.2. Normal/Student t's distribution: __, __, __\n",
    "\n",
    "4.3. Exponential distribution: __, __, __\n",
    "\n",
    "4.4. Poisson distribution: __, __, __\n"
   ]
  },
  {
   "cell_type": "markdown",
   "metadata": {
    "id": "2ynw2NlvO1YM"
   },
   "source": [
    "## 5. Design experiments\n"
   ]
  },
  {
   "cell_type": "markdown",
   "metadata": {
    "id": "JBU_a2CAO0mp"
   },
   "source": [
    "Which variables should you control for in an A/B test of the following cases?\n",
    "\n",
    "5.1. We want to test if SMOKING -> CANCER (Smoking causes cancer) and we know that AGE -> SMOKING and AGE -> CANCER. We should control for __\n",
    "\n",
    "5.2. We want to test if GUN OWNERSHIP -> CRIMES and we know that GUN OWNERSHIP -> GUN SALES and CRIMES -> GUN SALES. We should control for __\n",
    "\n",
    "5.3. We want to test if CROP BURNING -> LUNG DISEASES and we know that CROP BURNING -> PM2.5 and PM2.5 -> LUNG DISEASES. We should control for __"
   ]
  },
  {
   "cell_type": "markdown",
   "metadata": {
    "id": "brJWW5noNCxC"
   },
   "source": [
    "## 6. LLN\n",
    "The Law of Large Numbers (LLN) says that sample mean will converge to expectation as sample size grows. Assuming that this is true, prove that sample variance will converge to variance as sample size grows."
   ]
  },
  {
   "cell_type": "markdown",
   "metadata": {
    "id": "gXZxHnWVPK-b"
   },
   "source": [
    "## 7. P-value"
   ]
  },
  {
   "cell_type": "markdown",
   "metadata": {
    "id": "syQQI14-NOs8"
   },
   "source": [
    "What is p-value? (Choose one or more)\n",
    "\n",
    "7.1. Assuming that the null hypothesis is true, what is the probability of observing the current or more extreme data.\n",
    "\n",
    "7.2. Based on the observed data, what is the probability of the null hypothesis being true.\n",
    "\n",
    "7.3. Based on the observed data, what is the probability of the null hypothesis being false.\n",
    "\n",
    "7.4. Assuming that our hypothesis is true, what is the chance that we reject the null hypothesis."
   ]
  },
  {
   "cell_type": "markdown",
   "metadata": {
    "id": "CcM7jHD-PVAV"
   },
   "source": [
    "## 8. False positive"
   ]
  },
  {
   "cell_type": "markdown",
   "metadata": {
    "id": "yKmwebBAPXCM"
   },
   "source": [
    "If we conduct a frequentist statistical test at 5% significance level repeatedly for 4,000 times, how many times can we expect to have statistically significant results even if group A and B are exactly the same?"
   ]
  },
  {
   "cell_type": "markdown",
   "metadata": {
    "id": "lBzo8u9tPb3r"
   },
   "source": [
    "## 9. Hamster Inc. and His Color Package"
   ]
  },
  {
   "cell_type": "markdown",
   "metadata": {
    "id": "PXPOvbWUPjpy"
   },
   "source": [
    "Hamster Inc. once again wants to test the conversion rates between package colors of its sunflower seeds; this time it is Red Package vs Gold Package. The Red Package is the existing group with average conversion rate of 11%. If they think the minimum detectable effect is 1% and want to make a 80/20 control/test split, how many unique users should see each package color before we decide which one performs better? Assume that they are testing at significance level of 15%. Show your work."
   ]
  },
  {
   "cell_type": "code",
   "execution_count": null,
   "metadata": {},
   "outputs": [
    {
     "name": "stdout",
     "output_type": "stream",
     "text": [
      "Total sample size required: 1315\n",
      "Control group (Red Package): 5260 users\n",
      "Test group (Gold Package): 1315 users\n"
     ]
    }
   ],
   "source": [
    "from scipy.stats import norm\n",
    "import math\n",
    "\n",
    "p_control = 0.11          # Conversion rate of control group\n",
    "delta = 0.01              # Minimum detectable effect (MDE)\n",
    "alpha = 0.15              # Significance level (one-tailed test)\n",
    "power = 0.5               # Power (50%)\n",
    "split_control = 0.8       # Proportion of users in control group\n",
    "split_test = 0.2          # Proportion of users in test group\n",
    "\n",
    "# Z-scores for one-tailed test\n",
    "z_alpha = norm.ppf(1 - alpha)  # Z_alpha for 15% significance level\n",
    "z_beta = norm.ppf(power)      # Z_beta for power of 50%\n",
    "\n",
    "# Variance calculation\n",
    "sigma_squared = p_control * (1 - p_control)  # Variance for binomial distribution\n",
    "\n",
    "# Sample size calculation\n",
    "numerator = (z_alpha + z_beta) ** 2\n",
    "denominator = delta ** 2\n",
    "scaling_factor = (1 + split_test / split_control)  # m + 1 / m for 80/20 split\n",
    "\n",
    "n = scaling_factor * numerator * sigma_squared / denominator\n",
    "n = math.ceil(n)\n",
    "\n",
    "# Split the sample size\n",
    "n_control = n * split_control/split_test\n",
    "n_test = n\n",
    "\n",
    "# Results\n",
    "print(f\"Total sample size required: {int(n)}\")\n",
    "print(f\"Control group (Red Package): {int(n_control)} users\")\n",
    "print(f\"Test group (Gold Package): {int(n_test)} users\")\n"
   ]
  },
  {
   "cell_type": "markdown",
   "metadata": {
    "id": "SVflpLWLPmkG"
   },
   "source": [
    "## 10. Hamster Inc. and His A/B Testing Experiment"
   ]
  },
  {
   "cell_type": "markdown",
   "metadata": {
    "id": "Iyb3GtVIPnvA"
   },
   "source": [
    "Let us say Hamster Inc. ran the experiment and got the following results.\n",
    "\n",
    "  10.1. At significance level of 7%, which variation should be chosen to run at 100% traffic? Show your work.\n",
    "\n",
    "  10.2. What are the confidence intervals at 7% significance of conversion rates for Red and Gold? Show your work.\n",
    "\n",
    "| campaign_id | clicks | conv_cnt | conv_per |\n",
    "|------------:|-------:|---------:|---------:|\n",
    "|         Red |  59504 |     5901 | 0.099170 |\n",
    "|        Gold |  58944 |     6012 | 0.101995 |"
   ]
  },
  {
   "cell_type": "code",
   "execution_count": 24,
   "metadata": {},
   "outputs": [
    {
     "name": "stdout",
     "output_type": "stream",
     "text": [
      "10.1:\n",
      "Pooled proportion: 0.10057578008915305\n",
      "Z-statistic (Z_delta): 1.61628698107044\n",
      "P-value: 0.053016140143742785\n",
      "Reject the null hypothesis. Run Gold package at 100% traffic.\n",
      "\n",
      "10.2:\n",
      "Confidence Interval for Red: (0.09736172964553579, 0.1009782703544642)\n",
      "Confidence Interval for Gold: (0.10015535560221833, 0.10383464439778167)\n"
     ]
    }
   ],
   "source": [
    "from scipy.stats import norm\n",
    "import numpy as np\n",
    "\n",
    "# Data\n",
    "clicks_red = 59504\n",
    "conv_cnt_red = 5901\n",
    "conv_per_red = 0.099170\n",
    "\n",
    "clicks_gold = 58944\n",
    "conv_cnt_gold = 6012\n",
    "conv_per_gold = 0.101995\n",
    "\n",
    "# Significance level\n",
    "alpha = 0.07\n",
    "z_alpha = norm.ppf(1 - alpha)  # Z value for one-tailed test\n",
    "\n",
    "# 10.1: Z-test\n",
    "# Pooled proportion\n",
    "p_pooled = (conv_cnt_red + conv_cnt_gold) / (clicks_red + clicks_gold)\n",
    "\n",
    "# Pooled variance\n",
    "sigma_squared_pooled = p_pooled * (1 - p_pooled)\n",
    "\n",
    "# Difference in conversion rates\n",
    "delta_mean = conv_per_gold - conv_per_red\n",
    "\n",
    "# Standard error of the difference\n",
    "se_diff = np.sqrt(sigma_squared_pooled * (1 / clicks_red + 1 / clicks_gold))\n",
    "\n",
    "# Z-statistic for the difference\n",
    "z_delta = delta_mean / se_diff\n",
    "\n",
    "# P-value for one-tailed test\n",
    "p_delta = 1 - norm.cdf(z_delta)\n",
    "\n",
    "print(f\"10.1:\")\n",
    "print(f\"Pooled proportion: {p_pooled}\")\n",
    "print(f\"Z-statistic (Z_delta): {z_delta}\")\n",
    "print(f\"P-value: {p_delta}\")\n",
    "if p_delta < alpha:\n",
    "    print(\"Reject the null hypothesis. Run Gold package at 100% traffic.\")\n",
    "else:\n",
    "    print(\"Fail to reject the null hypothesis. Keep Red package.\")\n",
    "\n",
    "# 10.2: Confidence Intervals\n",
    "def confidence_interval(conv_per, clicks, z_alpha):\n",
    "    sigma_squared = conv_per * (1 - conv_per)  # Variance\n",
    "    se = np.sqrt(sigma_squared / clicks)      # Standard error\n",
    "    lower_bound = conv_per - z_alpha * se\n",
    "    upper_bound = conv_per + z_alpha * se\n",
    "    return lower_bound, upper_bound\n",
    "\n",
    "ci_red = confidence_interval(conv_per_red, clicks_red, z_alpha)\n",
    "ci_gold = confidence_interval(conv_per_gold, clicks_gold, z_alpha)\n",
    "\n",
    "print(\"\\n10.2:\")\n",
    "print(f\"Confidence Interval for Red: {ci_red}\")\n",
    "print(f\"Confidence Interval for Gold: {ci_gold}\")\n"
   ]
  },
  {
   "cell_type": "markdown",
   "metadata": {
    "id": "xiX2iV4ePtI7"
   },
   "source": [
    "## 11. Understanding of A/B Testing"
   ]
  },
  {
   "cell_type": "markdown",
   "metadata": {
    "id": "JlTf3SY1PuBr"
   },
   "source": [
    "\n",
    "Which of the following are true about frequentist A/B tests? (True/False)\n",
    "\n",
    "  11.1. It does not tell us the magnitude of the difference between control and test groups.\n",
    "\n",
    "  11.2. We can never know when to stop the experiments.\n",
    "\n",
    "  11.3. We can never determine if the null hypothesis being true.\n",
    "\n",
    "  11.4. We can run one or as many experiments as we want using the same significance level.\n",
    "\n",
    "  11.5. If we have too many samples in each group, the validity of the test can be jeopardized.\n",
    "\n",
    "  11.6. If you have set up the experiment based on desired minimum detectable effect and significance level, statististical significance is the only factor in determining which group is the better one.\n",
    "\n",
    "  11.7. We can only test difference between two proportions.\n",
    "\n",
    "  11.8. More samples in control and test groups are always better."
   ]
  }
 ],
 "metadata": {
  "colab": {
   "collapsed_sections": [
    "2ynw2NlvO1YM"
   ],
   "provenance": []
  },
  "kernelspec": {
   "display_name": "Python 3",
   "name": "python3"
  },
  "language_info": {
   "codemirror_mode": {
    "name": "ipython",
    "version": 3
   },
   "file_extension": ".py",
   "mimetype": "text/x-python",
   "name": "python",
   "nbconvert_exporter": "python",
   "pygments_lexer": "ipython3",
   "version": "3.11.9"
  }
 },
 "nbformat": 4,
 "nbformat_minor": 0
}
