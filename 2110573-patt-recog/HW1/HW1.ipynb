{
 "cells": [
  {
   "cell_type": "markdown",
   "metadata": {},
   "source": [
    "# Homework 1\n",
    "\n",
    "## Chotpisit Adunsehawat\n",
    "\n",
    "## Metrics\n",
    "\n",
    "|   Model A  | Predicted dog | Predicted cat |\n",
    "|:----------:|:-------------:|:-------------:|\n",
    "| Actual dog |       30      |       20      |\n",
    "| Actual cat |       10      |       40      |\n",
    "\n",
    "### T1\n",
    "\n",
    "Accuracy = (TP + TN) / (TP + TN + FP + FN) = (30 + 40) / (30 + 20 + 10 + 40) = 0.7\n",
    "\n",
    "### T2\n",
    "\n",
    "Precision = TP / (TP + FP) = 40 / (40 + 20) = 0.67\n",
    "Recall = TP / (TP + FN) =  40 / (40 + 10) = 0.8\n",
    "F1 =  2 * TP / (2*TP + FP + FN) = 2 * 40 / (2 * 40 + 20 + 10) = 0.73\n",
    "\n",
    "### T3\n",
    "\n",
    "Accuracy = (TP + TN) / (TP + TN + FP + FN) = (30 + 40) / 100 = 0.7\n",
    "Precision = TP / (TP + FP) = 30 / (30 + 10) = 0.75\n",
    "Recall = TP / (TP + FN) =  30 / (30 + 20) = 0.6\n",
    "F1 =  2 * TP / (2*TP + FP + FN) = 2 * 30 / (2 * 30 + 10 + 20) = 0.67\n",
    "\n",
    "### T4\n",
    "\n",
    "Let x be the total population\n",
    "Actual dog = 0.2x\n",
    "Actual cat = 0.8x\n",
    "\n",
    "Calculate the new values\n",
    "TP = 0.2x * 30 / (30 + 20) = 0.12x\n",
    "FN = 0.2x * 20 / (30 + 20) = 0.08x  \n",
    "FP = 0.8x * 10 / (10 + 40) = 0.16x\n",
    "TN = 0.8x * 40 / (10 + 40) = 0.64x\n",
    "\n",
    "Precision = 0.12x / (0.12x + 0.16x) = 0.4285\n",
    "Recall = 0.12x / (0.12x + 0.08x) = 0.6\n",
    "F1 = 2 * 0.4285 * 0.6 / (0.4285 + 0.6) = 0.49995\n",
    "\n",
    "\n",
    "### OT1\n",
    "\n",
    "Accuracy = (TP + TN) / (TP + TN + FP + FN) = 1 / (1 + (FP + FN) / (TP + TN)) \n",
    "F1 = 2TP / (2*TP + FP + FN) = 1 / (1 + (FP + FN / (2*TP)))\n",
    "\n",
    "Case TN = TP: Accraucy = F1\n",
    "Case TN > TP: Accraucy > F1\n",
    "Case TN < TP: Accraucy < F1\n",
    "\n",
    "---\n",
    "\n",
    "## Hello Clustering\n",
    "\n",
    "### T5\n",
    "\n",
    "#### Round 1\n",
    "\n",
    "Centriod 1 have assigned points (3, 3), (8, 8), (6, 6), (7, 7)\n",
    "The updated centriod = (6, 6)\n",
    "\n",
    "Centriod 2 have assigned points (1, 2), (2, 2)\n",
    "The updated centriod = (1.5, 2)\n",
    "\n",
    "Centriod 3 have assigned points (-3, -3), (2, -4), (-7, -7)\n",
    "The updated centriod = (-4, -4.67)\n",
    "\n",
    "\n",
    "#### Round 2\n",
    "\n",
    "Centriod 1 have assigned points (8, 8), (6, 6), (7, 7)\n",
    "The updated centriod = (7, 7)\n",
    "\n",
    "Centriod 2 have assigned points (1, 2), (2, 2), (3, 3)\n",
    "The updated centriod = (2, 2.33)\n",
    "\n",
    "Centriod 3 have assigned points (-3, -3), (2, -4), (-7, -7)\n",
    "The updated centriod = (-4, -4.67)\n",
    "\n",
    "#### Round 3\n",
    "\n",
    "Centriod 1 have assigned points (8, 8), (6, 6), (7, 7)\n",
    "The updated centriod = (7, 7)\n",
    "\n",
    "Centriod 2 have assigned points (1, 2), (2, 2), (3, 3)\n",
    "The updated centriod = (2, 2.33)\n",
    "\n",
    "Centriod 3 have assigned points (-3, -3), (2, -4), (-7, -7)\n",
    "The updated centriod = (-4, -4.67)\n",
    "\n",
    "The centriods in round 3 do not change. So the centriods is (7, 7), (2, 2.33), (-4, -4.67)\n",
    "\n",
    "\n",
    "### T6\n",
    "\n",
    "The centriods change to (-2.5, -3.5), (4.5, 4.67), (-7, -7)\n",
    "\n",
    "\n",
    "  \n",
    "\n"
   ]
  },
  {
   "cell_type": "code",
   "execution_count": 9,
   "metadata": {},
   "outputs": [],
   "source": [
    "import pandas as pd\n",
    "import numpy as np\n",
    "import matplotlib.pyplot as plt\n",
    "import copy"
   ]
  },
  {
   "cell_type": "code",
   "execution_count": 10,
   "metadata": {},
   "outputs": [],
   "source": [
    "class KMeans: \n",
    "  def __init__(self, points, starting_centriods):\n",
    "    self.points = points\n",
    "    self.centriods = starting_centriods\n",
    "    self.clusters = self.__find_clusters()\n",
    "    self.iterations = 0\n",
    "\n",
    "  def __find_clusters(self):\n",
    "    centriods = self.centriods.copy()\n",
    "    points = self.points.copy()\n",
    "    clusters = [[] for _ in range(len(centriods))]\n",
    "    for point in points.to_numpy():\n",
    "      distances = []\n",
    "      for centroid in centriods.to_numpy():\n",
    "        distance = np.linalg.norm(point - centroid)\n",
    "        distances.append(distance)\n",
    "      clusters[np.argmin(distances)].append(point)\n",
    "    self.clusters = clusters\n",
    "    return clusters\n",
    "  \n",
    "  def __update_centriods(self):\n",
    "    centriods = self.centriods.copy()\n",
    "    clusters = self.clusters.copy()\n",
    "    for i in range(len(clusters)):\n",
    "      clustered_points = clusters[i]\n",
    "      centriods.iloc[i] = np.mean(clustered_points, axis=0)\n",
    "    return centriods\n",
    "\n",
    "  def run(self):\n",
    "    self.centriods = self.__update_centriods()\n",
    "    self.clusters = self.__find_clusters()\n",
    "    self.iterations += 1\n",
    "\n",
    "  def plot(self):\n",
    "    colors = ['violet', 'limegreen', 'skyblue']\n",
    "    darken_colors = ['indigo', 'green', 'blue']\n",
    "    for i in range(len(self.clusters)):\n",
    "      clustered_points = np.array(self.clusters[i])\n",
    "      plt.scatter(clustered_points[:, 0], clustered_points[:, 1], label=i, c=colors[i])\n",
    "      plt.scatter(self.centriods['x'][i], self.centriods['y'][i], marker='*', c=darken_colors[i])\n",
    "    plt.legend()\n",
    "    plt.show()"
   ]
  },
  {
   "cell_type": "code",
   "execution_count": 11,
   "metadata": {},
   "outputs": [],
   "source": [
    "x = np.array([1, 3, 2, 8, 6, 7, -3, -2, -7])\n",
    "y = np.array([2, 3, 2, 8, 6, 7, -3, -4, -7])\n",
    "dataframe_points = pd.DataFrame({'x': x, 'y': y})"
   ]
  },
  {
   "cell_type": "code",
   "execution_count": 12,
   "metadata": {},
   "outputs": [
    {
     "name": "stderr",
     "output_type": "stream",
     "text": [
      "C:\\Users\\Vivobook\\AppData\\Local\\Temp\\ipykernel_26040\\51268784.py:26: FutureWarning: Setting an item of incompatible dtype is deprecated and will raise an error in a future version of pandas. Value '1.5' has dtype incompatible with int64, please explicitly cast to a compatible dtype first.\n",
      "  centriods.iloc[i] = np.mean(clustered_points, axis=0)\n",
      "C:\\Users\\Vivobook\\AppData\\Local\\Temp\\ipykernel_26040\\51268784.py:26: FutureWarning: Setting an item of incompatible dtype is deprecated and will raise an error in a future version of pandas. Value '-4.666666666666667' has dtype incompatible with int64, please explicitly cast to a compatible dtype first.\n",
      "  centriods.iloc[i] = np.mean(clustered_points, axis=0)\n"
     ]
    },
    {
     "data": {
      "image/png": "[encoded data removed]",
      "text/plain": [
       "<Figure size 640x480 with 1 Axes>"
      ]
     },
     "metadata": {},
     "output_type": "display_data"
    },
    {
     "name": "stderr",
     "output_type": "stream",
     "text": [
      "C:\\Users\\Vivobook\\AppData\\Local\\Temp\\ipykernel_26040\\51268784.py:26: FutureWarning: Setting an item of incompatible dtype is deprecated and will raise an error in a future version of pandas. Value '-2.5' has dtype incompatible with int64, please explicitly cast to a compatible dtype first.\n",
      "  centriods.iloc[i] = np.mean(clustered_points, axis=0)\n",
      "C:\\Users\\Vivobook\\AppData\\Local\\Temp\\ipykernel_26040\\51268784.py:26: FutureWarning: Setting an item of incompatible dtype is deprecated and will raise an error in a future version of pandas. Value '-3.5' has dtype incompatible with int64, please explicitly cast to a compatible dtype first.\n",
      "  centriods.iloc[i] = np.mean(clustered_points, axis=0)\n"
     ]
    },
    {
     "data": {
      "image/png": "[encoded data removed]",
      "text/plain": [
       "<Figure size 640x480 with 1 Axes>"
      ]
     },
     "metadata": {},
     "output_type": "display_data"
    }
   ],
   "source": [
    "\n",
    "starting_centriods = pd.DataFrame({\n",
    "  'x': [3, 2, -3], \n",
    "  'y': [3, 2, -3]\n",
    "})\n",
    "kMeans = KMeans(dataframe_points, starting_centriods)\n",
    "kMeans.run()\n",
    "kMeans.plot()\n",
    "\n",
    "starting_centriods = pd.DataFrame({\n",
    "  'x': [-3, 2, -7], \n",
    "  'y': [-3, 2, -7]\n",
    "})\n",
    "kMeans = KMeans(dataframe_points, starting_centriods)\n",
    "kMeans.run()\n",
    "kMeans.plot()"
   ]
  },
  {
   "cell_type": "markdown",
   "metadata": {},
   "source": [
    "### T7\n",
    "\n",
    "Judging from using my eyes, T5 is better because the grouping is more complete and is distributed equally.\n",
    "\n",
    "The goodness of the starting point can be measured using various metrics such as Silhouette Score, Within-Cluter Sum of Square, Variance Ratio, etc.\n",
    "\n",
    "### OT2\n",
    "K = 4 is the best for this data because of two reasons. First, I used my eyes to clearly see the grouping. Second, I used fraction of explained variance = 410.55 / 418.22 = 0.9816\n"
   ]
  },
  {
   "cell_type": "markdown",
   "metadata": {},
   "source": [
    "## My heart will go on "
   ]
  },
  {
   "cell_type": "code",
   "execution_count": 48,
   "metadata": {},
   "outputs": [
    {
     "data": {
      "text/plain": [
       "28.0"
      ]
     },
     "execution_count": 48,
     "metadata": {},
     "output_type": "execute_result"
    }
   ],
   "source": [
    "train_url = \"http://s3.amazonaws.com/assets.datacamp.com/course/Kaggle/train.csv\"\n",
    "train = pd.read_csv(train_url) #training set\n",
    "test_url = \"http://s3.amazonaws.com/assets.datacamp.com/course/Kaggle/test.csv\"\n",
    "test = pd.read_csv(test_url) #test set\n",
    "\n",
    "train[\"Age\"].median()"
   ]
  },
  {
   "cell_type": "markdown",
   "metadata": {},
   "source": [
    "### T8\n",
    "\n",
    "Median of age = 28\n",
    "\n",
    "\n",
    "### T9"
   ]
  },
  {
   "cell_type": "code",
   "execution_count": 49,
   "metadata": {},
   "outputs": [],
   "source": [
    "embark_mode = train['Embarked'].mode()[0]\n",
    "train[\"Embarked\"] = train[\"Embarked\"].fillna(embark_mode)\n",
    "train.loc[train[\"Embarked\"] == \"S\", \"Embarked\"] = 0\n",
    "train.loc[train[\"Embarked\"] == \"C\", \"Embarked\"] = 1\n",
    "train.loc[train[\"Embarked\"] == \"Q\", \"Embarked\"] = 2\n",
    "\n",
    "sex_mode = train[\"Sex\"].mode()[0]\n",
    "train[\"Sex\"] = train[\"Sex\"].fillna(sex_mode)\n",
    "train.loc[train[\"Sex\"] == \"male\", \"Sex\"] = 0\n",
    "train.loc[train[\"Sex\"] == \"female\", \"Sex\"] = 1"
   ]
  },
  {
   "cell_type": "markdown",
   "metadata": {},
   "source": [
    "### T10"
   ]
  },
  {
   "cell_type": "code",
   "execution_count": 50,
   "metadata": {},
   "outputs": [],
   "source": [
    "features = [\"Pclass\", \"Sex\", \"Age\", \"Embarked\"]\n",
    "data = np.array(train[features].values, dtype=float)\n",
    "\n",
    "def sigmoid(x):\n",
    "  return np.array(1/(1+np.exp(-x)))\n",
    "# Define cost function\n",
    "def cost(theta, data, y):\n",
    "  m = data.shape[0]\n",
    "  predictions = np.array(sigmoid(np.dot(data, theta)))\n",
    "  cost = -(1/m)*(np.dot(y, np.log(predictions.T+1e-5)) + np.dot((1-y), np.log(1-predictions.T+1e-5)))\n",
    "  return cost\n",
    "# Define gradient function\n",
    "def gradient(theta, data, y):\n",
    "  m = data.shape[0]\n",
    "  predictions = sigmoid(np.dot(data, theta))\n",
    "  error = predictions - y\n",
    "  gradient = (1/m)*np.dot(data.T, error)\n",
    "  return gradient\n",
    "# Define gradient descent function\n",
    "def gradient_descent(theta, data, y, alpha, iteration=10000):\n",
    "  cost_history = []\n",
    "  for _ in range(iteration):\n",
    "    cost_history.append(cost(theta, data, y))\n",
    "    theta = theta - alpha*gradient(theta, data, y)\n",
    "  return theta, cost_history\n",
    "def predict(data, theta, raw):\n",
    "  predictions = np.array(sigmoid(np.dot(data, theta)))\n",
    "  predictions = np.where(predictions >  0.5, 1, predictions)\n",
    "  predictions = np.where(predictions <= 0.5, 0, predictions)\n",
    "  predictions = np.array(predictions, dtype = int)\n",
    "  print(\"Survived\", np.count_nonzero(predictions))\n",
    "  result = pd.DataFrame({\n",
    "    \"PassengerId\": raw[\"PassengerId\"],\n",
    "    \"Survived\": predictions\n",
    "  })\n",
    "  return result\n",
    "def compare_prediction(actual, prediction):\n",
    "  df = pd.DataFrame({\n",
    "    \"Actual\": actual,\n",
    "    \"Prediction\": prediction,\n",
    "    \"Compare\": actual == prediction\n",
    "  })\n",
    "  return df[\"Compare\"].sum()/len(actual)\n"
   ]
  },
  {
   "cell_type": "code",
   "execution_count": 51,
   "metadata": {},
   "outputs": [
    {
     "ename": "ValueError",
     "evalue": "could not convert string to float: 'male'",
     "output_type": "error",
     "traceback": [
      "\u001b[1;31m---------------------------------------------------------------------------\u001b[0m",
      "\u001b[1;31mValueError\u001b[0m                                Traceback (most recent call last)",
      "Cell \u001b[1;32mIn[51], line 5\u001b[0m\n\u001b[0;32m      2\u001b[0m test_df  \u001b[38;5;241m=\u001b[39m copy\u001b[38;5;241m.\u001b[39mdeepcopy(test)\n\u001b[0;32m      4\u001b[0m train_data \u001b[38;5;241m=\u001b[39m np\u001b[38;5;241m.\u001b[39marray(train_df[[\u001b[38;5;124m\"\u001b[39m\u001b[38;5;124mPclass\u001b[39m\u001b[38;5;124m\"\u001b[39m,\u001b[38;5;124m\"\u001b[39m\u001b[38;5;124mSex\u001b[39m\u001b[38;5;124m\"\u001b[39m,\u001b[38;5;124m\"\u001b[39m\u001b[38;5;124mAge\u001b[39m\u001b[38;5;124m\"\u001b[39m,\u001b[38;5;124m\"\u001b[39m\u001b[38;5;124mEmbarked\u001b[39m\u001b[38;5;124m\"\u001b[39m]]\u001b[38;5;241m.\u001b[39mvalues, dtype \u001b[38;5;241m=\u001b[39m \u001b[38;5;28mfloat\u001b[39m)\n\u001b[1;32m----> 5\u001b[0m test_data \u001b[38;5;241m=\u001b[39m \u001b[43mnp\u001b[49m\u001b[38;5;241;43m.\u001b[39;49m\u001b[43marray\u001b[49m\u001b[43m(\u001b[49m\u001b[43mtest_df\u001b[49m\u001b[43m[\u001b[49m\u001b[43m[\u001b[49m\u001b[38;5;124;43m\"\u001b[39;49m\u001b[38;5;124;43mPclass\u001b[39;49m\u001b[38;5;124;43m\"\u001b[39;49m\u001b[43m,\u001b[49m\u001b[38;5;124;43m\"\u001b[39;49m\u001b[38;5;124;43mSex\u001b[39;49m\u001b[38;5;124;43m\"\u001b[39;49m\u001b[43m,\u001b[49m\u001b[38;5;124;43m\"\u001b[39;49m\u001b[38;5;124;43mAge\u001b[39;49m\u001b[38;5;124;43m\"\u001b[39;49m\u001b[43m,\u001b[49m\u001b[38;5;124;43m\"\u001b[39;49m\u001b[38;5;124;43mEmbarked\u001b[39;49m\u001b[38;5;124;43m\"\u001b[39;49m\u001b[43m]\u001b[49m\u001b[43m]\u001b[49m\u001b[38;5;241;43m.\u001b[39;49m\u001b[43mvalues\u001b[49m\u001b[43m,\u001b[49m\u001b[43m \u001b[49m\u001b[43mdtype\u001b[49m\u001b[43m \u001b[49m\u001b[38;5;241;43m=\u001b[39;49m\u001b[43m \u001b[49m\u001b[38;5;28;43mfloat\u001b[39;49m\u001b[43m)\u001b[49m\n\u001b[0;32m      7\u001b[0m train_y \u001b[38;5;241m=\u001b[39m np\u001b[38;5;241m.\u001b[39marray(train_df[[\u001b[38;5;124m\"\u001b[39m\u001b[38;5;124mSurvived\u001b[39m\u001b[38;5;124m\"\u001b[39m]]\u001b[38;5;241m.\u001b[39mvalues, dtype \u001b[38;5;241m=\u001b[39m \u001b[38;5;28mfloat\u001b[39m)\n\u001b[0;32m      8\u001b[0m train_y \u001b[38;5;241m=\u001b[39m train_y\u001b[38;5;241m.\u001b[39mreshape(train_y\u001b[38;5;241m.\u001b[39msize)\n",
      "\u001b[1;31mValueError\u001b[0m: could not convert string to float: 'male'"
     ]
    }
   ],
   "source": [
    "train_df = copy.deepcopy(train)\n",
    "test_df  = copy.deepcopy(test)\n",
    "\n",
    "train_data = np.array(train_df[[\"Pclass\",\"Sex\",\"Age\",\"Embarked\"]].values, dtype = float)\n",
    "test_data = np.array(test_df[[\"Pclass\",\"Sex\",\"Age\",\"Embarked\"]].values, dtype = float)\n",
    "\n",
    "train_y = np.array(train_df[[\"Survived\"]].values, dtype = float)\n",
    "train_y = train_y.reshape(train_y.size)\n",
    "\n",
    "features = train.shape[1]\n",
    "# Random pick theta\n",
    "theta = np.random.random(features)\n",
    "# Initialize learning rate\n",
    "alpha = 0.007\n",
    "# Run gradient descent\n",
    "theta, cost_history = gradient_descent(theta, train_data, train_y, alpha)\n",
    "# Plot cost history\n",
    "plt.plot(cost_history)\n",
    "plt.ylabel('Cost')\n",
    "plt.xlabel('Iterations')\n",
    "plt.show()\n",
    "\n",
    "print(theta)"
   ]
  },
  {
   "cell_type": "code",
   "execution_count": null,
   "metadata": {},
   "outputs": [
    {
     "name": "stderr",
     "output_type": "stream",
     "text": [
      "C:\\Users\\Vivobook\\AppData\\Local\\Temp\\ipykernel_26040\\2211117934.py:21: RuntimeWarning: invalid value encountered in cast\n",
      "  output = pd.DataFrame({'PassengerId': test['PassengerId'], 'Survived': test_predictions.flatten().astype(int)})\n"
     ]
    }
   ],
   "source": [
    "\n",
    "test[\"Age\"] = test[\"Age\"].fillna(train[\"Age\"].median())\n",
    "\n",
    "test.loc[test[\"Embarked\"] == \"S\", \"Embarked\"] = 0\n",
    "test.loc[test[\"Embarked\"] == \"C\", \"Embarked\"] = 1\n",
    "test.loc[test[\"Embarked\"] == \"Q\", \"Embarked\"] = 2\n",
    "\n",
    "test.loc[test[\"Sex\"] == \"male\", \"Sex\"] = 0\n",
    "test.loc[test[\"Sex\"] == \"female\", \"Sex\"] = 1\n",
    "\n",
    "\n",
    "test_data = np.array(test[features].values, dtype=float)\n",
    "\n",
    "test_data = np.hstack((np.ones((test_data.shape[0], 1)), test_data))\n",
    "\n",
    "test_predictions = 1 / (1 + np.exp(-test_data @ theta))\n",
    "\n",
    "threshold = 0.5\n",
    "test_predictions[test_predictions >= threshold] = 1\n",
    "test_predictions[test_predictions < threshold] = 0\n",
    "\n",
    "output = pd.DataFrame({'PassengerId': test['PassengerId'], 'Survived': test_predictions.flatten().astype(int)})\n",
    "\n",
    "output.to_csv('submission.csv', index=False)"
   ]
  }
 ],
 "metadata": {
  "kernelspec": {
   "display_name": "Python 3",
   "language": "python",
   "name": "python3"
  },
  "language_info": {
   "codemirror_mode": {
    "name": "ipython",
    "version": 3
   },
   "file_extension": ".py",
   "mimetype": "text/x-python",
   "name": "python",
   "nbconvert_exporter": "python",
   "pygments_lexer": "ipython3",
   "version": "3.11.7"
  }
 },
 "nbformat": 4,
 "nbformat_minor": 2
}
