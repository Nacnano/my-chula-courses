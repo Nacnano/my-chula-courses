{
 "cells": [
  {
   "cell_type": "markdown",
   "metadata": {},
   "source": [
    "# Homework 1\n",
    "\n",
    "## Chotpisit Adunsehawat\n",
    "\n",
    "## Metrics\n",
    "\n",
    "|   Model A  | Predicted dog | Predicted cat |\n",
    "|:----------:|:-------------:|:-------------:|\n",
    "| Actual dog |       30      |       20      |\n",
    "| Actual cat |       10      |       40      |\n",
    "\n",
    "### T1\n",
    "\n",
    "Accuracy = (TP + TN) / (TP + TN + FP + FN) = (30 + 40) / (30 + 20 + 10 + 40) = 0.7\n",
    "\n",
    "### T2\n",
    "\n",
    "Precision = TP / (TP + FP) = 40 / (40 + 20) = 0.67\n",
    "Recall = TP / (TP + FN) =  40 / (40 + 10) = 0.8\n",
    "F1 =  2 * TP / (2*TP + FP + FN) = 2 * 40 / (2 * 40 + 20 + 10) = 0.73\n",
    "\n",
    "### T3\n",
    "\n",
    "Accuracy = (TP + TN) / (TP + TN + FP + FN) = (30 + 40) / 100 = 0.7\n",
    "Precision = TP / (TP + FP) = 30 / (30 + 10) = 0.75\n",
    "Recall = TP / (TP + FN) =  30 / (30 + 20) = 0.6\n",
    "F1 =  2 * TP / (2*TP + FP + FN) = 2 * 30 / (2 * 30 + 10 + 20) = 0.67\n",
    "\n",
    "### T4\n",
    "\n",
    "Let x be the total population\n",
    "Actual dog = 0.2x\n",
    "Actual cat = 0.8x\n",
    "\n",
    "Calculate the new values\n",
    "TP = 0.2x * 30 / (30 + 20) = 0.12x\n",
    "FN = 0.2x * 20 / (30 + 20) = 0.08x  \n",
    "FP = 0.8x * 10 / (10 + 40) = 0.16x\n",
    "TN = 0.8x * 40 / (10 + 40) = 0.64x\n",
    "\n",
    "Precision = 0.12x / (0.12x + 0.16x) = 0.4285\n",
    "Recall = 0.12x / (0.12x + 0.08x) = 0.6\n",
    "F1 = 2 * 0.4285 * 0.6 / (0.4285 + 0.6) = 0.49995\n",
    "\n",
    "\n",
    "### OT1\n",
    "\n",
    "Accuracy = (TP + TN) / (TP + TN + FP + FN) = 1 / (1 + (FP + FN) / (TP + TN)) \n",
    "F1 = 2TP / (2*TP + FP + FN) = 1 / (1 + (FP + FN / (2*TP)))\n",
    "\n",
    "Case TN = TP: Accraucy = F1\n",
    "Case TN > TP: Accraucy > F1\n",
    "Case TN < TP: Accraucy < F1\n",
    "\n",
    "---\n",
    "\n",
    "## Hello Clustering\n",
    "\n",
    "### T5\n",
    "\n",
    "#### Round 1\n",
    "\n",
    "Centriod 1 have assigned points (3, 3), (8, 8), (6, 6), (7, 7)\n",
    "The updated centriod = (6, 6)\n",
    "\n",
    "Centriod 2 have assigned points (1, 2), (2, 2)\n",
    "The updated centriod = (1.5, 2)\n",
    "\n",
    "Centriod 3 have assigned points (-3, -3), (2, -4), (-7, -7)\n",
    "The updated centriod = (-4, -4.67)\n",
    "\n",
    "\n",
    "#### Round 2\n",
    "\n",
    "Centriod 1 have assigned points (8, 8), (6, 6), (7, 7)\n",
    "The updated centriod = (7, 7)\n",
    "\n",
    "Centriod 2 have assigned points (1, 2), (2, 2), (3, 3)\n",
    "The updated centriod = (2, 2.33)\n",
    "\n",
    "Centriod 3 have assigned points (-3, -3), (2, -4), (-7, -7)\n",
    "The updated centriod = (-4, -4.67)\n",
    "\n",
    "#### Round 3\n",
    "\n",
    "Centriod 1 have assigned points (8, 8), (6, 6), (7, 7)\n",
    "The updated centriod = (7, 7)\n",
    "\n",
    "Centriod 2 have assigned points (1, 2), (2, 2), (3, 3)\n",
    "The updated centriod = (2, 2.33)\n",
    "\n",
    "Centriod 3 have assigned points (-3, -3), (2, -4), (-7, -7)\n",
    "The updated centriod = (-4, -4.67)\n",
    "\n",
    "The centriods in round 3 do not change. So the centriods is (7, 7), (2, 2.33), (-4, -4.67)\n",
    "\n",
    "\n",
    "### T6\n",
    "\n",
    "The centriods change to (-2.5, -3.5), (4.5, 4.67), (-7, -7)\n",
    "\n",
    "\n",
    "  \n",
    "\n"
   ]
  },
  {
   "cell_type": "code",
   "execution_count": 380,
   "metadata": {},
   "outputs": [],
   "source": [
    "import pandas as pd\n",
    "import numpy as np\n",
    "import matplotlib.pyplot as plt\n",
    "import copy"
   ]
  },
  {
   "cell_type": "code",
   "execution_count": 381,
   "metadata": {},
   "outputs": [],
   "source": [
    "class KMeans: \n",
    "  def __init__(self, points, starting_centriods):\n",
    "    self.points = points\n",
    "    self.centriods = starting_centriods\n",
    "    self.clusters = self.__find_clusters()\n",
    "    self.iterations = 0\n",
    "\n",
    "  def __find_clusters(self):\n",
    "    centriods = self.centriods.copy()\n",
    "    points = self.points.copy()\n",
    "    clusters = [[] for _ in range(len(centriods))]\n",
    "    for point in points.to_numpy():\n",
    "      distances = []\n",
    "      for centroid in centriods.to_numpy():\n",
    "        distance = np.linalg.norm(point - centroid)\n",
    "        distances.append(distance)\n",
    "      clusters[np.argmin(distances)].append(point)\n",
    "    self.clusters = clusters\n",
    "    return clusters\n",
    "  \n",
    "  def __update_centriods(self):\n",
    "    centriods = self.centriods.copy()\n",
    "    clusters = self.clusters.copy()\n",
    "    for i in range(len(clusters)):\n",
    "      clustered_points = clusters[i]\n",
    "      centriods.iloc[i] = np.mean(clustered_points, axis=0)\n",
    "    return centriods\n",
    "\n",
    "  def run(self):\n",
    "    self.centriods = self.__update_centriods()\n",
    "    self.clusters = self.__find_clusters()\n",
    "    self.iterations += 1\n",
    "\n",
    "  def plot(self):\n",
    "    colors = ['violet', 'limegreen', 'skyblue']\n",
    "    darken_colors = ['indigo', 'green', 'blue']\n",
    "    for i in range(len(self.clusters)):\n",
    "      clustered_points = np.array(self.clusters[i])\n",
    "      plt.scatter(clustered_points[:, 0], clustered_points[:, 1], label=i, c=colors[i])\n",
    "      plt.scatter(self.centriods['x'][i], self.centriods['y'][i], marker='*', c=darken_colors[i])\n",
    "    plt.legend()\n",
    "    plt.show()"
   ]
  },
  {
   "cell_type": "code",
   "execution_count": 382,
   "metadata": {},
   "outputs": [],
   "source": [
    "x = np.array([1, 3, 2, 8, 6, 7, -3, -2, -7])\n",
    "y = np.array([2, 3, 2, 8, 6, 7, -3, -4, -7])\n",
    "dataframe_points = pd.DataFrame({'x': x, 'y': y})"
   ]
  },
  {
   "cell_type": "code",
   "execution_count": 383,
   "metadata": {},
   "outputs": [
    {
     "name": "stderr",
     "output_type": "stream",
     "text": [
      "C:\\Users\\Vivobook\\AppData\\Local\\Temp\\ipykernel_26040\\51268784.py:26: FutureWarning: Setting an item of incompatible dtype is deprecated and will raise an error in a future version of pandas. Value '1.5' has dtype incompatible with int64, please explicitly cast to a compatible dtype first.\n",
      "  centriods.iloc[i] = np.mean(clustered_points, axis=0)\n",
      "C:\\Users\\Vivobook\\AppData\\Local\\Temp\\ipykernel_26040\\51268784.py:26: FutureWarning: Setting an item of incompatible dtype is deprecated and will raise an error in a future version of pandas. Value '-4.666666666666667' has dtype incompatible with int64, please explicitly cast to a compatible dtype first.\n",
      "  centriods.iloc[i] = np.mean(clustered_points, axis=0)\n"
     ]
    },
    {
     "data": {
      "image/png": "[encoded data removed]",
      "text/plain": [
       "<Figure size 640x480 with 1 Axes>"
      ]
     },
     "metadata": {},
     "output_type": "display_data"
    },
    {
     "name": "stderr",
     "output_type": "stream",
     "text": [
      "C:\\Users\\Vivobook\\AppData\\Local\\Temp\\ipykernel_26040\\51268784.py:26: FutureWarning: Setting an item of incompatible dtype is deprecated and will raise an error in a future version of pandas. Value '-2.5' has dtype incompatible with int64, please explicitly cast to a compatible dtype first.\n",
      "  centriods.iloc[i] = np.mean(clustered_points, axis=0)\n",
      "C:\\Users\\Vivobook\\AppData\\Local\\Temp\\ipykernel_26040\\51268784.py:26: FutureWarning: Setting an item of incompatible dtype is deprecated and will raise an error in a future version of pandas. Value '-3.5' has dtype incompatible with int64, please explicitly cast to a compatible dtype first.\n",
      "  centriods.iloc[i] = np.mean(clustered_points, axis=0)\n"
     ]
    },
    {
     "data": {
      "image/png": "[encoded data removed]",
      "text/plain": [
       "<Figure size 640x480 with 1 Axes>"
      ]
     },
     "metadata": {},
     "output_type": "display_data"
    }
   ],
   "source": [
    "\n",
    "starting_centriods = pd.DataFrame({\n",
    "  'x': [3, 2, -3], \n",
    "  'y': [3, 2, -3]\n",
    "})\n",
    "kMeans = KMeans(dataframe_points, starting_centriods)\n",
    "kMeans.run()\n",
    "kMeans.plot()\n",
    "\n",
    "starting_centriods = pd.DataFrame({\n",
    "  'x': [-3, 2, -7], \n",
    "  'y': [-3, 2, -7]\n",
    "})\n",
    "kMeans = KMeans(dataframe_points, starting_centriods)\n",
    "kMeans.run()\n",
    "kMeans.plot()"
   ]
  },
  {
   "cell_type": "markdown",
   "metadata": {},
   "source": [
    "### T7\n",
    "\n",
    "Judging from using my eyes, T5 is better because the grouping is more complete and is distributed equally.\n",
    "\n",
    "The goodness of the starting point can be measured using various metrics such as Silhouette Score, Within-Cluter Sum of Square, Variance Ratio, etc.\n",
    "\n",
    "### OT2\n",
    "K = 4 is the best for this data because of two reasons. First, I used my eyes to clearly see the grouping. Second, I used fraction of explained variance = 410.55 / 418.22 = 0.9816\n"
   ]
  },
  {
   "cell_type": "markdown",
   "metadata": {},
   "source": [
    "## My heart will go on "
   ]
  },
  {
   "cell_type": "code",
   "execution_count": 384,
   "metadata": {},
   "outputs": [],
   "source": [
    "train_url = \"http://s3.amazonaws.com/assets.datacamp.com/course/Kaggle/train.csv\"\n",
    "train = pd.read_csv(train_url) #training set\n",
    "test_url = \"http://s3.amazonaws.com/assets.datacamp.com/course/Kaggle/test.csv\"\n",
    "test = pd.read_csv(test_url) #test set\n",
    "\n",
    "train['Age'] = train[\"Age\"].median()\n",
    "test['Age'] = test[\"Age\"].median()"
   ]
  },
  {
   "cell_type": "markdown",
   "metadata": {},
   "source": [
    "### T8\n",
    "\n",
    "Median of age = 28\n",
    "\n",
    "\n",
    "### T9"
   ]
  },
  {
   "cell_type": "code",
   "execution_count": 385,
   "metadata": {},
   "outputs": [],
   "source": [
    "embark_mode = train['Embarked'].mode()[0]\n",
    "train[\"Embarked\"] = train[\"Embarked\"].fillna(embark_mode)\n",
    "train.loc[train[\"Embarked\"] == \"S\", \"Embarked\"] = 0\n",
    "train.loc[train[\"Embarked\"] == \"C\", \"Embarked\"] = 1\n",
    "train.loc[train[\"Embarked\"] == \"Q\", \"Embarked\"] = 2\n",
    "\n",
    "sex_mode = train[\"Sex\"].mode()[0]\n",
    "train[\"Sex\"] = train[\"Sex\"].fillna(sex_mode)\n",
    "train.loc[train[\"Sex\"] == \"male\", \"Sex\"] = 0\n",
    "train.loc[train[\"Sex\"] == \"female\", \"Sex\"] = 1"
   ]
  },
  {
   "cell_type": "markdown",
   "metadata": {},
   "source": [
    "### T10"
   ]
  },
  {
   "cell_type": "code",
   "execution_count": 386,
   "metadata": {},
   "outputs": [],
   "source": [
    "def sigmoid(x):\n",
    "  return np.array(1/(1+np.exp(-x)))\n",
    "\n",
    "def cost(theta, data, y):\n",
    "  m = data.shape[0]\n",
    "  predictions = np.array(sigmoid(np.dot(data, theta)))\n",
    "  cost = -(1/m)*(np.dot(y, np.log(predictions.T+1e-5)) + np.dot((1-y), np.log(1-predictions.T+1e-5)))\n",
    "  return cost\n",
    "\n",
    "def gradient(theta, data, y):\n",
    "  m = data.shape[0]\n",
    "  predictions = sigmoid(np.dot(data, theta))\n",
    "  error = predictions - y\n",
    "  gradient = (1/m)*np.dot(data.T, error)\n",
    "  return gradient\n",
    "\n",
    "def gradient_descent(theta, data, y, alpha=0.00001, iteration=10000):\n",
    "  cost_history = []\n",
    "  for _ in range(iteration):\n",
    "    cost_history.append(cost(theta, data, y))\n",
    "    theta = theta - alpha*gradient(theta, data, y)\n",
    "  return theta, cost_history\n",
    "\n",
    "def predict(data, theta, raw):\n",
    "  predictions = np.array(sigmoid(np.dot(data, theta)))\n",
    "  predictions = np.where(predictions >  0.5, 1, predictions)\n",
    "  predictions = np.where(predictions <= 0.5, 0, predictions)\n",
    "  predictions = np.array(predictions, dtype = int)\n",
    "  print(\"Survived\", np.count_nonzero(predictions))\n",
    "  result = pd.DataFrame({\n",
    "    \"PassengerId\": raw[\"PassengerId\"],\n",
    "    \"Survived\": predictions\n",
    "  })\n",
    "  return result\n",
    "\n",
    "def compare_prediction(actual, prediction):\n",
    "  df = pd.DataFrame({\n",
    "    \"Actual\": actual,\n",
    "    \"Prediction\": prediction,\n",
    "    \"Compare\": actual == prediction\n",
    "  })\n",
    "  return df[\"Compare\"].sum()/len(actual)"
   ]
  },
  {
   "cell_type": "code",
   "execution_count": 387,
   "metadata": {},
   "outputs": [],
   "source": [
    "embark_mode = test['Embarked'].mode()[0]\n",
    "test[\"Embarked\"] = test[\"Embarked\"].fillna(embark_mode)\n",
    "test.loc[test[\"Embarked\"] == \"S\", \"Embarked\"] = 0\n",
    "test.loc[test[\"Embarked\"] == \"C\", \"Embarked\"] = 1\n",
    "test.loc[test[\"Embarked\"] == \"Q\", \"Embarked\"] = 2\n",
    "\n",
    "sex_mode = test[\"Sex\"].mode()[0]\n",
    "test[\"Sex\"] = test[\"Sex\"].fillna(sex_mode)\n",
    "test.loc[test[\"Sex\"] == \"male\", \"Sex\"] = 0\n",
    "test.loc[test[\"Sex\"] == \"female\", \"Sex\"] = 1"
   ]
  },
  {
   "cell_type": "code",
   "execution_count": 388,
   "metadata": {},
   "outputs": [
    {
     "data": {
      "image/png": "[encoded data removed]",
      "text/plain": [
       "<Figure size 640x480 with 1 Axes>"
      ]
     },
     "metadata": {},
     "output_type": "display_data"
    },
    {
     "name": "stdout",
     "output_type": "stream",
     "text": [
      "[ 0.32126882  0.50645839 -0.05757502  0.54331299]\n"
     ]
    }
   ],
   "source": [
    "train_df = copy.deepcopy(train)\n",
    "test_df  = copy.deepcopy(test)\n",
    "\n",
    "train_data = np.array(train_df[[\"Pclass\",\"Sex\",\"Age\",\"Embarked\"]].values, dtype = float)\n",
    "test_data = np.array(test_df[[\"Pclass\",\"Sex\",\"Age\",\"Embarked\"]].values, dtype = float)\n",
    "\n",
    "train_y = np.array(train_df[[\"Survived\"]].values, dtype = float)\n",
    "train_y = train_y.reshape(train_y.size)\n",
    "\n",
    "features = train_data.shape[1]\n",
    "theta = np.random.random(features)\n",
    "alpha = 0.00001\n",
    "theta, cost_history = gradient_descent(theta, train_data, train_y, alpha)\n",
    "plt.plot(cost_history)\n",
    "plt.ylabel('Cost')\n",
    "plt.xlabel('Iterations')\n",
    "plt.show()\n",
    "\n",
    "print(theta)"
   ]
  },
  {
   "cell_type": "code",
   "execution_count": 389,
   "metadata": {},
   "outputs": [
    {
     "name": "stdout",
     "output_type": "stream",
     "text": [
      "Train Survived 342\n",
      "Survived 106\n",
      "Accuracy 0.6139169472502806\n",
      "Survived 58\n"
     ]
    }
   ],
   "source": [
    "print(\"Train Survived\", np.count_nonzero(train[\"Survived\"]))\n",
    "result = predict(train_data, theta, train_df)\n",
    "print(\"Accuracy\", compare_prediction(train_y, result[\"Survived\"]))\n",
    "result = predict(test_data, theta, test_df)\n",
    "result.to_csv(\"submission_T10.csv\", index = False)"
   ]
  },
  {
   "cell_type": "markdown",
   "metadata": {},
   "source": [
    "### T11\n",
    "\n",
    "![image.png](T10.png)\n",
    "\n",
    "### T12"
   ]
  },
  {
   "cell_type": "code",
   "execution_count": 390,
   "metadata": {},
   "outputs": [
    {
     "name": "stderr",
     "output_type": "stream",
     "text": [
      "C:\\Users\\Vivobook\\AppData\\Local\\Temp\\ipykernel_26040\\4007677916.py:2: RuntimeWarning: overflow encountered in exp\n",
      "  return np.array(1/(1+np.exp(-x)))\n"
     ]
    },
    {
     "data": {
      "image/png": "[encoded data removed]",
      "text/plain": [
       "<Figure size 640x480 with 1 Axes>"
      ]
     },
     "metadata": {},
     "output_type": "display_data"
    },
    {
     "name": "stdout",
     "output_type": "stream",
     "text": [
      "[-0.10195023  0.72325052  0.43389933  0.17557107  0.54471342 -1.04274988]\n",
      "Train Survived 342\n",
      "Survived 0\n",
      "Accuracy 0.6161616161616161\n",
      "Survived 0\n"
     ]
    }
   ],
   "source": [
    "train_df = copy.deepcopy(train)\n",
    "test_df  = copy.deepcopy(test)\n",
    "\n",
    "train_df[\"Age_2\"] = train_df['Age'] ** 2\n",
    "test_df[\"Age_2\"] = test_df['Age'] ** 2\n",
    "\n",
    "train_df[\"Age_3\"] = train_df['Age'] ** 3\n",
    "test_df[\"Age_3\"] = test_df['Age'] ** 3\n",
    "\n",
    "train_df[\"Age_3\"] = train_df['Age'] ** 3\n",
    "test_df[\"Age_3\"] = test_df['Age'] ** 3\n",
    "\n",
    "\n",
    "train_data = np.array(train_df[[\"Pclass\",\"Sex\",\"Age\",\"Embarked\", \"Age_2\", \"Age_3\"]].values, dtype = float)\n",
    "test_data = np.array(test_df[[\"Pclass\",\"Sex\",\"Age\",\"Embarked\", \"Age_2\", \"Age_3\"]].values, dtype = float)\n",
    "\n",
    "train_y = np.array(train_df[[\"Survived\"]].values, dtype = float)\n",
    "train_y = train_y.reshape(train_y.size)\n",
    "\n",
    "features = train_data.shape[1]\n",
    "theta = np.random.random(features)\n",
    "alpha = 0.0001\n",
    "iterations = 10000\n",
    "theta, cost_history = gradient_descent(theta, train_data, train_y, alpha)\n",
    "print(theta)\n",
    "\n",
    "print(\"Train Survived\", np.count_nonzero(train[\"Survived\"]))\n",
    "result = predict(train_data, theta, train_df)\n",
    "print(\"Accuracy\", compare_prediction(train_y, result[\"Survived\"]))\n",
    "result = predict(test_data, theta, test_df)\n",
    "result.to_csv(\"submission_T12.csv\", index = False)"
   ]
  },
  {
   "cell_type": "markdown",
   "metadata": {},
   "source": [
    "The accuaracy decreases to 0.62"
   ]
  },
  {
   "cell_type": "markdown",
   "metadata": {},
   "source": [
    "### T13\n",
    "\n",
    "The accuracy also decreases to 0.62"
   ]
  },
  {
   "cell_type": "code",
   "execution_count": 391,
   "metadata": {},
   "outputs": [
    {
     "data": {
      "image/png": "[encoded data removed]",
      "text/plain": [
       "<Figure size 640x480 with 1 Axes>"
      ]
     },
     "metadata": {},
     "output_type": "display_data"
    },
    {
     "name": "stdout",
     "output_type": "stream",
     "text": [
      "[ 0.25725025 -0.02019282]\n",
      "Train Survived 342\n",
      "Survived 0\n",
      "Accuracy 0.6161616161616161\n",
      "Survived 0\n"
     ]
    }
   ],
   "source": [
    "train_df = copy.deepcopy(train)\n",
    "test_df  = copy.deepcopy(test)\n",
    "\n",
    "train_data = np.array(train_df[[\"Sex\",\"Age\"]].values, dtype = float)\n",
    "test_data = np.array(test_df[[\"Sex\",\"Age\"]].values, dtype = float)\n",
    "\n",
    "train_y = np.array(train_df[[\"Survived\"]].values, dtype = float)\n",
    "train_y = train_y.reshape(train_y.size)\n",
    "\n",
    "features = train_data.shape[1]\n",
    "theta = np.random.random(features)\n",
    "alpha = 0.0001\n",
    "iterations = 10000\n",
    "theta, cost_history = gradient_descent(theta, train_data, train_y, alpha)\n",
    "plt.plot(cost_history)\n",
    "plt.ylabel('Cost')\n",
    "plt.xlabel('Iterations')\n",
    "plt.show()\n",
    "\n",
    "print(theta)\n",
    "\n",
    "print(\"Train Survived\", np.count_nonzero(train[\"Survived\"]))\n",
    "result = predict(train_data, theta, train_df)\n",
    "print(\"Accuracy\", compare_prediction(train_y, result[\"Survived\"]))\n",
    "result = predict(test_data, theta, test_df)\n",
    "result.to_csv(\"submission_T13.csv\", index = False)"
   ]
  },
  {
   "cell_type": "markdown",
   "metadata": {},
   "source": [
    "### OT3"
   ]
  },
  {
   "cell_type": "code",
   "execution_count": 479,
   "metadata": {},
   "outputs": [],
   "source": [
    "def linear_regression(X, y, learning_rate, num_iterations):\n",
    "    theta = np.zeros(X.shape[1])\n",
    "    \n",
    "    for _ in range(num_iterations):\n",
    "        predictions = X @ theta\n",
    "        diff = y - predictions\n",
    "        loss = X.T @ diff\n",
    "\n",
    "        theta = theta + learning_rate / X.shape[0] * loss\n",
    "    \n",
    "    return theta"
   ]
  },
  {
   "cell_type": "code",
   "execution_count": 496,
   "metadata": {},
   "outputs": [
    {
     "name": "stdout",
     "output_type": "stream",
     "text": [
      "[-0.16024524  0.5089065   0.01991192  0.0467863 ]\n"
     ]
    }
   ],
   "source": [
    "import numpy as np\n",
    "import copy\n",
    "\n",
    "train_df = copy.deepcopy(train)\n",
    "test_df = copy.deepcopy(test)\n",
    "\n",
    "train_data = np.array(train_df[[\"Pclass\",\"Sex\",\"Age\",\"Embarked\"]].values, dtype=float)\n",
    "test_data = np.array(test_df[[\"Pclass\",\"Sex\",\"Age\",\"Embarked\"]].values, dtype=float)\n",
    "\n",
    "train_y = np.array(train_df[[\"Survived\"]].values, dtype=float)\n",
    "train_y = train_y.reshape(train_y.size)\n",
    "\n",
    "learning_rate = 0.001\n",
    "num_iterations = 100000\n",
    "\n",
    "theta = linear_regression(train_data, train_y, learning_rate, num_iterations)\n",
    "\n",
    "print(theta)\n",
    "theta_gradient_descent = theta\n"
   ]
  },
  {
   "cell_type": "markdown",
   "metadata": {},
   "source": [
    "### OT4"
   ]
  },
  {
   "cell_type": "code",
   "execution_count": 497,
   "metadata": {},
   "outputs": [],
   "source": [
    "def linear_regression_matrix_inversion(data, y):\n",
    "    X = data\n",
    "    theta_matrix_inversion = np.linalg.inv(X.T @ X) @ X.T @ y\n",
    "    return theta_matrix_inversion"
   ]
  },
  {
   "cell_type": "code",
   "execution_count": 498,
   "metadata": {},
   "outputs": [
    {
     "name": "stdout",
     "output_type": "stream",
     "text": [
      "[-0.16024524  0.5089065   0.01991192  0.0467863 ]\n",
      "Train Survived 342\n",
      "Survived 314\n",
      "Accuracy 0.7867564534231201\n",
      "Survived 152\n"
     ]
    }
   ],
   "source": [
    "train_df = copy.deepcopy(train)\n",
    "test_df  = copy.deepcopy(test)\n",
    "\n",
    "\n",
    "train_data = np.array(train_df[[\"Pclass\",\"Sex\",\"Age\",\"Embarked\"]].values, dtype = float)\n",
    "test_data = np.array(test_df[[\"Pclass\",\"Sex\",\"Age\",\"Embarked\"]].values, dtype = float)\n",
    "\n",
    "train_y = np.array(train_df[[\"Survived\"]].values, dtype = float)\n",
    "train_y = train_y.reshape(train_y.size)\n",
    "\n",
    "\n",
    "theta = linear_regression_matrix_inversion(train_data, train_y)\n",
    "\n",
    "print(theta)\n",
    "theta_matrix_inversion = theta\n"
   ]
  },
  {
   "cell_type": "code",
   "execution_count": 499,
   "metadata": {},
   "outputs": [
    {
     "name": "stdout",
     "output_type": "stream",
     "text": [
      "4.877067121223004e-20\n"
     ]
    }
   ],
   "source": [
    "MSE = np.power(theta_gradient_descent - theta_matrix_inversion, 2).sum()\n",
    "print(MSE)"
   ]
  }
 ],
 "metadata": {
  "kernelspec": {
   "display_name": "Python 3",
   "language": "python",
   "name": "python3"
  },
  "language_info": {
   "codemirror_mode": {
    "name": "ipython",
    "version": 3
   },
   "file_extension": ".py",
   "mimetype": "text/x-python",
   "name": "python",
   "nbconvert_exporter": "python",
   "pygments_lexer": "ipython3",
   "version": "3.11.7"
  }
 },
 "nbformat": 4,
 "nbformat_minor": 2
}
