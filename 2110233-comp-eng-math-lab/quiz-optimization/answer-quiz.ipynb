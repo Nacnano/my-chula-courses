{
 "cells": [
  {
   "cell_type": "markdown",
   "metadata": {},
   "source": [
    "## 1. Ham Deng"
   ]
  },
  {
   "cell_type": "code",
   "execution_count": 1,
   "metadata": {},
   "outputs": [
    {
     "data": {
      "text/plain": [
       "(array([ 0., 14.,  0.,  2.,  0.,  0.]), 190000.0)"
      ]
     },
     "execution_count": 1,
     "metadata": {},
     "output_type": "execute_result"
    }
   ],
   "source": [
    "from scipy.optimize import linprog\n",
    "import numpy as np\n",
    "\n",
    "# Coefficients for the objective function (costs of campaigns)\n",
    "c = [1000, 10000, 10000, 25000, 50000, 600000]  # x1, x2, x3, x4, x5, x6\n",
    "\n",
    "# Coefficients for the constraints (reach)\n",
    "A_ub = [\n",
    "    [-1000, -50000, -20000, -150000, -50000, -500000]  # We need 1 million people reached, so convert >= to <= with negation\n",
    "]\n",
    "\n",
    "b_ub = [-1000000]  # At least 1 million people need to be reached\n",
    "\n",
    "# Upper bounds on the number of campaigns that can be run\n",
    "A_ub += [\n",
    "    [1, 0, 0, 0, 0, 0],  # x1 <= 30\n",
    "    [0, 1, 0, 0, 0, 0],  # x2 <= 30\n",
    "    [0, 0, 1, 0, 0, 0],  # x3 <= 30\n",
    "    [0, 0, 0, 1, 0, 0],  # x4 <= 2\n",
    "    [0, 0, 0, 0, 1, 0],  # x5 <= 6\n",
    "    [0, 0, 0, 0, 0, 1],  # x6 <= 15\n",
    "    [0, 0, 0, 0, 1, 1]   # x5 + x6 <= 1 (mutual exclusivity)\n",
    "]\n",
    "\n",
    "# Corresponding right-hand side values for the upper bounds\n",
    "b_ub += [30, 30, 30, 2, 6, 15, 1]\n",
    "\n",
    "# Bounds for each decision variable (0 <= x_i <= 1)\n",
    "x_bounds = [(0, None) for _ in range(6)]\n",
    "\n",
    "# Solve using linprog\n",
    "result = linprog(c, A_ub=A_ub, b_ub=b_ub, bounds=x_bounds, method='highs')\n",
    "\n",
    "# Output the result\n",
    "result.x, result.fun\n"
   ]
  },
  {
   "cell_type": "markdown",
   "metadata": {},
   "source": [
    "## 2. The Buff Boss "
   ]
  },
  {
   "cell_type": "code",
   "execution_count": null,
   "metadata": {},
   "outputs": [],
   "source": []
  },
  {
   "cell_type": "markdown",
   "metadata": {},
   "source": [
    "## 3. Deadline Driven Development"
   ]
  },
  {
   "cell_type": "code",
   "execution_count": null,
   "metadata": {},
   "outputs": [],
   "source": []
  }
 ],
 "metadata": {
  "kernelspec": {
   "display_name": "Python 3",
   "language": "python",
   "name": "python3"
  },
  "language_info": {
   "codemirror_mode": {
    "name": "ipython",
    "version": 3
   },
   "file_extension": ".py",
   "mimetype": "text/x-python",
   "name": "python",
   "nbconvert_exporter": "python",
   "pygments_lexer": "ipython3",
   "version": "3.11.9"
  }
 },
 "nbformat": 4,
 "nbformat_minor": 2
}
